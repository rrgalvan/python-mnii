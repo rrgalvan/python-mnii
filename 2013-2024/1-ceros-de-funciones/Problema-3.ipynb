{
 "cells": [
  {
   "cell_type": "markdown",
   "metadata": {},
   "source": [
    "# Método de Newton\n",
    "\n",
    "Consideremos la función $f(x)=2e^x-(x+1/2)^2$. Nos proponemos:\n",
    "\n",
    "1. Determinar, gráficamete, un intervalo en el que se verifiquen las hipótesis de la regla de Fourier para $f$.\n",
    "2. Aproximar la solución de $f(x)=0$ mediante el método de Newton"
   ]
  },
  {
   "cell_type": "code",
   "execution_count": 1,
   "metadata": {},
   "outputs": [],
   "source": [
    "# Sólo para Python 2\n",
    "# from __future__ import division, print_function \n",
    "\n",
    "import numpy as np\n",
    "import matplotlib.pyplot as plt\n",
    "%matplotlib inline"
   ]
  },
  {
   "cell_type": "code",
   "execution_count": 2,
   "metadata": {},
   "outputs": [
    {
     "name": "stdout",
     "output_type": "stream",
     "text": [
      "[a,b] = [-2.000000,0.000000]\n"
     ]
    },
    {
     "data": {
      "text/plain": [
       "<matplotlib.legend.Legend at 0x7f2e40118ef0>"
      ]
     },
     "execution_count": 2,
     "metadata": {},
     "output_type": "execute_result"
    },
    {
     "data": {
      "image/png": "[encoded data removed]",
      "text/plain": [
       "<matplotlib.figure.Figure at 0x7f2e4112b518>"
      ]
     },
     "metadata": {},
     "output_type": "display_data"
    }
   ],
   "source": [
    "def f(x): return 2*np.exp(x) - (x+0.5)**2\n",
    "def df(x): return 2*np.exp(x) - 2*(x+0.5)\n",
    "def d2f(x): return 2*np.exp(x) - 2\n",
    "\n",
    "# Mediante prueba y error, llegamos a este intervalo donde f cambia\n",
    "# el signo pero f'>0 y \n",
    "a,b = -2, 0 \n",
    "print(\"[a,b] = [%f,%f]\" % (a,b))\n",
    "\n",
    "x = np.linspace(a, b,100)\n",
    "plt.plot(x, f(x), c=\"red\", linewidth=4)\n",
    "plt.plot(x, df(x), c=\"gray\", lw=2)\n",
    "plt.plot(x, d2f(x), c=\"orange\")\n",
    "\n",
    "plt.grid()\n",
    "plt.axhline(c='k');\n",
    "plt.legend([r\"$f(x)$\",r\"$f'(x)$\",r\"$f''(x)$\"])"
   ]
  },
  {
   "cell_type": "markdown",
   "metadata": {},
   "source": [
    "Ahora programamos el método de Newton (es muy fácil si nos basamos en el programa de punto fijo visto en prácticas anteriores)"
   ]
  },
  {
   "cell_type": "code",
   "execution_count": 3,
   "metadata": {},
   "outputs": [],
   "source": [
    "def newton(f, df, x0, tol=1e-10, maxiter=100):\n",
    "    \"\"\"Cálculo de una solución de $f(x)=0$ mediante el método de Newton.\n",
    "    \n",
    "    Argumentos:\n",
    "        f: Función considerada\n",
    "        df: Función derivada de f\n",
    "        x0 : Estimación inicial\n",
    "        tol: Tolerancia (diferencia entre dos iteraciones sucesivas)\n",
    "        maxiter: Número máximo de iteraciones admitidas\n",
    "    Valores devueltos: (x, niter) con\n",
    "        x: Aproximación del punto fijo\n",
    "        niter: Número de iteraciones realizadas\n",
    "    \"\"\"\n",
    "    k = 0\n",
    "    error = tol\n",
    "    while k<maxiter and error >= tol:    \n",
    "        x1 = x0-f(x0)/df(x0) # Iteración de punto fijo\n",
    "        error = abs(x1-x0)\n",
    "        x0 = x1 # Preparamos la siguiente iteración\n",
    "        k = k+1\n",
    "        \n",
    "    # Si se llegó al número máximo de iteraciones, lanzar una excepción\n",
    "    if k==maxiter: \n",
    "        raise ValueError(\"Error de convergencia!\") \n",
    "        \n",
    "    # Si todo fue bien, devolvemos la solución y el número de iteraciones\n",
    "    return x1, k"
   ]
  },
  {
   "cell_type": "code",
   "execution_count": 4,
   "metadata": {},
   "outputs": [
    {
     "name": "stdout",
     "output_type": "stream",
     "text": [
      "Aproximación por el m. de Newton: -1.25506090604\n",
      "Número de iteraciones: 5\n",
      "Resíduo: |f(x)| = 0.0000000000000000\n"
     ]
    }
   ],
   "source": [
    "x0 = -2 # Inicialización sugerida por la regla de Fourier\n",
    "x, niter = newton(f,df,x0)\n",
    "print(\"Aproximación por el m. de Newton:\", x)\n",
    "print(\"Número de iteraciones:\", niter) \n",
    "print(\"Resíduo: |f(x)| = %1.16f\" % abs(f(x)))"
   ]
  },
  {
   "cell_type": "code",
   "execution_count": null,
   "metadata": {},
   "outputs": [],
   "source": []
  },
  {
   "cell_type": "code",
   "execution_count": null,
   "metadata": {
    "collapsed": true
   },
   "outputs": [],
   "source": []
  }
 ],
 "metadata": {
  "kernelspec": {
   "display_name": "Python 3",
   "language": "python",
   "name": "python3"
  },
  "language_info": {
   "codemirror_mode": {
    "name": "ipython",
    "version": 3
   },
   "file_extension": ".py",
   "mimetype": "text/x-python",
   "name": "python",
   "nbconvert_exporter": "python",
   "pygments_lexer": "ipython3",
   "version": "3.7.6"
  }
 },
 "nbformat": 4,
 "nbformat_minor": 1
}
