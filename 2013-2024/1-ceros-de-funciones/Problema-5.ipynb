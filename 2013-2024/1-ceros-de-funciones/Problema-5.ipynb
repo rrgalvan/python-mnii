{
 "cells": [
  {
   "cell_type": "markdown",
   "metadata": {},
   "source": [
    "## Pregunta 1\n",
    "\n",
    "Consideremos la función\n",
    "\n",
    "$$f(x)=x-3\\arctan(x)+1$$\n",
    "\n",
    "1. Demostrar que, en el intervalo $[2,+\\infty]$, existe una única solución, $\\alpha_1$, de $f(x)=0$. Representar la gráfica de $f$ y conjeturar, gráficamente, la existencia de otras dos raíces $\\alpha_2\\in [0,1]$ y $\\alpha_3\\in[-6,-4]$.\n",
    "\n",
    "2. Programar una función que realice un número dado de iteraciones del método de Newton y devuelva una lista, llamada `lista_x` , formada por todas las iteraciones, $x_k$, realizadas\n",
    "3. Partiendo de $x_0=2$, calcular el número de iteraciones necesarias para aproximar $\\alpha_1$ mediante el método de Newton con un error menor que $\\varepsilon=10^{-15}$. Para ello, utilizar la función programada en el apartado anterior. Mostrar una tabla con todas las iteraciones realizadas (por ejemplo, se puede usar la función `print` o, mejor el paquete *pandas*, véase el Problema-0 del Tema1)."
   ]
  },
  {
   "cell_type": "code",
   "execution_count": 4,
   "metadata": {},
   "outputs": [
    {
     "name": "stdout",
     "output_type": "stream",
     "text": [
      "Populating the interactive namespace from numpy and matplotlib\n"
     ]
    },
    {
     "name": "stderr",
     "output_type": "stream",
     "text": [
      "/home/cucharro/.local/lib/python3.5/site-packages/IPython/core/magics/pylab.py:161: UserWarning: pylab import has clobbered these variables: ['f']\n",
      "`%matplotlib` prevents importing * from pylab and numpy\n",
      "  \"\\n`%matplotlib` prevents importing * from pylab and numpy\"\n"
     ]
    }
   ],
   "source": [
    "%pylab inline"
   ]
  },
  {
   "cell_type": "code",
   "execution_count": 5,
   "metadata": {},
   "outputs": [
    {
     "data": {
      "image/png": "[encoded data removed]",
      "text/plain": [
       "<matplotlib.figure.Figure at 0x7efecd7875f8>"
      ]
     },
     "metadata": {},
     "output_type": "display_data"
    }
   ],
   "source": [
    "f = lambda x: x-3*np.arctan(x)+1\n",
    "x = linspace(-6,4,num=300)\n",
    "plot(x,f(x), lw=2)\n",
    "axhline(c='k'); axvline(c='k')\n",
    "grid()"
   ]
  },
  {
   "cell_type": "markdown",
   "metadata": {},
   "source": [
    "## Apartado 1\n",
    "\n",
    "Dada $f(x)=x-3\\arctan(x)+1$, veamos que hay un único cero en $[2,+\\infty$):\n",
    "\n",
    "1. Hay un cambio de signo en $[2,4]$: $f(2)\\cdot f(4)<0$\n",
    "2. Veamos que $f'(x)>0$ si $x\\ge 2$:\n",
    "    $$\n",
    "    f'(x)=1-\\frac{3}{1+x^2}\n",
    "    $$\n",
    "    Si $x\\ge 2$, entonces $1+x^2\\ge 1+2^2=5>3$, por tanto $\\frac{3}{1+x^2}<1$ y así $f'(x)>0$. \n",
    "    \n",
    "Además, a la vista de la gráfica, podemos conjeturar que existen otros dos ceros en $[-6,4]$ y en $[0,1]$."
   ]
  },
  {
   "cell_type": "markdown",
   "metadata": {},
   "source": [
    "## Apartado 2"
   ]
  },
  {
   "cell_type": "code",
   "execution_count": 6,
   "metadata": {},
   "outputs": [],
   "source": [
    "def newton(f, df, x0, tol=1e-15, maxiter=100):\n",
    "    \"\"\"Cálculo de una solución de $f(x)=0$ mediante el método de Newton.\n",
    "    \n",
    "    Argumentos:\n",
    "        f: Función considerada\n",
    "        df: Función derivada de f\n",
    "        x0 : Estimación inicial\n",
    "        tol: Tolerancia (diferencia entre dos iteraciones sucesivas)\n",
    "        maxiter: Número máximo de iteraciones admitidas\n",
    "    Valores devueltos: (x, niter) con\n",
    "        x: Aproximación del punto fijo\n",
    "        niter: Número de iteraciones realizadas\n",
    "    \"\"\"\n",
    "    k = 0\n",
    "    diferencia = tol\n",
    "    lista_x = [x0]\n",
    "    while k<maxiter and diferencia >= tol:    \n",
    "        x1 = x0-f(x0)/df(x0) # Iteración de Newton\n",
    "        lista_x.append(x1)\n",
    "        diferencia = abs(x1-x0) # Preparamos la siguiente iteración\n",
    "        x0 = x1 \n",
    "        k = k+1\n",
    "        \n",
    "    # Si se llegó al número máximo de iteraciones, lanzar una excepción (un \"error\")\n",
    "    if k==maxiter: \n",
    "        raise ValueError(\"Error de convergencia!\") \n",
    "        \n",
    "    # Si todo fue bien, devolvemos la solución y el número de iteraciones\n",
    "    return lista_x"
   ]
  },
  {
   "cell_type": "code",
   "execution_count": 7,
   "metadata": {},
   "outputs": [
    {
     "name": "stdout",
     "output_type": "stream",
     "text": [
      "Lista de aproximaciones: [2, 2.8036153834556781, 2.6235866782722992, 2.6176585217579817, 2.6176513053514689, 2.6176513053407358, 2.6176513053407358]\n",
      "Número de iteraciones: 7 \n",
      "Última aproximación: 2.617651\n"
     ]
    }
   ],
   "source": [
    "df = lambda x: 1-3/(1+x**2)\n",
    "df(0)\n",
    "lista_x = newton(f,df,x0=2)\n",
    "print(\"Lista de aproximaciones:\", lista_x)\n",
    "print(\"Número de iteraciones: %d \" % len(lista_x))\n",
    "print(\"Última aproximación: %1.6f\" % lista_x[-1])"
   ]
  },
  {
   "cell_type": "markdown",
   "metadata": {},
   "source": [
    "## Apartado 3\n",
    "\n",
    "Según la estimación a posteriori en el método de Newton:\n",
    "$$\n",
    "|x_{k+1}-\\alpha_1| < \\frac{M_2}{2m_1} |x_{k+1}-x_k|,\n",
    "$$\n",
    "donde\n",
    "$$\n",
    "M_2=\\max_{x\\in[a,b]} \\left|f''(x)\\right|, \\quad m_1=\\min_{x\\in[a,b]} \\left|f'(x)\\right|.\n",
    "$$\n",
    "\n",
    "Así, para que $|x_{k+1}-\\alpha_1|<\\varepsilon$, basta calcular $k\\in\\mathbb{N}$ tal que\n",
    "$$\n",
    "    \\frac{M_2}{2m_1}  |x_{k+1}-x_k|\\le \\varepsilon \\quad\\mbox{es decir}\\quad |x_{k+1}-x_k| \\le \\frac{2m_1}{M_2}\\varepsilon.\n",
    "$$\n"
   ]
  },
  {
   "cell_type": "code",
   "execution_count": 8,
   "metadata": {},
   "outputs": [
    {
     "data": {
      "image/png": "[encoded data removed]",
      "text/plain": [
       "<matplotlib.figure.Figure at 0x7efecd40d6a0>"
      ]
     },
     "metadata": {},
     "output_type": "display_data"
    }
   ],
   "source": [
    "a,b=2,4\n",
    "x=linspace(2,4)\n",
    "\n",
    "subplot(2,1,1)\n",
    "plot(x,df(x),label=\"f'(x)\")\n",
    "legend()\n",
    "grid()\n",
    "\n",
    "subplot(2,1,2)\n",
    "d2f = lambda x: 6*x/(1+x**2)**2\n",
    "plot(x,d2f(x), label=\"f''(x)\")\n",
    "legend()\n",
    "grid()"
   ]
  },
  {
   "cell_type": "code",
   "execution_count": 9,
   "metadata": {},
   "outputs": [
    {
     "name": "stdout",
     "output_type": "stream",
     "text": [
      "m_1=0.400000, M_2=0.480000\n"
     ]
    }
   ],
   "source": [
    "m1=df(a)\n",
    "M2=d2f(a)\n",
    "print(\"m_1=%f, M_2=%f\" % (m1, M2))"
   ]
  },
  {
   "cell_type": "code",
   "execution_count": null,
   "metadata": {
    "collapsed": true
   },
   "outputs": [],
   "source": []
  }
 ],
 "metadata": {
  "kernelspec": {
   "display_name": "Python 3",
   "language": "python",
   "name": "python3"
  },
  "language_info": {
   "codemirror_mode": {
    "name": "ipython",
    "version": 3
   },
   "file_extension": ".py",
   "mimetype": "text/x-python",
   "name": "python",
   "nbconvert_exporter": "python",
   "pygments_lexer": "ipython3",
   "version": "3.7.6"
  }
 },
 "nbformat": 4,
 "nbformat_minor": 1
}
