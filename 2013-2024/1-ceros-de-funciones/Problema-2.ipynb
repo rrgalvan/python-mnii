{
 "cells": [
  {
   "cell_type": "markdown",
   "metadata": {},
   "source": [
    "# Método de Punto fijo."
   ]
  },
  {
   "cell_type": "markdown",
   "metadata": {},
   "source": [
    "Consideremos el problema de punto fijo $x=g(x)$, con \n",
    "\n",
    "> $$g(x)=\\frac{1}{2+x}.$$  \n",
    "\n",
    "Probar que existe una única solución en el intervalo $[0,1]$ y que método de aproximaciones sucesivas $x_{k+1}=g(x_k)$ converge hacia una solución para cualquier inicialización, $x_0\\in[0,1]$. Aproximar la solución con un error menor que $\\varepsilon=10^{-8}$."
   ]
  },
  {
   "cell_type": "markdown",
   "metadata": {},
   "source": [
    "## 1. Existencia y unicidad de solución\n",
    "\n",
    "Veamos que $g$ está en las hipótesis del teorema de punto fijo en $[0,1]$ (lo que implica la existencia de un único punto fijo al que converge el método de aproximaciones sucesivas).\n",
    "\n",
    "### Hiṕótesis 1: $g([0,1])\\subset [0,1]$:\n",
    "\n",
    "* Es fácil ver que $g$ es decreciente en $[0,1]$, pues es derivable en todo este intervalo y $g'(x)=\\frac{-1}{(2+x)^2}$\n",
    "* Por lo tanto basta ver que $g(0)\\in [0,1]$ y $g(1)\\in [0,1]$. Pero esto es muy fácil: $g(0)= 1/2$, $g(1)=1/3 \\in [0,1]$\n",
    "\n",
    "### Hipótesis 2: $|g'(x)|<1$ para todo $x\\in [0,1]$\n",
    "\n",
    "Ver que $|g'(x)|<1$ para todo $x\\in [0,+\\infty)$ es fácil: Si $x\\ge 0$, tenemos $2+x \\ge 2$ y así $|g'(x)|=\\frac{1}{(2+x)^2} \\le \\frac{1}{4} < 1$.\n"
   ]
  },
  {
   "cell_type": "markdown",
   "metadata": {},
   "source": [
    "## 2. Aproximación del punto fijo"
   ]
  },
  {
   "cell_type": "code",
   "execution_count": 1,
   "metadata": {},
   "outputs": [],
   "source": [
    "# Sólo para Python 2\n",
    "# from __future__ import division, print_function \n",
    "\n",
    "import numpy as np\n",
    "import matplotlib.pyplot as plt"
   ]
  },
  {
   "cell_type": "code",
   "execution_count": 2,
   "metadata": {},
   "outputs": [
    {
     "data": {
      "image/png": "[encoded data removed]",
      "text/plain": [
       "<matplotlib.figure.Figure at 0x7f948e1c4da0>"
      ]
     },
     "metadata": {},
     "output_type": "display_data"
    }
   ],
   "source": [
    "g = lambda x: 1.0/(2+x)\n",
    "\n",
    "x = np.linspace(0,1)\n",
    "plt.plot(x, x, \"--\", color=\"black\", linewidth=2, label=\"$y=x$\")\n",
    "plt.plot(x, g(x), color=\"red\", linewidth=4, label=\"$y=g(x)=(2+x)^{-1}$\")\n",
    "plt.legend()\n",
    "plt.grid()\n",
    "plt.show()"
   ]
  },
  {
   "cell_type": "markdown",
   "metadata": {},
   "source": [
    "Geométricamente, el punto fijo parece estar en torno a $x=0.4$ (intersección de las curvas $y=x$ e $y=g(x)$). Vamos a aproximar la solución mediante el método de punto fijo (o de aproximaciones sucesivas):"
   ]
  },
  {
   "cell_type": "code",
   "execution_count": 3,
   "metadata": {},
   "outputs": [
    {
     "name": "stdout",
     "output_type": "stream",
     "text": [
      "Aproximación del pto. fijo: 0.414213562373142\n",
      "Número de iteraciones: 16\n"
     ]
    }
   ],
   "source": [
    "def punto_fijo(g, x0, tol=1e-12, maxiter=100):\n",
    "    \"\"\"Cálculo de un punto fijo de la función g(x) mediante el\n",
    "    método de aproximaciones sucesivas, $x_{k+1} = g(x_k)$.\n",
    "    \n",
    "    Argumentos:\n",
    "        g: Función considerada\n",
    "        x0 : Estimación inicial del punto fijo\n",
    "        tol: Tolerancia (diferencia entre dos iteraciones sucesivas)\n",
    "        maxiter: Número máximo de iteraciones admitidas\n",
    "    Valores devueltos: (x, niter) con\n",
    "        x: Aproximación del punto fijo\n",
    "        niter: Número de iteraciones realizadas\n",
    "    \"\"\"\n",
    "    \n",
    "    k = 0\n",
    "    error = tol\n",
    "    while k<maxiter and error >= tol:    \n",
    "        x1 = g(x0) # Iteración de punto fijo\n",
    "        error = abs(x1-x0)\n",
    "        x0 = x1 # Preparamos la siguiente iteración\n",
    "        k = k+1\n",
    "        \n",
    "    # Si se llegó al número máximo de iteraciones, lanzar una excepción (un \"error\")\n",
    "    if k==maxiter: \n",
    "        raise ValueError(\"Error de convergencia!\") \n",
    "        \n",
    "    # Si todo fue bien, devolvemos la solución y el número de iteraciones\n",
    "    return x1, k\n",
    "  \n",
    "x, niter = punto_fijo(g, 0.5)\n",
    "print(u\"Aproximación del pto. fijo:\", x)\n",
    "print(u\"Número de iteraciones:\", niter)"
   ]
  },
  {
   "cell_type": "code",
   "execution_count": 4,
   "metadata": {},
   "outputs": [
    {
     "name": "stdout",
     "output_type": "stream",
     "text": [
      "Residuo, |x-g(x)| = 5.5011550870176507e-14\n"
     ]
    }
   ],
   "source": [
    "# Como estimación del resultado, podemos analizar el \"residuo\" de la aproximación\n",
    "print (\"Residuo, |x-g(x)| =\", abs(x-g(x)))"
   ]
  },
  {
   "cell_type": "markdown",
   "metadata": {},
   "source": [
    "## 3. Aproximar la solución con un error menor que $\\varepsilon=10^{-8}$\n",
    "\n",
    "Según la estimación a priori del error en el método de p. fijo,\n",
    "\n",
    "$$\n",
    "|x_{k+1}-\\alpha| \\le \\frac{\\lambda}{1-\\lambda}\\left| x_{k+1}-x_k\\right| = \\frac{1/4}{1-1/4}\\left| x_{k+1}-x_k\\right| = \\frac 1 3 \\left| x_{k+1}-x_k \\right|,\n",
    "$$\n",
    "donde se ha tomado como constante de contractividad $\\lambda=1/4$ (cota de $g'(x)$).\n",
    "\n",
    "Luego, para que $|x_{k+1}-\\alpha| < 10^{-8}$, es suficiente que $|x_{k+1}-x_k|< 3\\cdot 10^{-8}$:"
   ]
  },
  {
   "cell_type": "code",
   "execution_count": 5,
   "metadata": {},
   "outputs": [
    {
     "name": "stdout",
     "output_type": "stream",
     "text": [
      "x = 0.41421356421356420041, niter = 10\n",
      "Residuo, |x-g(x)| = 2.156243683604231e-09\n"
     ]
    }
   ],
   "source": [
    "x, niter = punto_fijo(g, 0.5, tol=3e-8)\n",
    "\n",
    "print (\"x = %2.20f, niter = %i\" % (x, niter))\n",
    "print (\"Residuo, |x-g(x)| =\", abs(x-g(x)))"
   ]
  },
  {
   "cell_type": "code",
   "execution_count": null,
   "metadata": {
    "collapsed": true
   },
   "outputs": [],
   "source": []
  }
 ],
 "metadata": {
  "kernelspec": {
   "display_name": "Python 3 (ipykernel)",
   "language": "python",
   "name": "python3"
  },
  "language_info": {
   "codemirror_mode": {
    "name": "ipython",
    "version": 3
   },
   "file_extension": ".py",
   "mimetype": "text/x-python",
   "name": "python",
   "nbconvert_exporter": "python",
   "pygments_lexer": "ipython3",
   "version": "3.10.6"
  }
 },
 "nbformat": 4,
 "nbformat_minor": 1
}
