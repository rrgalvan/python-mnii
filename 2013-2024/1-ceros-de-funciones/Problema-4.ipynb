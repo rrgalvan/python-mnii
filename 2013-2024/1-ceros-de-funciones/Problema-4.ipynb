{
 "cells": [
  {
   "cell_type": "markdown",
   "metadata": {},
   "source": [
    "# Problema 4. Cálculo de $\\sqrt{2}$\n",
    "\n",
    "Utilizaremos el método de Newton y el método de la Secante para aproximar el valor de $\\sqrt 2$, calculando la raíz positiva de la función\n",
    "$$\n",
    "f(x)=x^2-2.\n",
    "$$\n",
    "\n",
    "### 1. Método de Newton"
   ]
  },
  {
   "cell_type": "code",
   "execution_count": 13,
   "metadata": {},
   "outputs": [],
   "source": [
    "from __future__ import division, print_function # Sólo para Python 2\n",
    "import numpy as np\n",
    "import matplotlib.pyplot as plt\n",
    "%matplotlib inline"
   ]
  },
  {
   "cell_type": "code",
   "execution_count": 14,
   "metadata": {},
   "outputs": [
    {
     "name": "stdout",
     "output_type": "stream",
     "text": [
      "[a,b] = [0.000000,2.000000]\n"
     ]
    },
    {
     "data": {
      "text/plain": [
       "<matplotlib.legend.Legend at 0x7fd35cfa3850>"
      ]
     },
     "execution_count": 14,
     "metadata": {},
     "output_type": "execute_result"
    },
    {
     "data": {
      "image/png": "[encoded data removed]",
      "text/plain": [
       "<matplotlib.figure.Figure at 0x7fd35cfa38d0>"
      ]
     },
     "metadata": {},
     "output_type": "display_data"
    }
   ],
   "source": [
    "f = lambda x: x**2-2\n",
    "\n",
    "# Mediante prueba y error, llegamos a este intervalo donde f cambia\n",
    "# el signo pero f'>0 y \n",
    "a,b = 0, 2\n",
    "print(\"[a,b] = [%f,%f]\" % (a,b))\n",
    "\n",
    "x = np.linspace(a, b,100)\n",
    "plt.plot(x, f(x), c=\"red\", linewidth=3)\n",
    "\n",
    "plt.grid()\n",
    "plt.axhline(c='k');\n",
    "plt.legend([r\"$f(x)$\",r\"$f'(x)$\",r\"$f''(x)$\"])"
   ]
  },
  {
   "cell_type": "markdown",
   "metadata": {},
   "source": [
    "Ahora programamos el método de Newton (es muy fácil si nos basamos en el programa de punto fijo visto en prácticas anteriores)"
   ]
  },
  {
   "cell_type": "code",
   "execution_count": 23,
   "metadata": {},
   "outputs": [],
   "source": [
    "def newton(f, df, x0, tol=1e-10, maxiter=100):\n",
    "    \"\"\"Cálculo de una solución de $f(x)=0$ mediante el método de Newton.\n",
    "    \n",
    "    Argumentos:\n",
    "        f: Función considerada\n",
    "        df: Función derivada de f\n",
    "        x0 : Estimación inicial\n",
    "        tol: Tolerancia (diferencia entre dos iteraciones sucesivas)\n",
    "        maxiter: Número máximo de iteraciones admitidas\n",
    "    Valores devueltos: (x, niter) con\n",
    "        x: Aproximación del punto fijo\n",
    "        niter: Número de iteraciones realizadas\n",
    "    \"\"\"\n",
    "    k = 0\n",
    "    while k<maxiter:\n",
    "        x1 = x0-f(x0)/df(x0) # Iteración de punto fijo\n",
    "        if abs(x1-x0) < tol: break        \n",
    "        x0 = x1 # Preparamos la siguiente iteración\n",
    "        k = k+1\n",
    "        \n",
    "    # Si se llegó al número máximo de iteraciones, lanzar una excepción\n",
    "    if k==maxiter: \n",
    "        raise ValueError(\"Error de convergencia!\") \n",
    "        \n",
    "    # Si todo fue bien, devolvemos la solución y el número de iteraciones\n",
    "    return x1, k"
   ]
  },
  {
   "cell_type": "code",
   "execution_count": 24,
   "metadata": {},
   "outputs": [
    {
     "name": "stdout",
     "output_type": "stream",
     "text": [
      "Aproximación de $\\sqrt{2}$ por el m. de Newton: 1.41421356237\n",
      "Número de iteraciones: 4\n",
      "Resíduo: |f(x)| = 0.0000000000000004\n"
     ]
    }
   ],
   "source": [
    "x0 = 2 # Inicialización sugerida por la regla de Fourier\n",
    "x, niter = newton(f,df,x0)\n",
    "print(\"Aproximación de $\\sqrt{2}$ por el m. de Newton:\", x)\n",
    "print(\"Número de iteraciones:\", niter) \n",
    "print(\"Resíduo: |f(x)| = %1.16f\" % abs(f(x)))"
   ]
  },
  {
   "cell_type": "markdown",
   "metadata": {},
   "source": [
    "### 2. Método de la Secante\n",
    "\n",
    "El *método de la secante* se puede interpretar como una variante del método de Newton en el que aproximamos la derivada en $x_k$ por el cociente incremental $(f(x_k)-f(x_{k-1}))/(x_k-x_{k-1})$. Geométricamente, consiste en sustituir el cálculo de la tangente en $x_k$ por la secante que pasa por los puntos $(x_k, f(x_k))$ y $(x_{k-1},f(x_{k-1}))$.  \n",
    "\n",
    "Supongamos que $f$ tiene una única solución en\n",
    "$[a,b]$, siendo $f(a)f(b)<0$. Construimos una sucesión recursiva tal y como sigue:\n",
    "\n",
    "- Como inicialización, fijamos, por ejemplo, $x_0=a$ y $x_1=b$.\n",
    "\n",
    "- En la etapa $k+1$: Calculamos $x_{k+1}$ usando la expresión:\n",
    "    $$\n",
    "      x_{k+1} = x_k - f(x_k) \\frac{x_k-x_{k-1}}{f(x_k)-f(x_{k-1})}\n",
    "    $$\n"
   ]
  },
  {
   "cell_type": "code",
   "execution_count": 25,
   "metadata": {},
   "outputs": [],
   "source": [
    "def secante(f, x0, x1, tol=1e-10, maxiter=100):\n",
    "    \"\"\"Cálculo de una solución de $f(x)=0$ mediante el método de la secante.\n",
    "    \n",
    "    Argumentos:\n",
    "        f: Función considerada\n",
    "        x0, x1 : Estimaciones iniciales\n",
    "        tol: Tolerancia (diferencia entre dos iteraciones sucesivas)\n",
    "        maxiter: Número máximo de iteraciones admitidas\n",
    "    Valores devueltos: (x, niter) con\n",
    "        x: Aproximación del punto fijo\n",
    "        niter: Número de iteraciones realizadas\n",
    "    \"\"\"\n",
    "    k = 0\n",
    "    while k<maxiter:\n",
    "        x = x1-f(x1)*(x1-x0)/(f(x1)-f(x0)) # Iteración de punto fijo\n",
    "        if abs(x-x1) < tol: break        \n",
    "        x0, x1 = x1, x # Preparamos la siguiente iteración\n",
    "        k = k+1\n",
    "        \n",
    "    # Si se llegó al número máximo de iteraciones, lanzar una excepción\n",
    "    if k==maxiter: \n",
    "        raise ValueError(\"Error de convergencia!\") \n",
    "        \n",
    "    # Si todo fue bien, devolvemos la solución y el número de iteraciones\n",
    "    return x, k"
   ]
  },
  {
   "cell_type": "code",
   "execution_count": 26,
   "metadata": {},
   "outputs": [
    {
     "name": "stdout",
     "output_type": "stream",
     "text": [
      "Aproximación de $\\sqrt{2}$ por el m. de la secante: 1.41421356237\n",
      "Número de iteraciones: 7\n",
      "Resíduo: |f(x)| = 0.0000000000000004\n"
     ]
    }
   ],
   "source": [
    "x0, x1 = a, b\n",
    "x, niter = secante(f,x0, x1)\n",
    "print(\"Aproximación de $\\sqrt{2}$ por el m. de la secante:\", x)\n",
    "print(\"Número de iteraciones:\", niter) \n",
    "print(\"Resíduo: |f(x)| = %1.16f\" % abs(f(x)))"
   ]
  },
  {
   "cell_type": "code",
   "execution_count": null,
   "metadata": {},
   "outputs": [],
   "source": []
  }
 ],
 "metadata": {
  "kernelspec": {
   "display_name": "Python 3",
   "language": "python",
   "name": "python3"
  },
  "language_info": {
   "codemirror_mode": {
    "name": "ipython",
    "version": 3
   },
   "file_extension": ".py",
   "mimetype": "text/x-python",
   "name": "python",
   "nbconvert_exporter": "python",
   "pygments_lexer": "ipython3",
   "version": "3.7.6"
  }
 },
 "nbformat": 4,
 "nbformat_minor": 1
}
