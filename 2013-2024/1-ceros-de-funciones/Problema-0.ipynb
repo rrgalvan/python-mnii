{
 "cells": [
  {
   "cell_type": "markdown",
   "metadata": {},
   "source": [
    "# Problema 0: Sucesiones recursivas y errores de truncamiento"
   ]
  },
  {
   "cell_type": "markdown",
   "metadata": {},
   "source": [
    "Cálculo de cifras decimales de $\\pi$ mediante la Fórmula de Viète (producto infinito publicado en 1593 por François Viète):\n",
    "\\begin{equation*}\n",
    "    \\frac{2}{\\pi}  = \\prod_{k\\to\\infty} \\frac{a_k}2, \\qquad\\text{donde }\\quad\n",
    "        a_1 = \\sqrt{2}, \\quad a_{k+1} = \\sqrt{2+a_k}.\n",
    "\\end{equation*}"
   ]
  },
  {
   "cell_type": "code",
   "execution_count": 1,
   "metadata": {},
   "outputs": [
    {
     "name": "stdout",
     "output_type": "stream",
     "text": [
      "Populating the interactive namespace from numpy and matplotlib\n"
     ]
    }
   ],
   "source": [
    "from __future__ import division, print_function # Sólo para Python 2\n",
    "\n",
    "# Importar todo numpy y matplotlib en el espacio de nombres actual (desaconsejado\n",
    "# en \"proyectos serios\")\n",
    "%pylab inline"
   ]
  },
  {
   "cell_type": "code",
   "execution_count": 2,
   "metadata": {},
   "outputs": [
    {
     "name": "stdout",
     "output_type": "stream",
     "text": [
      "Errores absolutos: [  3.13165529e-01   8.01251947e-02   2.01475013e-02   5.04416304e-03\n",
      "   1.26149664e-03   3.15402657e-04   7.88524455e-05   1.97132227e-05\n",
      "   4.92831263e-06   1.23207859e-06   3.08019676e-07   7.70049211e-08\n",
      "   1.92512304e-08   4.81280793e-09   1.20320243e-09]\n"
     ]
    }
   ],
   "source": [
    "def aprox_viete(n):\n",
    "    a = [sqrt(2)]\n",
    "    for k in range(n):\n",
    "        a.append(sqrt(2+a[k]))\n",
    "    p = product( array(a)/2.0 )\n",
    "    return (2.0/p)\n",
    "\n",
    "lista_viete = []\n",
    "n = 15\n",
    "for k in range(n):\n",
    "    lista_viete.append( aprox_viete(k) )\n",
    "\n",
    "# Lo definimos de otra forma: { aprox_viete(k) / k\\in {0,...,n-1} }\n",
    "lista_viete = [ aprox_viete(k) for k in range(n) ]\n",
    "# Errores absolutos\n",
    "\n",
    "errores_abs = abs( array(lista_viete) - pi )\n",
    "print(\"Errores absolutos:\", errores_abs)"
   ]
  },
  {
   "cell_type": "code",
   "execution_count": 3,
   "metadata": {},
   "outputs": [
    {
     "data": {
      "text/plain": [
       "<matplotlib.text.Text at 0x7f1894d18198>"
      ]
     },
     "execution_count": 3,
     "metadata": {},
     "output_type": "execute_result"
    },
    {
     "data": {
      "image/png": "[encoded data removed]",
      "text/plain": [
       "<matplotlib.figure.Figure at 0x7f1896d55550>"
      ]
     },
     "metadata": {},
     "output_type": "display_data"
    }
   ],
   "source": [
    "x = range(n)\n",
    "y = errores_abs\n",
    "bar(x,y,color=\"green\")\n",
    "grid()\n",
    "title(\"Errores absolutos\")"
   ]
  },
  {
   "cell_type": "markdown",
   "metadata": {},
   "source": [
    "### Análisis del lograritmo de los errores"
   ]
  },
  {
   "cell_type": "code",
   "execution_count": 4,
   "metadata": {},
   "outputs": [
    {
     "data": {
      "text/plain": [
       "<Container object of 15 artists>"
      ]
     },
     "execution_count": 4,
     "metadata": {},
     "output_type": "execute_result"
    },
    {
     "data": {
      "image/png": "[encoded data removed]",
      "text/plain": [
       "<matplotlib.figure.Figure at 0x7f1894ca22b0>"
      ]
     },
     "metadata": {},
     "output_type": "display_data"
    }
   ],
   "source": [
    "# Los errores en la gráfica anterior parecen decrecer exponencialmente. \n",
    "# En efecto, si tomamos logaritmo decrecen de forma lineal:\n",
    "errores_log = abs(log(errores_abs))\n",
    "bar(range(n), errores_log)"
   ]
  },
  {
   "cell_type": "code",
   "execution_count": 5,
   "metadata": {},
   "outputs": [
    {
     "data": {
      "text/html": [
       "<div style=\"max-height:1000px;max-width:1500px;overflow:auto;\">\n",
       "<table border=\"1\" class=\"dataframe\">\n",
       "  <thead>\n",
       "    <tr style=\"text-align: right;\">\n",
       "      <th></th>\n",
       "      <th>$\\approx\\pi$</th>\n",
       "      <th>$e_k$</th>\n",
       "      <th>$\\log e_k$</th>\n",
       "    </tr>\n",
       "  </thead>\n",
       "  <tbody>\n",
       "    <tr>\n",
       "      <th>0 </th>\n",
       "      <td> 2.828427</td>\n",
       "      <td> 3.131655e-01</td>\n",
       "      <td>  1.161023</td>\n",
       "    </tr>\n",
       "    <tr>\n",
       "      <th>1 </th>\n",
       "      <td> 3.061467</td>\n",
       "      <td> 8.012519e-02</td>\n",
       "      <td>  2.524165</td>\n",
       "    </tr>\n",
       "    <tr>\n",
       "      <th>2 </th>\n",
       "      <td> 3.121445</td>\n",
       "      <td> 2.014750e-02</td>\n",
       "      <td>  3.904675</td>\n",
       "    </tr>\n",
       "    <tr>\n",
       "      <th>3 </th>\n",
       "      <td> 3.136548</td>\n",
       "      <td> 5.044163e-03</td>\n",
       "      <td>  5.289524</td>\n",
       "    </tr>\n",
       "    <tr>\n",
       "      <th>4 </th>\n",
       "      <td> 3.140331</td>\n",
       "      <td> 1.261497e-03</td>\n",
       "      <td>  6.675456</td>\n",
       "    </tr>\n",
       "    <tr>\n",
       "      <th>5 </th>\n",
       "      <td> 3.141277</td>\n",
       "      <td> 3.154027e-04</td>\n",
       "      <td>  8.061660</td>\n",
       "    </tr>\n",
       "    <tr>\n",
       "      <th>6 </th>\n",
       "      <td> 3.141514</td>\n",
       "      <td> 7.885245e-05</td>\n",
       "      <td>  9.447932</td>\n",
       "    </tr>\n",
       "    <tr>\n",
       "      <th>7 </th>\n",
       "      <td> 3.141573</td>\n",
       "      <td> 1.971322e-05</td>\n",
       "      <td> 10.834221</td>\n",
       "    </tr>\n",
       "    <tr>\n",
       "      <th>8 </th>\n",
       "      <td> 3.141588</td>\n",
       "      <td> 4.928313e-06</td>\n",
       "      <td> 12.220514</td>\n",
       "    </tr>\n",
       "    <tr>\n",
       "      <th>9 </th>\n",
       "      <td> 3.141591</td>\n",
       "      <td> 1.232079e-06</td>\n",
       "      <td> 13.606808</td>\n",
       "    </tr>\n",
       "    <tr>\n",
       "      <th>10</th>\n",
       "      <td> 3.141592</td>\n",
       "      <td> 3.080197e-07</td>\n",
       "      <td> 14.993102</td>\n",
       "    </tr>\n",
       "    <tr>\n",
       "      <th>11</th>\n",
       "      <td> 3.141593</td>\n",
       "      <td> 7.700492e-08</td>\n",
       "      <td> 16.379397</td>\n",
       "    </tr>\n",
       "    <tr>\n",
       "      <th>12</th>\n",
       "      <td> 3.141593</td>\n",
       "      <td> 1.925123e-08</td>\n",
       "      <td> 17.765691</td>\n",
       "    </tr>\n",
       "    <tr>\n",
       "      <th>13</th>\n",
       "      <td> 3.141593</td>\n",
       "      <td> 4.812808e-09</td>\n",
       "      <td> 19.151985</td>\n",
       "    </tr>\n",
       "    <tr>\n",
       "      <th>14</th>\n",
       "      <td> 3.141593</td>\n",
       "      <td> 1.203202e-09</td>\n",
       "      <td> 20.538279</td>\n",
       "    </tr>\n",
       "  </tbody>\n",
       "</table>\n",
       "</div>"
      ],
      "text/plain": [
       "    $\\approx\\pi$         $e_k$  $\\log e_k$\n",
       "0       2.828427  3.131655e-01    1.161023\n",
       "1       3.061467  8.012519e-02    2.524165\n",
       "2       3.121445  2.014750e-02    3.904675\n",
       "3       3.136548  5.044163e-03    5.289524\n",
       "4       3.140331  1.261497e-03    6.675456\n",
       "5       3.141277  3.154027e-04    8.061660\n",
       "6       3.141514  7.885245e-05    9.447932\n",
       "7       3.141573  1.971322e-05   10.834221\n",
       "8       3.141588  4.928313e-06   12.220514\n",
       "9       3.141591  1.232079e-06   13.606808\n",
       "10      3.141592  3.080197e-07   14.993102\n",
       "11      3.141593  7.700492e-08   16.379397\n",
       "12      3.141593  1.925123e-08   17.765691\n",
       "13      3.141593  4.812808e-09   19.151985\n",
       "14      3.141593  1.203202e-09   20.538279"
      ]
     },
     "execution_count": 5,
     "metadata": {},
     "output_type": "execute_result"
    }
   ],
   "source": [
    "import pandas # Python Data Analyisis Library, http://pandas.pydata.org\n",
    "datos = array([lista_viete,errores_abs, errores_log]) # Array 2 x n\n",
    "datos = datos.transpose() # Array n x 2 (2 columnas de datos)\n",
    "df = pandas.DataFrame(datos, columns=[r\"$\\approx\\pi$\", r\"$e_k$\", r\"$\\log e_k$\"]) # r\" = raw string\"\n",
    "df"
   ]
  },
  {
   "cell_type": "code",
   "execution_count": null,
   "metadata": {},
   "outputs": [],
   "source": []
  }
 ],
 "metadata": {
  "kernelspec": {
   "display_name": "Python 3 (ipykernel)",
   "language": "python",
   "name": "python3"
  },
  "language_info": {
   "codemirror_mode": {
    "name": "ipython",
    "version": 3
   },
   "file_extension": ".py",
   "mimetype": "text/x-python",
   "name": "python",
   "nbconvert_exporter": "python",
   "pygments_lexer": "ipython3",
   "version": "3.10.6"
  }
 },
 "nbformat": 4,
 "nbformat_minor": 1
}
