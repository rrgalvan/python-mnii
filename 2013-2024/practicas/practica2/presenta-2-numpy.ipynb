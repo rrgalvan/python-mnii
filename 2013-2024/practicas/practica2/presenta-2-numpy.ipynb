{
 "cells": [
  {
   "cell_type": "markdown",
   "metadata": {
    "jukit_cell_id": "xgtrWSbIEq"
   },
   "source": [
    "# Introducción a Python numérico.+\n",
    "\n",
    "# Parte 2: arrays y gráficas"
   ]
  },
  {
   "cell_type": "markdown",
   "metadata": {
    "jukit_cell_id": "tqDXeauxhr"
   },
   "source": [
    "## 1. Arrays con *Numpy*"
   ]
  },
  {
   "cell_type": "markdown",
   "metadata": {},
   "source": [
    "Comenzaremos importando la biblioteca `numpy` de forma explícita. Una convección prácticamente generalizada es utilizar la abreviatura np para referirse a ella"
   ]
  },
  {
   "cell_type": "code",
   "execution_count": 1,
   "metadata": {},
   "outputs": [],
   "source": [
    "import numpy as np"
   ]
  },
  {
   "cell_type": "markdown",
   "metadata": {},
   "source": [
    "A partir de este momento, podemos empezar a utilizar esta biblioteca. El concepto fundamental de NumPy es el de *array* $n-$dimensional. Utilizaremos la palabra ***array*** para designar a una rejilla de datos (usualmente numéricos), almacenados de forma consecutiva en la memoria del ordenador. Con las siguientes características:\n",
    "- Todos sus elentos son del mismo tipo (denominado *dtype* del array). Usualmente, los elementos son números reales en doble precisión.\n",
    "- Los elementos de un *array* se pueden indexar de varias formas, con el fin de acceder a ellos.\n",
    "\n",
    "Por ejemplo:\n",
    "- para $n=1$, un array se puede identificar con un vector\n",
    "- para $n=2$, un array se puede identificar con una matriz\n",
    "\n",
    "### Creación de arrays"
   ]
  },
  {
   "cell_type": "code",
   "execution_count": 2,
   "metadata": {},
   "outputs": [
    {
     "data": {
      "text/plain": [
       "array([1, 2, 3])"
      ]
     },
     "execution_count": 2,
     "metadata": {},
     "output_type": "execute_result"
    }
   ],
   "source": [
    "# Crear un vector a partir de una lista \n",
    "v = np.array([1,2,3])\n",
    "v"
   ]
  },
  {
   "cell_type": "code",
   "execution_count": 3,
   "metadata": {},
   "outputs": [
    {
     "data": {
      "text/plain": [
       "array([[1, 2, 3],\n",
       "       [4, 5, 6]])"
      ]
     },
     "execution_count": 3,
     "metadata": {},
     "output_type": "execute_result"
    }
   ],
   "source": [
    "# Crear una matriz a partir de una lista\n",
    "A = np.array(\n",
    "    [ \n",
    "    [1,2,3],\n",
    "    [4,5,6] \n",
    "    ]\n",
    ")\n",
    "A"
   ]
  },
  {
   "cell_type": "code",
   "execution_count": 4,
   "metadata": {},
   "outputs": [
    {
     "data": {
      "text/plain": [
       "(numpy.ndarray, numpy.ndarray)"
      ]
     },
     "execution_count": 4,
     "metadata": {},
     "output_type": "execute_result"
    }
   ],
   "source": [
    "# Son elementos del mismo tipo\n",
    "type(v), type(A)"
   ]
  },
  {
   "cell_type": "code",
   "execution_count": 5,
   "metadata": {
    "collapsed": true
   },
   "outputs": [
    {
     "name": "stdout",
     "output_type": "stream",
     "text": [
      "(3,)\n",
      "(2, 3)\n",
      "filas: 2 columnas: 3\n"
     ]
    }
   ],
   "source": [
    "# Pero tienen distinta «forma» (*shape*)...\n",
    "print(v.shape)\n",
    "print(A.shape)\n",
    "n, m = A.shape\n",
    "print(\"filas:\", n, \"columnas:\", m)"
   ]
  },
  {
   "cell_type": "code",
   "execution_count": 6,
   "metadata": {},
   "outputs": [
    {
     "data": {
      "text/plain": [
       "(3, 6)"
      ]
     },
     "execution_count": 6,
     "metadata": {},
     "output_type": "execute_result"
    }
   ],
   "source": [
    "# ... y distinto tamaño o número de elementos (*size*)\n",
    "v.size, A.size"
   ]
  },
  {
   "cell_type": "code",
   "execution_count": 7,
   "metadata": {},
   "outputs": [
    {
     "data": {
      "text/plain": [
       "(3, 2)"
      ]
     },
     "execution_count": 7,
     "metadata": {},
     "output_type": "execute_result"
    }
   ],
   "source": [
    "# El tamaño  (*length*) de una matriz o un vector coindicdn con el número de filas:\n",
    "len(v), len(A)"
   ]
  },
  {
   "cell_type": "code",
   "execution_count": 8,
   "metadata": {},
   "outputs": [
    {
     "data": {
      "text/plain": [
       "dtype('int64')"
      ]
     },
     "execution_count": 8,
     "metadata": {},
     "output_type": "execute_result"
    }
   ],
   "source": [
    "# Todos los elementos de un array tienen el mismo tipo\n",
    "v.dtype"
   ]
  },
  {
   "cell_type": "code",
   "execution_count": 9,
   "metadata": {},
   "outputs": [
    {
     "data": {
      "text/plain": [
       "dtype('float64')"
      ]
     },
     "execution_count": 9,
     "metadata": {},
     "output_type": "execute_result"
    }
   ],
   "source": [
    "# El tipo se puede seleccionar al construir el array (`dtype=<tipo>`)\n",
    "w = np.array([0,1,2,3], dtype=\"float\")\n",
    "w.dtype"
   ]
  },
  {
   "cell_type": "markdown",
   "metadata": {},
   "source": [
    "#### ¿Por qué no usar simplemente listas de Python para los cálculos?\n",
    "\n",
    "Hasta ahora el numpy.ndarray se parece mucho a una lista de Python. ¿Por qué no usar simplemente listas de Python para los cálculos en lugar de crear un nuevo tipo de array?\n",
    "\n",
    "Hay varias razones:\n",
    "\n",
    "    Las listas de Python son muy generales, pueden contener cualquier tipo de objeto.\n",
    "    Esta gran flexibilidad es una ventaja pero también un inconveniente\n",
    "    Por ejemplo, implementar funciones como suma, resta, producto etc para las listas de Python no sería eficiente\n",
    "\n",
    "Sin embargo, los arrays de Numpy...\n",
    "\n",
    "    son de tipo estático y homogéneos. El tipo de los elementos se determina cuando se crea el array.\n",
    "    Son eficientes en cuanto a consumo de memoria\n",
    "    La implementación rápida de funciones matemáticas como la multiplicación y la suma de arrays numpy es muy eficiente: puede ser implementada en un lenguaje compilado (se utiliza C y Fortran).\n",
    "\n",
    "### Generación de arrays mediante funciones especializadas\n",
    "\n",
    "#### Función arange (array range)\n",
    "\n",
    "    Argumentos: inicio, fin, incremento\n",
    "    El último valor NO está incluído (coherencia con rangos en python y función range)"
   ]
  },
  {
   "cell_type": "code",
   "execution_count": 10,
   "metadata": {},
   "outputs": [
    {
     "data": {
      "text/plain": [
       "array([0. , 0.1, 0.2, 0.3, 0.4, 0.5, 0.6, 0.7, 0.8, 0.9, 1. , 1.1, 1.2,\n",
       "       1.3, 1.4, 1.5, 1.6, 1.7, 1.8, 1.9, 2. , 2.1, 2.2, 2.3, 2.4, 2.5,\n",
       "       2.6, 2.7, 2.8, 2.9])"
      ]
     },
     "execution_count": 10,
     "metadata": {},
     "output_type": "execute_result"
    }
   ],
   "source": [
    "np.arange(0, 3, 0.1)  # Intervalo [0,3)"
   ]
  },
  {
   "cell_type": "markdown",
   "metadata": {},
   "source": [
    "#### Función `linspace` (*linearly spaced values*)\n",
    "- Argumentos: inicio, fin\n",
    "- Argumento optativo: `num` (número de elementos, por defecto 50\n",
    "    - `? np.linspace`)\n",
    "- El último valor *sí* está incluído"
   ]
  },
  {
   "cell_type": "code",
   "execution_count": 13,
   "metadata": {},
   "outputs": [
    {
     "data": {
      "text/plain": [
       "array([0.        , 0.06122449, 0.12244898, 0.18367347, 0.24489796,\n",
       "       0.30612245, 0.36734694, 0.42857143, 0.48979592, 0.55102041,\n",
       "       0.6122449 , 0.67346939, 0.73469388, 0.79591837, 0.85714286,\n",
       "       0.91836735, 0.97959184, 1.04081633, 1.10204082, 1.16326531,\n",
       "       1.2244898 , 1.28571429, 1.34693878, 1.40816327, 1.46938776,\n",
       "       1.53061224, 1.59183673, 1.65306122, 1.71428571, 1.7755102 ,\n",
       "       1.83673469, 1.89795918, 1.95918367, 2.02040816, 2.08163265,\n",
       "       2.14285714, 2.20408163, 2.26530612, 2.32653061, 2.3877551 ,\n",
       "       2.44897959, 2.51020408, 2.57142857, 2.63265306, 2.69387755,\n",
       "       2.75510204, 2.81632653, 2.87755102, 2.93877551, 3.        ])"
      ]
     },
     "execution_count": 13,
     "metadata": {},
     "output_type": "execute_result"
    }
   ],
   "source": [
    "x = np.linspace(0, 3)  # Intervalo [0,3]\n",
    "x"
   ]
  },
  {
   "cell_type": "code",
   "execution_count": 14,
   "metadata": {},
   "outputs": [
    {
     "data": {
      "text/plain": [
       "array([[0., 0., 0., 0.],\n",
       "       [0., 0., 0., 0.],\n",
       "       [0., 0., 0., 0.]])"
      ]
     },
     "execution_count": 14,
     "metadata": {},
     "output_type": "execute_result"
    }
   ],
   "source": [
    "# Matriz de ceros\n",
    "np.zeros((3,4))"
   ]
  },
  {
   "cell_type": "code",
   "execution_count": 16,
   "metadata": {},
   "outputs": [
    {
     "data": {
      "text/plain": [
       "array([1., 1., 1.])"
      ]
     },
     "execution_count": 16,
     "metadata": {},
     "output_type": "execute_result"
    }
   ],
   "source": [
    "# Vector de unos\n",
    "np.ones(3)"
   ]
  },
  {
   "cell_type": "code",
   "execution_count": 18,
   "metadata": {},
   "outputs": [
    {
     "data": {
      "text/plain": [
       "array([[0, 0, 0],\n",
       "       [0, 0, 0]])"
      ]
     },
     "execution_count": 18,
     "metadata": {},
     "output_type": "execute_result"
    }
   ],
   "source": [
    "# Array de ceros o unos con la misma forma que uno dado\n",
    "np.zeros_like(A)"
   ]
  },
  {
   "cell_type": "code",
   "execution_count": 17,
   "metadata": {},
   "outputs": [
    {
     "data": {
      "text/plain": [
       "array([[4.64975901e-310, 0.00000000e+000, 0.00000000e+000],\n",
       "       [0.00000000e+000, 0.00000000e+000, 0.00000000e+000],\n",
       "       [0.00000000e+000, 0.00000000e+000, 0.00000000e+000],\n",
       "       [0.00000000e+000, 0.00000000e+000, 0.00000000e+000],\n",
       "       [0.00000000e+000, 0.00000000e+000, 6.32404027e-322]])"
      ]
     },
     "execution_count": 17,
     "metadata": {},
     "output_type": "execute_result"
    }
   ],
   "source": [
    "# Matrz vacía (con elementos no inicializados a ningún valor)\n",
    "np.empty((5,3))"
   ]
  },
  {
   "cell_type": "markdown",
   "metadata": {},
   "source": [
    "### Manipulación de arrays"
   ]
  },
  {
   "cell_type": "code",
   "execution_count": 26,
   "metadata": {},
   "outputs": [
    {
     "data": {
      "text/plain": [
       "array([1, 2, 3])"
      ]
     },
     "execution_count": 26,
     "metadata": {},
     "output_type": "execute_result"
    }
   ],
   "source": [
    "# Vectores\n",
    "v"
   ]
  },
  {
   "cell_type": "code",
   "execution_count": 22,
   "metadata": {},
   "outputs": [
    {
     "data": {
      "text/plain": [
       "1"
      ]
     },
     "execution_count": 22,
     "metadata": {},
     "output_type": "execute_result"
    }
   ],
   "source": [
    "v[0]"
   ]
  },
  {
   "cell_type": "code",
   "execution_count": 23,
   "metadata": {},
   "outputs": [
    {
     "data": {
      "text/plain": [
       "3"
      ]
     },
     "execution_count": 23,
     "metadata": {},
     "output_type": "execute_result"
    }
   ],
   "source": [
    "v[-1]"
   ]
  },
  {
   "cell_type": "code",
   "execution_count": 27,
   "metadata": {},
   "outputs": [
    {
     "data": {
      "text/plain": [
       "array([[1, 2, 3],\n",
       "       [4, 5, 6]])"
      ]
     },
     "execution_count": 27,
     "metadata": {},
     "output_type": "execute_result"
    }
   ],
   "source": [
    "# Matrices\n",
    "A"
   ]
  },
  {
   "cell_type": "code",
   "execution_count": 25,
   "metadata": {},
   "outputs": [
    {
     "data": {
      "text/plain": [
       "3"
      ]
     },
     "execution_count": 25,
     "metadata": {},
     "output_type": "execute_result"
    }
   ],
   "source": [
    "A[0,-1]"
   ]
  },
  {
   "cell_type": "code",
   "execution_count": 28,
   "metadata": {},
   "outputs": [
    {
     "data": {
      "text/plain": [
       "array([4, 5, 6])"
      ]
     },
     "execution_count": 28,
     "metadata": {},
     "output_type": "execute_result"
    }
   ],
   "source": [
    "# Si usamos sólo un índice, accedemos a filas\n",
    "A[1]"
   ]
  },
  {
   "cell_type": "code",
   "execution_count": 30,
   "metadata": {},
   "outputs": [
    {
     "data": {
      "text/plain": [
       "array([4, 5, 6])"
      ]
     },
     "execution_count": 30,
     "metadata": {},
     "output_type": "execute_result"
    }
   ],
   "source": [
    "# Podemos obtener el mismo resultado si usamos `:`, \"todas las columnas\"\n",
    "A[1,:]"
   ]
  },
  {
   "cell_type": "code",
   "execution_count": 31,
   "metadata": {},
   "outputs": [
    {
     "data": {
      "text/plain": [
       "array([3, 6])"
      ]
     },
     "execution_count": 31,
     "metadata": {},
     "output_type": "execute_result"
    }
   ],
   "source": [
    "# Y con la misma notación, podemos acceder a una columna\n",
    "A[:,2]"
   ]
  },
  {
   "cell_type": "code",
   "execution_count": 34,
   "metadata": {},
   "outputs": [
    {
     "data": {
      "text/plain": [
       "array([[99,  2,  3],\n",
       "       [ 4,  5,  6]])"
      ]
     },
     "execution_count": 34,
     "metadata": {},
     "output_type": "execute_result"
    }
   ],
   "source": [
    "# Modificación de 1 elemento\n",
    "A[0,0] = 99\n",
    "A"
   ]
  },
  {
   "cell_type": "code",
   "execution_count": 36,
   "metadata": {},
   "outputs": [
    {
     "data": {
      "text/plain": [
       "array([[99,  2, 33],\n",
       "       [ 4,  5, 33]])"
      ]
     },
     "execution_count": 36,
     "metadata": {},
     "output_type": "execute_result"
    }
   ],
   "source": [
    "#... o de toda una fila/columna\n",
    "A[:,-1] = 33\n",
    "A"
   ]
  },
  {
   "cell_type": "markdown",
   "metadata": {},
   "source": [
    "## Lotes de índices (*index slicing*)\n",
    "\n",
    "Para un array `A` (como en listas) podemos usar la sintaxis `A[inicio:fin:paso]` para extraer un subconjunto del arrray.\n",
    "\n",
    "- Si no se especifica el paso, se toma paso igual a uno\n",
    "- Si no se especifica inicio o fin, se asume el principio/final del array\n",
    "- Como es usual, el último elemento no está incluido\n",
    "\n",
    "Ejemplo: elementos de un vector"
   ]
  },
  {
   "cell_type": "code",
   "execution_count": 37,
   "metadata": {},
   "outputs": [
    {
     "data": {
      "text/plain": [
       "array([1, 2, 3, 4, 5, 6, 7])"
      ]
     },
     "execution_count": 37,
     "metadata": {},
     "output_type": "execute_result"
    }
   ],
   "source": [
    "v = np.arange(1,8)\n",
    "v"
   ]
  },
  {
   "cell_type": "code",
   "execution_count": 38,
   "metadata": {},
   "outputs": [
    {
     "data": {
      "text/plain": [
       "array([1, 2, 3])"
      ]
     },
     "execution_count": 38,
     "metadata": {},
     "output_type": "execute_result"
    }
   ],
   "source": [
    "v[0:3]  # Desde el principio hasta la posición 3-1"
   ]
  },
  {
   "cell_type": "code",
   "execution_count": 39,
   "metadata": {},
   "outputs": [
    {
     "data": {
      "text/plain": [
       "array([4, 5, 6, 7])"
      ]
     },
     "execution_count": 39,
     "metadata": {},
     "output_type": "execute_result"
    }
   ],
   "source": [
    "v[3:]  # Desde la posición 3 hasta el final"
   ]
  },
  {
   "cell_type": "code",
   "execution_count": 41,
   "metadata": {},
   "outputs": [
    {
     "data": {
      "text/plain": [
       "array([4, 6])"
      ]
     },
     "execution_count": 41,
     "metadata": {},
     "output_type": "execute_result"
    }
   ],
   "source": [
    "v[3::2]  # Idem pero de 2 en 2"
   ]
  },
  {
   "cell_type": "markdown",
   "metadata": {},
   "source": [
    "## Gráficas con *Matplotlib*\n",
    "\n",
    "\n",
    "Matplotlib es un excelente módulo para gráficos 2D y 3D, orientado a la creacion de figuras científicas. Entre sus ventajas se encuentran:\n",
    "- Fácil de usar, especialmente a quien proviene de Matlab \n",
    "- Incluye una interfaz más avanzada, orientada a objetos\n",
    "- Soporte de $\\LaTeX$\n",
    "- Salida en numerosos formatos, incluyendo png, pdf, svg, eps y pgf\n",
    "\n",
    "### Bibliografía recomendada:\n",
    "\n",
    "- [Documentación oficial en la web de Matplotlib](https://matplotlib.org/stable). Dentro de ella, se pueden recomendar...\n",
    "    - [Introducción a Pyplot](https://matplotlib.org/stable/tutorials/introductory/pyplot.html)\n",
    "    - [Guía rápida de Matplotlib](https://matplotlib.org/stable/tutorials/introductory/quick_start.html)\n",
    "    - [Referencia completa](https://matplotlib.org/stable/api/index.html)\n",
    "    "
   ]
  },
  {
   "cell_type": "markdown",
   "metadata": {},
   "source": [
    "\n",
    "### Gráficas sencillas en Matplotlib\n",
    "\n",
    "Para usar Matplotlib, se suele emplear la abreviatura `plt`. Además se suele utilizar el submódulo `pyplot` (usualmente con el alias `plt`), que se usa de un modo similar al lenguaje *Matlab*.\n",
    "\n",
    "Por ejemplo, dibujaremos la gráfica de la función seno en el intervalo $[0,2\\pi]$:"
   ]
  },
  {
   "cell_type": "code",
   "execution_count": 42,
   "metadata": {},
   "outputs": [
    {
     "data": {
      "image/png": "[encoded data removed]",
      "text/plain": [
       "<Figure size 432x288 with 1 Axes>"
      ]
     },
     "metadata": {
      "needs_background": "light"
     },
     "output_type": "display_data"
    }
   ],
   "source": [
    "import matplotlib.pyplot as plt\n",
    "import numpy as np\n",
    "\n",
    "x = np.linspace(0, 2*np.pi)\n",
    "y = np.sin(x)\n",
    "\n",
    "plt.plot(x, y)\n",
    "plt.show()"
   ]
  },
  {
   "cell_type": "markdown",
   "metadata": {},
   "source": [
    "Recordemos que la función *linspace* define un array formado por puntos equiespaciados en el intervalo especificado (por defecto, son 50 puntos). La función *plot* dibuja la gráfica (la poligonal) que une los puntos de los dos arrays, `x` e `y`.\n",
    "\n",
    "Es bueno recordar que, en realidad, 'plot' se limita a dibujar la poligonal que une a los puntos de los dos arrays. En la siguiente gráfica usamos solo 7 puntos y, para que se vean estos puntos (además de las líneas), podemos usar la notación \"`-o`\". "
   ]
  },
  {
   "cell_type": "code",
   "execution_count": 43,
   "metadata": {},
   "outputs": [
    {
     "data": {
      "image/png": "[encoded data removed]",
      "text/plain": [
       "<Figure size 432x288 with 1 Axes>"
      ]
     },
     "metadata": {
      "needs_background": "light"
     },
     "output_type": "display_data"
    }
   ],
   "source": [
    "x = np.linspace(0, 2*np.pi, num=7)\n",
    "y = np.sin(x)\n",
    "\n",
    "plt.plot(x, y, \"-o\")\n",
    "plt.show()"
   ]
  },
  {
   "cell_type": "markdown",
   "metadata": {},
   "source": [
    "La orden `show` se encarga de representar la gráfica. Como veremos a continuación, en Jupyter puede omitirse (se ejecuta automáticamente al final de la celda).\n",
    "\n",
    "\n",
    "Podemos dibujar cualquier función expresada con Numpy. Por ejemplo, en la siguiente gráfica pintamos con `plot` los puntos $(x_i,y_i)$ definidos por los arrays `x` e `y=f(x)`, siendo\n",
    "$$\n",
    "f(x) = \\sin(2x)e^{-x/2}, \\quad x\\in [-3.5,5].\n",
    "$$"
   ]
  },
  {
   "cell_type": "code",
   "execution_count": 44,
   "metadata": {},
   "outputs": [
    {
     "data": {
      "text/plain": [
       "[<matplotlib.lines.Line2D at 0x7f3c9f7e8040>]"
      ]
     },
     "execution_count": 44,
     "metadata": {},
     "output_type": "execute_result"
    },
    {
     "data": {
      "image/png": "[encoded data removed]",
      "text/plain": [
       "<Figure size 432x288 with 1 Axes>"
      ]
     },
     "metadata": {
      "needs_background": "light"
     },
     "output_type": "display_data"
    }
   ],
   "source": [
    "f = lambda x: np.sin(2*x)*np.exp(-x/2)\n",
    "a, b = -3.5, 5 # Intervalo [a, b]\n",
    "x = np.linspace(a, b) # Array (vector) de puntos equiespaciados en $[a,b]$\n",
    "plt.plot(x, f(x)) # Pintamos la poligonal que une los puntos $(x_i, f(x_i))$"
   ]
  },
  {
   "cell_type": "markdown",
   "metadata": {},
   "source": [
    "## La interfaz explícita (u orientada a objetos) de Matplotlib\n",
    "\n",
    "El uso de Matplotlib que ha sido descrito anteriormente es sencillo pero poco recomendado. Para sacar todo el jugo a los gráficos, podemos tener en cuenta lo siguiente.\n",
    "\n",
    "Matplotlib dibuja gráficas dentro de *figuras* (por ejemplo, ventanas, widgets de Jupyter, etc.). Cada una de las figuras puede contener uno o más *ejes*, que se definen como un área donde los puntos pueden ser especificados en términos de coordenadas (cartesianas, x-y, polares etc).\n",
    "\n",
    "Para acceder a toda la potencialidad de Matplotlib, existe una alternativa (llamada *interfaz explícita* u *orientada a objetos*), que se recomienda cuando deseemos dibujar gráficas más avanzadas. En esta interfaz, debemos crear explícitamente una figura y un eje dentro de ella. La forma más sencilla es utilizando `pyplot.subplots`, como muestra el siguiente ejemplo.\n",
    "\n",
    "Obsérvese cómo ahora llamamos a la función `plot` específica del único eje de coordenadas contenido en la figura (`ax.plot`): "
   ]
  },
  {
   "cell_type": "code",
   "execution_count": 45,
   "metadata": {},
   "outputs": [
    {
     "data": {
      "text/plain": [
       "[<matplotlib.lines.Line2D at 0x7f3c9f633040>]"
      ]
     },
     "execution_count": 45,
     "metadata": {},
     "output_type": "execute_result"
    },
    {
     "data": {
      "image/png": "[encoded data removed]",
      "text/plain": [
       "<Figure size 432x288 with 1 Axes>"
      ]
     },
     "metadata": {
      "needs_background": "light"
     },
     "output_type": "display_data"
    }
   ],
   "source": [
    "import matplotlib.pyplot as plt\n",
    "import numpy as np\n",
    "\n",
    "fig, ax = plt.subplots()  # Crear una figura (con un único sistema de ejes de coordenadas)\n",
    "\n",
    "f = lambda x: np.sin(2*x)*np.exp(-x/2)\n",
    "a, b = -3.5, 5 # Intervalo [a, b]\n",
    "x = np.linspace(a, b) # Array (vector) de puntos equiespaciados en $[a,b]$\n",
    "ax.plot(x, f(x)) # Pintamos la poligonal que une los puntos $(x_i, f(x_i))$"
   ]
  },
  {
   "cell_type": "markdown",
   "metadata": {},
   "source": [
    "Como muestra de **opciones más avanzadas**: la función `pyplot.subplots` permite representar varias gráficas, dispuestas en rejilla de ejes. Esta rejilla se define según un número de filas (opción `nrows=`) y columnas (`ncols=`).\n",
    "\n",
    "El siguiente ejemplo \n",
    "- Se dibuja una figura con dos gráficas: $f(x)$ y $f(-x)$, siendo $f$ la función antes definida. \n",
    "- Son representadas en 1 fila y 2 columnas. \n",
    "- Además especificamos el tamaño total de la figura (11$\\times$5 plugadas, en horizontal y vertical, 1 pulgada = 2.54cm): opción `figsize=`"
   ]
  },
  {
   "cell_type": "code",
   "execution_count": 46,
   "metadata": {},
   "outputs": [
    {
     "data": {
      "text/plain": [
       "[<matplotlib.lines.Line2D at 0x7f3ca1a41000>]"
      ]
     },
     "execution_count": 46,
     "metadata": {},
     "output_type": "execute_result"
    },
    {
     "data": {
      "image/png": "[encoded data removed]",
      "text/plain": [
       "<Figure size 792x288 with 2 Axes>"
      ]
     },
     "metadata": {
      "needs_background": "light"
     },
     "output_type": "display_data"
    }
   ],
   "source": [
    "fig, ax = plt.subplots(nrows=1, ncols=2, figsize=(11,4))  # Figura con 1x2 ejes de coordenadas\n",
    "\n",
    "f1 = lambda x: np.sin(2*x)*np.exp(-x/2)\n",
    "f2 = lambda x: f1(-x)\n",
    "\n",
    "a, b = -3.5, 5 # Intervalo [a, b]\n",
    "x = np.linspace(a, b)\n",
    "ax[0].plot(x, f1(x)) # Pintamos la primera gráfica\n",
    "ax[1].plot(x, f2(x)) # Pintamos la segunda gráfica"
   ]
  },
  {
   "cell_type": "markdown",
   "metadata": {},
   "source": [
    "#### Más características de las figuras\n",
    " \n",
    "Si deseamos marcar los **ejes cartesianos** que pasan por el origen de coordenadas, la posibilidad más sencilla es usar `axhline` y `axvline` (líneas horizontal y vertical, respectivamente). Admás vemos cómo podemos\n",
    "- cambiar color (`color=`) y ancho de línea (`linewidth=`)\n",
    "- añadir una cuadrícula (`grid`)"
   ]
  },
  {
   "cell_type": "code",
   "execution_count": 47,
   "metadata": {},
   "outputs": [
    {
     "data": {
      "image/png": "[encoded data removed]",
      "text/plain": [
       "<Figure size 432x288 with 1 Axes>"
      ]
     },
     "metadata": {
      "needs_background": "light"
     },
     "output_type": "display_data"
    }
   ],
   "source": [
    "fig, ax = plt.subplots()\n",
    "ax.plot(x, f(x), color=\"red\", linewidth=3)\n",
    "ax.axhline(color='black') # Eje horizontal (AXis Horizontal LINE)\n",
    "ax.axvline(color='black') # Eje vertical (AXis Vertical LINE)\n",
    "ax.grid()"
   ]
  },
  {
   "cell_type": "markdown",
   "metadata": {},
   "source": [
    "#### Mejoras en la gráfica anterior\n",
    "\n",
    "Como vimos, linspace(a, b) sólo produce 50 puntos equiespaciado. Por eso, a veces se pueden apreciar \"picos\" en la poligonal. Si deseamos una gráfica más suave, podemos aumentar el número de puntos: linspace(a, b, num).\n",
    "\n",
    "En la siguiente gráfica se muestran además las siguientes posibilidades:\n",
    "+ Especificaciónn del tamaño de la gráfica (en pulgadas)\n",
    "+ Inserción de ún **título** (`ax.set_tile`) al que, optativamente, se le puede ajustar el tamaño (además de otras características [ver documentación](https://matplotlib.org/stable/api/_as_gen/matplotlib.pyplot.title.html?highlight=title#matplotlib.pyplot.title))\n",
    "+ La inserción de una **leyenda** (`ax.legend`), que se colocará en una \"posición óptima\" a menos que se especifique lo contrario  ([ver documentación](https://matplotlib.org/stable/api/_as_gen/matplotlib.pyplot.legend.html))\n",
    "+ Las siguientes abreviaturas: \n",
    "    + `color=\"black\"` $\\rightarrow$ `c=\"k\"` (k proviene de blacK)\n",
    "    + `linewidth=3\"` $\\rightarrow$ `lw=3`\n",
    "+ Inserción de expresiones matemáticas avanzaadas con $\\LaTeX$ ([ver documentación](http://matplotlib.org/users/mathtext.html))"
   ]
  },
  {
   "cell_type": "code",
   "execution_count": 49,
   "metadata": {},
   "outputs": [
    {
     "data": {
      "image/png": "[encoded data removed]",
      "text/plain": [
       "<Figure size 576x360 with 1 Axes>"
      ]
     },
     "metadata": {
      "needs_background": "light"
     },
     "output_type": "display_data"
    }
   ],
   "source": [
    "fig, ax = plt.subplots(figsize=(8, 5))\n",
    "x = np.linspace(a, b, 200) # Aumentamos el número de puntos en [a,b]\n",
    "\n",
    "# Gráfica de f:\n",
    "ax.axhline(c='k') # Eje horizontal (Color = blacK)\n",
    "ax.axvline(c='k') # Eje vertical (Color = blacK)\n",
    "ax.plot(x, f(x), c=\"r\", lw=3, # Seleccionamos color y tamaño de línea \n",
    "     label=\"$f(x)=\\sin(x)\\, e^{-x^2/60}$\" # Definimos una etiqueta (que se verá con 'legend')\n",
    "    )\n",
    "\n",
    "# Título, leyenda y cuadrícula:\n",
    "ax.set_title(\"Gráfica de una función\", fontsize=18)\n",
    "ax.legend(fontsize=13) # Mostrar leyenda\n",
    "ax.grid()"
   ]
  },
  {
   "cell_type": "code",
   "execution_count": null,
   "metadata": {},
   "outputs": [],
   "source": []
  }
 ],
 "metadata": {
  "anaconda-cloud": {},
  "kernelspec": {
   "display_name": "Python 3 (ipykernel)",
   "language": "python",
   "name": "python3"
  },
  "language_info": {
   "codemirror_mode": {
    "name": "ipython",
    "version": 3
   },
   "file_extension": ".py",
   "mimetype": "text/x-python",
   "name": "python",
   "nbconvert_exporter": "python",
   "pygments_lexer": "ipython3",
   "version": "3.10.6"
  }
 },
 "nbformat": 4,
 "nbformat_minor": 4
}
