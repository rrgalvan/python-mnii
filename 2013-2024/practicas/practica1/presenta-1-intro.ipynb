{
 "cells": [
  {
   "cell_type": "markdown",
   "metadata": {
    "jukit_cell_id": "xgtrWSbIEq"
   },
   "source": [
    "# Introducción a Python numérico"
   ]
  },
  {
   "cell_type": "markdown",
   "metadata": {
    "jukit_cell_id": "tqDXeauxhr"
   },
   "source": [
    "## 1. Datos y variables"
   ]
  },
  {
   "cell_type": "markdown",
   "metadata": {
    "jukit_cell_id": "CNnmrZA0KX"
   },
   "source": [
    "### Variables numéricas"
   ]
  },
  {
   "cell_type": "code",
   "execution_count": null,
   "metadata": {
    "jukit_cell_id": "MZer1cYraT"
   },
   "outputs": [],
   "source": [
    "n = 2\n",
    "x = 3.14\n",
    "print(n, type(n))\n",
    "print(x, type(x))"
   ]
  },
  {
   "cell_type": "code",
   "execution_count": null,
   "metadata": {
    "jukit_cell_id": "z977XDfBmp"
   },
   "outputs": [],
   "source": [
    "# Existe una cantidad *finita* de números en coma flotante, mayor acumulación en cero\n",
    "x = 1.e-324  # = cero\n",
    "y = 1.e+309  # = infinito\n",
    "print(x, y)"
   ]
  },
  {
   "cell_type": "code",
   "execution_count": null,
   "metadata": {
    "jukit_cell_id": "H4Y5eQJZAF"
   },
   "outputs": [],
   "source": [
    "# Épsilon de la máquina: eps tal que 1 == 1+eps (en coma flotante!)\n",
    "eps = 1.e-16\n",
    "1 == 1+eps"
   ]
  },
  {
   "cell_type": "code",
   "execution_count": null,
   "metadata": {
    "jukit_cell_id": "As5r2h8tdK"
   },
   "outputs": [],
   "source": [
    "# Cuidado con el redondeo\n",
    "0.1 + 0.2"
   ]
  },
  {
   "cell_type": "code",
   "execution_count": null,
   "metadata": {
    "jukit_cell_id": "JHtFeVW5vw"
   },
   "outputs": [],
   "source": [
    "# Lección: no comparar directamente números en coma flotante...\n",
    "x = 0.1; y = 0.2\n",
    "x + y == 0.3"
   ]
  },
  {
   "cell_type": "code",
   "execution_count": null,
   "metadata": {
    "jukit_cell_id": "3FpJwi19es"
   },
   "outputs": [],
   "source": [
    "#... es mejor comprobar que la diferencia es pequeña (ejemplo, menor que el eps de la máquina)\n",
    "#                    (Nota: cuando veamos numpy, será útil la función numpy.isclose(a, b))\n",
    "suma = x + y\n",
    "abs(suma - 0.3) < 1.e-16"
   ]
  },
  {
   "cell_type": "code",
   "execution_count": null,
   "metadata": {
    "jukit_cell_id": "LtJS5TcHv1"
   },
   "outputs": [],
   "source": [
    "# Operaciones básicas: +, -, *, /, //, %, ** (cuidado, no usar ^  !!)\n",
    "print(5*3/2)\n",
    "print(5*3//2)   # Cociente de la división entera\n",
    "print(5*3 % 2)  # Módulo o resto de la división entera\n",
    "2**5  # 2 elevado a 5 (!!)"
   ]
  },
  {
   "cell_type": "markdown",
   "metadata": {
    "jukit_cell_id": "dhcClqKN1h"
   },
   "source": [
    "### Listas \n",
    "Objetos que almacenan valores *de cualquier tipo*, de forma ordenada"
   ]
  },
  {
   "cell_type": "code",
   "execution_count": null,
   "metadata": {
    "jukit_cell_id": "urYSQH594v"
   },
   "outputs": [],
   "source": [
    "lista1 = [1, 2.71, -5]\n",
    "lista2 = [2, 'a', 'b']\n",
    "lista3 = [1, [2, '3'], 4.9]\n",
    "print(lista1, lista2, lista3)"
   ]
  },
  {
   "cell_type": "code",
   "execution_count": null,
   "metadata": {
    "jukit_cell_id": "6XB7gjlKuw"
   },
   "outputs": [],
   "source": [
    "# Los operadores sobre listas no son lo que parecen\n",
    "print(lista1 + lista2) # Concatenación\n",
    "print(3*lista1) # Repetición\n",
    "# lista1/2  # Error: el opeador / no es válido para listas!!!"
   ]
  },
  {
   "cell_type": "code",
   "execution_count": null,
   "metadata": {
    "jukit_cell_id": "Q6M832xNXf"
   },
   "outputs": [],
   "source": [
    "# Acceso a los elementos de una lista: 0 -> primero, 1 -> segundo... y -1 -> último!\n",
    "print(lista1[0], lista1[1], lista1[-1])\n",
    "print(lista3[1][-1])"
   ]
  },
  {
   "cell_type": "code",
   "execution_count": null,
   "metadata": {
    "jukit_cell_id": "5HSuBJouPb"
   },
   "outputs": [],
   "source": [
    "# Tamaño (\"length\") de una lista\n",
    "len(lista3)"
   ]
  },
  {
   "cell_type": "code",
   "execution_count": null,
   "metadata": {
    "jukit_cell_id": "D3p4hRPAph"
   },
   "outputs": [],
   "source": [
    "# En las listas es natural la operación \"añadir un elemento al final\" (append):\n",
    "lista1.append(51/2)\n",
    "lista1"
   ]
  },
  {
   "cell_type": "markdown",
   "metadata": {
    "jukit_cell_id": "yDjr1fAkAh"
   },
   "source": [
    "### Cadenas de caracteres"
   ]
  },
  {
   "cell_type": "code",
   "execution_count": null,
   "metadata": {
    "jukit_cell_id": "fomCaETqKu"
   },
   "outputs": [],
   "source": [
    "### Las cadenas de caracacteres son similares a las listas:\n",
    "hola = \"Hola, mundo!\"\n",
    "hola"
   ]
  },
  {
   "cell_type": "code",
   "execution_count": null,
   "metadata": {
    "jukit_cell_id": "JcaNNu4HgH"
   },
   "outputs": [],
   "source": [
    "hola[0], len(hola)"
   ]
  },
  {
   "cell_type": "code",
   "execution_count": null,
   "metadata": {
    "jukit_cell_id": "Mm2L3F8BIs"
   },
   "outputs": [],
   "source": [
    "# Pero son objetos \"de sólo lectura\" (este tipo de listas se llaman 'tuplas')\n",
    "# hola[0] = 'h'  # Error\n",
    "# hola.append(\"X\")  # Otro error"
   ]
  },
  {
   "cell_type": "code",
   "execution_count": null,
   "metadata": {
    "jukit_cell_id": "c9rOBuodtx"
   },
   "outputs": [],
   "source": [
    "# Y tienen funciones específicas (se llaman métodos, notación objeto.método())\n",
    "hola.upper()"
   ]
  },
  {
   "cell_type": "markdown",
   "metadata": {
    "jukit_cell_id": "vS4QntCAY4"
   },
   "source": [
    "### Asignación. Cuidado: las variables son punteros a objetos!!!\n",
    "        * Veremos soluciones, por ejemplo lista2 = lista[:] o lista2 = copy.copy(lista) "
   ]
  },
  {
   "cell_type": "code",
   "execution_count": null,
   "metadata": {
    "jukit_cell_id": "nTbTwkJFUD"
   },
   "outputs": [],
   "source": [
    "print(lista2)\n",
    "mi_lista = lista2\n",
    "mi_lista[-1] = 'X'\n",
    "print(mi_lista)\n",
    "print(lista2)"
   ]
  },
  {
   "cell_type": "markdown",
   "metadata": {
    "jukit_cell_id": "P5SkM6qBo2"
   },
   "source": [
    "### Tipos de datos lógicos (*booleanos*)"
   ]
  },
  {
   "cell_type": "code",
   "execution_count": null,
   "metadata": {
    "jukit_cell_id": "dMehyQJRpC"
   },
   "outputs": [],
   "source": [
    "cond = (3>5)\n",
    "cond"
   ]
  },
  {
   "cell_type": "code",
   "execution_count": null,
   "metadata": {
    "jukit_cell_id": "tCnBtPiPKY"
   },
   "outputs": [],
   "source": [
    "1<2 or 3>5"
   ]
  },
  {
   "cell_type": "code",
   "execution_count": null,
   "metadata": {
    "jukit_cell_id": "bynCPCFtkU"
   },
   "outputs": [],
   "source": [
    "1+3*2 < 8 and True"
   ]
  },
  {
   "cell_type": "markdown",
   "metadata": {
    "jukit_cell_id": "urbgbQiBSv"
   },
   "source": [
    "## 2. Sentencias condicionales, bucles y funciones"
   ]
  },
  {
   "cell_type": "markdown",
   "metadata": {
    "jukit_cell_id": "POWUSZmYAz"
   },
   "source": [
    "### Condicionales: `if`"
   ]
  },
  {
   "cell_type": "markdown",
   "metadata": {
    "jukit_cell_id": "qZHKDy7nk5"
   },
   "source": [
    "### Bucles: `while`, `for`"
   ]
  },
  {
   "cell_type": "markdown",
   "metadata": {
    "jukit_cell_id": "tHDOdFC7UG"
   },
   "source": [
    "### Funciones, funciones lambda"
   ]
  },
  {
   "cell_type": "markdown",
   "metadata": {
    "jukit_cell_id": "TL51ywxtQ3"
   },
   "source": [
    "- Aplicarla para calcular un punto fijo $𝑥=𝑔(𝑥)$ de la función $$g(x)=\\frac{1}{2+x}.$$  en el intervalo [0,1].\n",
    "### Ejercicios:\n",
    "\n",
    "- Programar una función `punto_fijo_simoke(g, x0)` que que tome como parámetros una función $g:\\mathbb R \\to \\mathbb R$ y un número real (en coma flotante) \\texttt{x0} y devuelva el resultado de aplicar el método de punto fijo $$x_{k+1} = g(x_k)$$ a partir del valor inicial $x_0=\\texttt{x0}$.\n",
    "- Aplicarla para calcular un punto fijo $𝑥=𝑔(𝑥)$ de la función $$g(x)=\\frac{1}{2+x}.$$  en el intervalo [0,1].\n",
    "- Añadirle los parámetros `tol=1e-12, maxiter=100`\n",
    "\n",
    "**Solución** (detallada): ver las prácticas de la asignatura."
   ]
  },
  {
   "cell_type": "markdown",
   "metadata": {
    "jukit_cell_id": "6y5L8dfECf"
   },
   "source": [
    "### 3. *Arrays* (numpy) y gráficos (matplotlib)"
   ]
  },
  {
   "cell_type": "code",
   "execution_count": null,
   "metadata": {
    "jukit_cell_id": "WhTKoz7GeV"
   },
   "outputs": [],
   "source": []
  }
 ],
 "metadata": {
  "anaconda-cloud": {},
  "kernelspec": {
   "display_name": "Python 3 (ipykernel)",
   "language": "python",
   "name": "python3"
  },
  "language_info": {
   "codemirror_mode": {
    "name": "ipython",
    "version": 3
   },
   "file_extension": ".py",
   "mimetype": "text/x-python",
   "name": "python",
   "nbconvert_exporter": "python",
   "pygments_lexer": "ipython3",
   "version": "3.10.6"
  }
 },
 "nbformat": 4,
 "nbformat_minor": 4
}
