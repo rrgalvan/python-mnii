{
 "cells": [
  {
   "cell_type": "markdown",
   "metadata": {},
   "source": [
    "# Problema 1 (tema 3)"
   ]
  },
  {
   "cell_type": "markdown",
   "metadata": {},
   "source": [
    "Deducir la expresión de la fórmula compuesta de Simpson, así como la expresión del error. Utilizando esta fórmula:\n",
    "\n",
    "1. Definir una función `quad_comp_simpson(f, a, b, N)` que aproxime la integral de $f$ en $[a,b]$ \n",
    "1. Calcular el número de subintervalos en los que hay que dividir el intervalo $[0,1]$ para que el error de cuadratura sea menor que $\\varepsilon=10^{-5}$.\n",
    "2. Calcular una aproximación de la integral\n",
    "$$\n",
    " \\int_0^1 e^{1-x^2}\\, dx\n",
    "$$\n",
    "en la que podamos garantizar que el error de cuadratura es menor que $\\varepsilon=0.001$."
   ]
  },
  {
   "cell_type": "code",
   "execution_count": 3,
   "metadata": {},
   "outputs": [],
   "source": [
    "from __future__ import division, print_function # Sólo para Python 2.x\n",
    "import numpy as np\n",
    "import matplotlib.pyplot as plt\n",
    "%matplotlib inline"
   ]
  },
  {
   "cell_type": "code",
   "execution_count": 4,
   "metadata": {},
   "outputs": [],
   "source": [
    "f = lambda x: np.exp(1-x**2)\n",
    "a, b = 0, 1\n",
    "epsilon = 1.e-5"
   ]
  },
  {
   "cell_type": "markdown",
   "metadata": {},
   "source": [
    "### Fórmula compuesta de Simpson"
   ]
  },
  {
   "cell_type": "markdown",
   "metadata": {},
   "source": [
    "La fórmula de Simpson es una fórmula de cuadratura con tres puntos\n",
    "$x_0,x_1,x_2$ ($n=2$) que, en un intervalo $[\\alpha,\\beta]$, se\n",
    "escribe como\n",
    "\n",
    "> \\begin{equation} \\int_{\\alpha}^{\\beta} f(x)\\,dx =\n",
    "\\frac{h}{3}\\Big(f(\\alpha)+4f\\big(\\frac{\\alpha + \\beta}2\\big)\n",
    "+f(\\beta)\\Big) - \\frac{h^5}{90} f^{4)}(\\xi), \\quad\n",
    "\\xi\\in(\\alpha,\\beta),\n",
    "\\end{equation}\n",
    "\n",
    "donde $h=(\\beta-\\alpha)/2$. En el caso de una fórmula **compuesta**,\n",
    "dividimos el intervalo $[a,b]$ en $N$ subintervalos\n",
    "$[\\overline x_{i-1}, \\overline x_{i}]$, $i=1,...,N$, y en cada uno\n",
    "de ellos aplicamos la f.c anterior.\n",
    "\n",
    "En el caso de la f.c. de Simpson, los nodos de cuadratura\n",
    "coinciden con los extremos de los subintervalos y cons sus puntos\n",
    "medios. Los denotamos como $x_i$, con orden creciente, es decir:\n",
    "> \\begin{align*} x_{2i}&=\\overline x_i, \\quad i=0,...,N,\n",
    "    \\\\\n",
    "    x_{2i-1}&=(\\overline x_{i-1}+\\overline x_i)/2, \\quad i=1,...,N.\n",
    "  \\end{align*}\n",
    "\n",
    "Aplicando la fórmula de Simpson en cada intervalo $[x_i, x_{i+1}]$ (o sea, tomando con\n",
    "$[\\alpha,\\beta]=[x_i, x_{i+1}]$ en expresión anterior de la fórmula de Simpson), obtenemos la siguiente expresión\n",
    "de la fórmula compuesta de Simpson: \n",
    "> \\begin{equation*}\n",
    "\\int_a^b f(x)\\,dx\n",
    "  = \\frac{h}{3} \\left[\n",
    "    f_0\n",
    "    + 2\\sum_{i=1}^{N-1} f_{2i}\n",
    "    + 4\\sum_{i=1}^{N} f_{2i-1}\n",
    "    + f_{2N} \\right]\n",
    "  - \\sum_{i=1}^N  \\frac{h^5}{90} f^{4)}(\\xi_i),\n",
    "\\end{equation*}\n",
    "\n",
    "donde $\\xi_i\\in (x_i,x_{i+1})$ y $h=(x_{i+1}-x_i)/2 = (b-a)/{2N}$.\n",
    "\n",
    "Podemos eliminar el sumatorio que aparece en el último término\n",
    "(término de error) en la expresión anterior. Para ello, tenemos en\n",
    "cuenta que \n",
    "> $$ m_4 \\le \\frac 1 N \\sum_{i=0}^{N-1} f^{4)}(\\xi_i) \\le M_4,\n",
    "$$\n",
    "\n",
    "donde $m_4=\\min_{x\\in[a,b]} |f''(x)|$ y\n",
    "$M_4=\\max_{x\\in [a,b]} |f^{4)}(x)|$. Como $f^{4)}$ es continua, alcanza\n",
    "todos los valores entre $m_4$ y $M_4$, en particular existe\n",
    "$\\xi\\in[a,b]$ tal que \n",
    "> $$\n",
    "f^{4)}(\\xi) = \\frac 1 N \\sum_{i=0}^{N-1} f^{4)}(\\xi_i).\n",
    "$$\n",
    "\n",
    "Luego (usando que $h=(b-a)/2N$): \n",
    "> $$\n",
    "\\sum_{i=0}^{N-1} f^{4)}(\\xi_i) = N f^{4)}(\\xi) = \\frac{b-a} {2h} f^{4)}(\\xi).\n",
    "$$\n",
    "\n",
    "Sustituyendo en la expresión anterior de la fórmula compuesta,\n",
    "tenemos la expresión definitiva de la fórmula compuesta de Simpson: \n",
    "> $$\n",
    "    \\int_a^b f(x)\\,dx\n",
    "    = \\frac{h}{3} \\left[\n",
    "      f_0\n",
    "      + 2\\sum_{i=1}^{N-1} f_{2i}\n",
    "      + 4\\sum_{i=1}^{N} f_{2i-1}\n",
    "      + f_{2N} \\right]\n",
    "    - \\frac{(b-a)h^4}{180} f^{4)}(\\xi).\n",
    "$$\n",
    "\n",
    "donde $\\xi\\in [a,b]$.\n"
   ]
  },
  {
   "cell_type": "markdown",
   "metadata": {},
   "source": [
    "### 1. Función de cuadratura"
   ]
  },
  {
   "cell_type": "markdown",
   "metadata": {},
   "source": [
    "Para definir esta función, tenemos que distinguir entre nodos los con índice par, $x_{2i}$ y los nodos con índice impar, $x_{2i+1}$. Para ello, estudiaremos con más detalle el acceso a listas en python:\n",
    "\n",
    "#### a) Repaso de listas en Python\n",
    "\n",
    "- Si $N\\in\\mathbb{N}$, la función `range(N)` devuelve un iterador que devuelve los $N$ valores 0,1,...,N-1 (Intervalo $[0,N-1)\\cap \\mathbb{Z}$).\n",
    "- La variante `range(M,N)` devuelve un iterador para los valores M, M+1,M+2,..., N-1 (Intervalo $[M,N)\\cap \\mathbb{Z}$)\n",
    "- Por último, `range(M,N,k)` devuelve un iterador para los valores M, M+k, M+2k,..., N-1"
   ]
  },
  {
   "cell_type": "code",
   "execution_count": 5,
   "metadata": {},
   "outputs": [
    {
     "name": "stdout",
     "output_type": "stream",
     "text": [
      "x = range(11) : [0, 1, 2, 3, 4, 5, 6, 7, 8, 9, 10]\n",
      "x = range(5,11) : [5, 6, 7, 8, 9, 10]\n",
      "x = range(5,11,2) : [5, 7, 9]\n"
     ]
    }
   ],
   "source": [
    "x = range(11) # 0,1,...,10\n",
    "print(\"x = range(11) :\", list(x))\n",
    "\n",
    "x= range(5,11) # 5,6,...,10\n",
    "print(\"x = range(5,11) :\", list(x))\n",
    "\n",
    "x= range(5,11,2) # 5, 6, 9\n",
    "print(\"x = range(5,11,2) :\", list(x))"
   ]
  },
  {
   "cell_type": "markdown",
   "metadata": {},
   "source": [
    "Podemos acceder a los elementos de una lista (o de un *array*) usando una sintaxis similar a la anterior. Si x es una lista:\n",
    "- La expresión `x`, o `x[:]`, representa todos los elementos de la lista x\n",
    "- La expresión `x[M:N]`, o `x[M:]`, representa los elementos `x[M]`, `x[M+1]`,..., `x[N-1]`\n",
    "- La expresión `x[M:N:k]`, o `x[M::k]`, representa los elementos `x[M]`, `x[M+k]`,..., `x[N-1]`"
   ]
  },
  {
   "cell_type": "code",
   "execution_count": 6,
   "metadata": {},
   "outputs": [
    {
     "name": "stdout",
     "output_type": "stream",
     "text": [
      "x = x[:]            = [  0.   1.   2.   3.   4.   5.   6.   7.   8.   9.  10.]\n",
      "x[5:11] = x[5:]     = [  5.   6.   7.   8.   9.  10.]\n",
      "x[5:11:2] = x[5::2] = [ 5.  7.  9.]\n"
     ]
    }
   ],
   "source": [
    "x = np.linspace(0,10,11) # Array [0, 0.1, 0.2, ...,1]\n",
    "print(\"x = x[:]            =\", x)\n",
    "print(\"x[5:11] = x[5:]     =\", x[5:])\n",
    "print(\"x[5:11:2] = x[5::2] =\", x[5::2])"
   ]
  },
  {
   "cell_type": "markdown",
   "metadata": {},
   "source": [
    "#### b) Programación de la fórmula compuesta de Simpson\n",
    "\n",
    "Usando lo anterior, será muy fácil programar la fórmula compuesta de Simpson:"
   ]
  },
  {
   "cell_type": "code",
   "execution_count": 7,
   "metadata": {},
   "outputs": [],
   "source": [
    "def cuad_comp_Simpson(f, a, b, N):\n",
    "    \"\"\"\n",
    "    Aproxima la integral de $f$ en $[a,b]$ mediante la fórmula compuesta \n",
    "    de Simpson con N subintervalos\n",
    "    \"\"\"\n",
    "    n_nodos = 2*N+1 # (N+1 extremos de subintervalos) + (N puntos medios)\n",
    "    x = np.linspace(a, b, n_nodos)\n",
    "\n",
    "    x_impar = x[1::2] # Nodos con coordenada impar (ptos medios)\n",
    "    x_par = x[2:n_nodos-1:2] # Nodos con coordenada par (salvo el primero y el último)\n",
    "\n",
    "    h = (b-a)/(2*N) # Distancia entre dos nodos de integración\n",
    "    cuad = h/3*(f(a) + 2*sum(f(x_par)) + 4*sum(f(x_impar)) + f(b)) # F. comp. de Simpson\n",
    "    return cuad\n",
    "\n",
    "# Es bueno hacer algunos tests...\n",
    "x = cuad_comp_Simpson(lambda x: x**1, 0, 1, 3)\n",
    "assert( abs(x-1./2) < 1.e-15)\n",
    "\n",
    "x = cuad_comp_Simpson(lambda x: x**2, 0, 1, 3)\n",
    "assert( abs(x-1./3) < 1.e-15)\n",
    "\n",
    "x = cuad_comp_Simpson(lambda x: x**3, 0, 1, 3)\n",
    "assert( abs(x-1./4) < 1.e-15  )\n"
   ]
  },
  {
   "cell_type": "markdown",
   "metadata": {},
   "source": [
    "### 2. Cálculo del número de intervalos necesarios para que el error sea menor que $\\varepsilon$\n",
    "\n",
    "Según vimos anteriormente, el error de la fórmula compuesta tiene la siguiente expresión:\n",
    "$$ \n",
    "- \\frac{(b-a)h^4}{180} f^{4)}(\\xi),\n",
    "$$\n",
    "donde $\\xi\\in(a,b)$ es desconocido. Para que el error, en valor absoluto, sea menor que $\\varepsilon$ deberemos imponer\n",
    "$$ \n",
    " \\frac{(b-a)h^4}{180} \\|f^{4)}\\|_{\\infty} < \\varepsilon,\n",
    "$$\n",
    "Suponiendo que hemos calculado $\\|f^{4)}\\|_{\\infty}$, basta usar $h=(b-a)/(2N)$ e igualar a $\\varepsilon$:\n",
    "$$ \n",
    " \\frac{(b-a)^5}{180(2N)^4} \\|f^{4)}\\|_{\\infty} = \\varepsilon,\n",
    "$$\n",
    "para deducir que el número de intervalos que tomemos debe ser, al menos, igual al primer entero mayor que\n",
    "$$ \n",
    " N = \\left(\\frac{(b-a)^5}{2880 \\varepsilon} \\|f^{4)}\\|_{\\infty} \\right)^{1/4}.\n",
    "$$\n",
    "\n",
    "En nuestro caso:\n",
    "- $b-a = 1-0 = 1$\n",
    "- $\\varepsilon = 0.001 = 10^{-3}$\n",
    "\n",
    "Sólo falta calcular $\\|f^{4)}\\|_{\\infty}$, lo que haremos (sin ser rigurosos) representando la gráfica de esta función. Usaremos, por ejemplo, el paquete simbólico `sympy`:"
   ]
  },
  {
   "cell_type": "code",
   "execution_count": 8,
   "metadata": {},
   "outputs": [
    {
     "data": {
      "image/png": "[encoded data removed]",
      "text/latex": [
       "$$4 \\left(4 x^{4} - 12 x^{2} + 3\\right) e^{- x^{2} + 1}$$"
      ],
      "text/plain": [
       "                         2    \n",
       "  ⎛   4       2    ⎞  - x  + 1\n",
       "4⋅⎝4⋅x  - 12⋅x  + 3⎠⋅ℯ        "
      ]
     },
     "execution_count": 8,
     "metadata": {},
     "output_type": "execute_result"
    }
   ],
   "source": [
    "import sympy as sp  \n",
    "sp.init_printing() # Usar LaTeX\n",
    "x = sp.symbols('x') # Definir x como variable simbólica\n",
    "f_s = lambda x: sp.exp(1-x*x) # Definir f_s como función simbólica\n",
    "sp.diff(f_s(x), x, 4) # Hallar la cuarta derivada de la función"
   ]
  },
  {
   "cell_type": "code",
   "execution_count": 9,
   "metadata": {},
   "outputs": [
    {
     "name": "stdout",
     "output_type": "stream",
     "text": [
      "A la vista de la gráfica, el máximo de $|f^{4)}|$ se alcanza en a=0 y su valor es:\n",
      "M4 = 32.6193819415\n"
     ]
    },
    {
     "data": {
      "image/png": "[encoded data removed]",
      "text/plain": [
       "<matplotlib.figure.Figure at 0x7fce628456a0>"
      ]
     },
     "metadata": {},
     "output_type": "display_data"
    }
   ],
   "source": [
    "f4 = lambda x: 4*(4*x**4 - 12*x**2 + 3)*np.exp(-x**2+1) # Definimos f4 como función numérica\n",
    "xx = np.linspace(a, b)\n",
    "plt.plot(xx, f4(xx), lw=2) # Representamos la gráfica\n",
    "plt.grid()\n",
    "plt.title(\"Cuarta derivada\")\n",
    "M4 = abs(f4(a))\n",
    "print(\"A la vista de la gráfica, el máximo de $|f^{4)}|$ se alcanza en a=0 y su valor es:\")\n",
    "print(\"M4 =\", M4)"
   ]
  },
  {
   "cell_type": "markdown",
   "metadata": {},
   "source": [
    "Así podemos calcular $$\\frac{(b-a)^5}{2880 \\varepsilon} \\|f^{4)}\\|_{\\infty}:$$"
   ]
  },
  {
   "cell_type": "code",
   "execution_count": 10,
   "metadata": {},
   "outputs": [
    {
     "name": "stdout",
     "output_type": "stream",
     "text": [
      "N = 6.0\n"
     ]
    }
   ],
   "source": [
    "N=((b-a)**5/(2880*epsilon)*M4)**(1/4)\n",
    "N = np.ceil(N) # La función ceil(x) devuelve el primer entero mayor que x\n",
    "print(\"N =\",N)"
   ]
  },
  {
   "cell_type": "markdown",
   "metadata": {},
   "source": [
    "### Aproximamos la integral"
   ]
  },
  {
   "cell_type": "code",
   "execution_count": 12,
   "metadata": {},
   "outputs": [
    {
     "name": "stdout",
     "output_type": "stream",
     "text": [
      "Integral aproximada: 2.0300795391\n",
      "Cuadratura de python: (2.030078469278705, 2.2538398583890115e-14)\n",
      "Diferencia: 1.06982539227e-06\n"
     ]
    }
   ],
   "source": [
    "N = 6\n",
    "int_simpson = cuad_comp_Simpson(f, a, b, N)\n",
    "print(\"Integral aproximada:\", int_simpson)\n",
    "\n",
    "# Comparamos con la función predefinida en Python\n",
    "from scipy.integrate import quad\n",
    "quad_python = quad(f, a, b)\n",
    "print(\"Cuadratura de python:\", quad_python)\n",
    "\n",
    "print(\"Diferencia:\", int_simpson - quad_python[0])"
   ]
  }
 ],
 "metadata": {
  "kernelspec": {
   "display_name": "Python 3 (ipykernel)",
   "language": "python",
   "name": "python3"
  },
  "language_info": {
   "codemirror_mode": {
    "name": "ipython",
    "version": 3
   },
   "file_extension": ".py",
   "mimetype": "text/x-python",
   "name": "python",
   "nbconvert_exporter": "python",
   "pygments_lexer": "ipython3",
   "version": "3.10.6"
  }
 },
 "nbformat": 4,
 "nbformat_minor": 1
}
