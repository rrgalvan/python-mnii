{
 "cells": [
  {
   "cell_type": "markdown",
   "id": "0d01a7e2",
   "metadata": {},
   "source": [
    "# Problema 1 (tema 3)"
   ]
  },
  {
   "cell_type": "markdown",
   "id": "c42a478d",
   "metadata": {},
   "source": [
    "Deducir la fórmula compuesta de los trapecios, así como la expresión del error. Utilizando esta fórmula, calcular una aproximación de la integral\n",
    "\n",
    "$$\n",
    " \\int_0^1 \\log(1+x^2)\\, dx\n",
    " $$\n",
    " \n",
    "en la que podamos garantizar que el error de cuadratura es menor que $\\varepsilon=0.001$. ¿En cuántos subintervalos hay que dividir el intervalo $[0,1]$?"
   ]
  },
  {
   "cell_type": "markdown",
   "id": "15bde372",
   "metadata": {},
   "source": [
    "### 1. Fórmula compuesta de los trapecios"
   ]
  },
  {
   "cell_type": "markdown",
   "id": "45ef07b6",
   "metadata": {},
   "source": [
    "La fórmula de los trapecios es una fórmula de cuadratura con dos puntos ($n=1$) que, en un intervalo $[\\alpha,\\beta]$, se escribe como\n",
    "\n",
    " $$\n",
    "  \\int_{\\alpha}^{\\beta} f(x)\\,dx = \\frac{h}{2}(f(\\alpha)+f(\\beta)) - \\frac{h^3}{12} f''(\\xi), \\quad \\xi\\in(\\alpha,\\beta),\n",
    "  $$\n",
    "  \n",
    "donde $h=\\beta-\\alpha$. En el caso de una fórmula **compuesta**, dividimos el intervalo $[a,b]$ en $N$ subintervalos $[\\overline x_i, \\overline x_{i+1}]$ y en cada uno de ellos aplicamos la f.c anterior. \n",
    "\n",
    "En el caso de la f.c. de los trapecios, los nodos de cuadratura, a los que denotamos $x_i$, son iguales a los extremos de los subintervalos, es decir \n",
    "$$\n",
    "x_i=\\overline x_i, \\quad i=0,...,N.\n",
    "$$\n",
    "\n",
    "Denotando $h=x_{i+1}-x_i = (b-a)/N$, y aplicando la fórmula anterior con $[a,b]=[x_i, x_{i+1}]$, obtenemos la siguiente expresión de la fórmula compuesta de los trapecios:\n",
    "$$\n",
    "  \\int_{a}^{b} f(x)\\,dx \n",
    "  = \\sum_{i=0}^{N-1}  \\int_{i}^{x_{i+1}} f(x)\\,dx\n",
    "  = \\frac{h}{2} \\sum_{i=0}^{N-1} (f(x_i)+f(x_{i+1})) \n",
    "    - \\frac{h^3}{12}  \\sum_{i=0}^{N-1} f''(\\xi_i),\n",
    "  $$\n",
    "\n",
    "donde $\\xi_i\\in (x_i,x_{i+1})$.\n",
    "\n",
    "Podemos eliminar el sumatorio que aparece en el último término (término de error) en la expresión anterior. Para ello, tenemos en cuenta que\n",
    "$$\n",
    "  m_2 \\le \\frac 1 N \\sum_{i=0}^{N-1} f''(\\xi_i) \\le M_2,\n",
    "  $$\n",
    "  \n",
    "donde $m_2=\\min_{x\\in[a,b]} |f''(x)|$ y $M_2=\\max_{x\\in [a,b]} |f''(x)|$. Como $f''$ es continua, alcanza todos los valores entre $m_2$ y $M_2$, en particular existe $\\xi\\in[a,b]$ tal que\n",
    " $$\n",
    "  f''(\\xi) = \\frac 1 N \\sum_{i=0}^{N-1} f''(\\xi_i).\n",
    "  $$\n",
    "  \n",
    "Luego\n",
    " $$\n",
    "  \\sum_{i=0}^{N-1} f''(\\xi_i) = N f''(\\xi) = \\frac{b-a} h f''(\\xi).\n",
    "  $$\n",
    "  \n",
    "Sustituyendo en la expresión anterior de la fórmula compuesta, tenemos la fórmula compuesta de los trapecios definitiva:\n",
    " $$\n",
    "  \\int_{a}^{b} f(x)\\,dx \n",
    "  = \\sum_{i=0}^{N-1}  \\int_{i}^{x_{i+1}} f(x)\\,dx\n",
    "  =  \\frac{h}{2} \\sum_{i=0}^{N-1}(f(x_i)+f(x_{i+1})) \n",
    "    - \\frac{(b-a) h^2}{12}f''(\\xi),\n",
    "  $$\n",
    "\n",
    "donde $\\xi\\in [a,b]$.\n"
   ]
  },
  {
   "cell_type": "markdown",
   "id": "0dceb697",
   "metadata": {},
   "source": [
    "### 2. Cálculo del número de intervalos necesarios para que el error sea menor que $\\varepsilon$"
   ]
  },
  {
   "cell_type": "code",
   "execution_count": 10,
   "metadata": {},
   "outputs": [
    {
     "name": "stdout",
     "output_type": "stream",
     "text": [
      "Populating the interactive namespace from numpy and matplotlib\n"
     ]
    },
    {
     "name": "stderr",
     "output_type": "stream",
     "text": [
      "/usr/lib/python3/dist-packages/IPython/core/magics/pylab.py:159: UserWarning: pylab import has clobbered these variables: ['f']\n",
      "`%matplotlib` prevents importing * from pylab and numpy\n",
      "  warn(\"pylab import has clobbered these variables: %s\"  % clobbered +\n"
     ]
    }
   ],
   "source": [
    "%pylab inline"
   ]
  },
  {
   "cell_type": "code",
   "execution_count": 11,
   "id": "e7d90626",
   "metadata": {},
   "outputs": [],
   "source": [
    "a, b = 0., 1.\n",
    "def f(x): return log(1+x**2)\n",
    "epsilon = 0.001 "
   ]
  },
  {
   "cell_type": "markdown",
   "id": "8c23cde7",
   "metadata": {},
   "source": [
    "Para acotar el error en la fórmula de los trapecios, tendremos que tomar máximo en $f''$:\n",
    "\n",
    "\n",
    "$$\n",
    "  |E_N(f)| \\le  \\frac{(b-a) h^2}{12} \\max_{x\\in [a,b]} |f''(x)|.\n",
    "  $$\n",
    "  \n",
    "Estudiaremos la expresión de $f''(x)$ para intentar hallar el máximo en $[a,b]=[0,1]$.\n",
    "\n",
    "  * $\\displaystyle f'(x)=\\frac{2x}{1+x^2}$\n",
    "  * $\\displaystyle f''(x)=\\frac{2(1+x^2) - 2x\\cdot2x}{(1+x^2)^2}\n",
    "      = \\frac{2 - 2x^2}{(1+x^2)^2}$\n",
    "      \n",
    "Podemos ver gráficamente que esta función es decreciente en $[0,1]$:"
   ]
  },
  {
   "cell_type": "code",
   "execution_count": 12,
   "id": "24efe3ee",
   "metadata": {},
   "outputs": [
    {
     "data": {
      "image/png": "[encoded data removed]",
      "text/plain": [
       "<Figure size 432x288 with 1 Axes>"
      ]
     },
     "metadata": {
      "needs_background": "light"
     },
     "output_type": "display_data"
    }
   ],
   "source": [
    "def D2f(x): return (2 - 2*x**2)/((1+x**2)**2)\n",
    "xx = linspace(a, b, 100)\n",
    "plot(xx, D2f(xx), lw=3, label=\"$f''(x)$\")\n",
    "legend()\n",
    "grid()"
   ]
  },
  {
   "cell_type": "markdown",
   "id": "bc098298",
   "metadata": {},
   "source": [
    "Aceptando que $f''(x)$ es decreciente en $[0,1]$ (para confirmalo tendríamos que ver que $f'''(x)\\le 0$), podemos concluir que $M_2=\\max_{[0,1]}|f''(x)| = |f''(0)|$ ó $|f''(1)|$. En este caso:"
   ]
  },
  {
   "cell_type": "code",
   "execution_count": 13,
   "id": "3c232811",
   "metadata": {},
   "outputs": [
    {
     "ename": "SyntaxError",
     "evalue": "Missing parentheses in call to 'print'. Did you mean print(...)? (75101452.py, line 1)",
     "output_type": "error",
     "traceback": [
      "\u001b[0;36m  File \u001b[0;32m\"/tmp/ipykernel_15382/75101452.py\"\u001b[0;36m, line \u001b[0;32m1\u001b[0m\n\u001b[0;31m    print abs(D2f(0)), \",\", abs(D2f(1))\u001b[0m\n\u001b[0m    ^\u001b[0m\n\u001b[0;31mSyntaxError\u001b[0m\u001b[0;31m:\u001b[0m Missing parentheses in call to 'print'. Did you mean print(...)?\n"
     ]
    }
   ],
   "source": [
    "print abs(D2f(0)), \",\", abs(D2f(1))\n",
    "M2 = max(D2f(0), D2f(1))\n",
    "print M2"
   ]
  },
  {
   "cell_type": "markdown",
   "id": "9165fd96",
   "metadata": {},
   "source": [
    "Luego\n",
    "$$\n",
    "  |E_N(f)| \\le  \\frac{(b-a) h^2}{12} M_2 = \\frac{h^2}{6}.\n",
    "  $$\n",
    "  "
   ]
  },
  {
   "cell_type": "markdown",
   "id": "97aa455f",
   "metadata": {},
   "source": [
    "Para que el error sea manor que $\\varepsilon=0.001$, basta tomar $h$ tal que:\n",
    "\n",
    "$$\n",
    "  \\frac{h^2}{6} = \\varepsilon,\n",
    "  $$\n",
    "\n",
    "es decir\n",
    "\n",
    " $$\n",
    "  h = +\\sqrt{6 \\varepsilon} = +\\sqrt{0.006}\n",
    "  $$\n",
    "\n"
   ]
  },
  {
   "cell_type": "code",
   "execution_count": 14,
   "id": "ee72a6e1",
   "metadata": {},
   "outputs": [
    {
     "data": {
      "text/plain": [
       "0.07745966692414834"
      ]
     },
     "execution_count": 14,
     "metadata": {},
     "output_type": "execute_result"
    }
   ],
   "source": [
    "h = sqrt(0.006)\n",
    "h"
   ]
  },
  {
   "cell_type": "markdown",
   "id": "1f672962",
   "metadata": {},
   "source": [
    "Como el número de subintervalos es $N=(b-a)/h$,  se debe verificar que $N$ sea superior a"
   ]
  },
  {
   "cell_type": "code",
   "execution_count": 15,
   "id": "52203fe9",
   "metadata": {},
   "outputs": [
    {
     "data": {
      "text/plain": [
       "12.909944487358056"
      ]
     },
     "execution_count": 15,
     "metadata": {},
     "output_type": "execute_result"
    }
   ],
   "source": [
    "(b-a)/h"
   ]
  },
  {
   "cell_type": "markdown",
   "id": "28a54e5d",
   "metadata": {},
   "source": [
    "El mínimo número de intervalos necesarios es $N=13$. Seguidamente, implementaremos en el ordenador la fórmula de los trapecios:\n",
    "\n",
    "$$\n",
    "  \\sum_{i=0}^{N-1}\\frac{h}{2}(f(x_i)+f(x_{i+1})) \n",
    "= h(f(x_0)/2 + \\sum_{i=1}^{N-1} f(x_i) + f(x_N)/2)\n",
    "  $$"
   ]
  },
  {
   "cell_type": "code",
   "execution_count": 17,
   "id": "7da2d0ce",
   "metadata": {},
   "outputs": [
    {
     "name": "stdout",
     "output_type": "stream",
     "text": [
      "Cuadratura: 0.2644366525894482\n",
      "Cuadratura de python: (0.26394350735484196, 2.930361590656649e-15)\n",
      "Diferencia: 0.0004931452346062515\n"
     ]
    }
   ],
   "source": [
    "N = 13\n",
    "h = float(b-a)/N\n",
    "\n",
    "# Definimos $N+1$ nodos equidistribuidos en [a,b]\n",
    "x = linspace(a, b, N+1)\n",
    "x_interior = array( [x[i] for i in range(1, N)] )  # x1, x2, ..., x_{N-1}\n",
    "\n",
    "quad_f = h*( f(a)/2 + sum(f(x_interior)) + f(b)/2 )\n",
    "print(\"Cuadratura:\", quad_f)\n",
    "\n",
    "# Comparamos con la función predefinida en Python\n",
    "from scipy.integrate import quad\n",
    "quad_python = quad(f, a, b)\n",
    "print(\"Cuadratura de python:\", quad_python)\n",
    "\n",
    "print(\"Diferencia:\", quad_f - quad_python[0])"
   ]
  }
 ],
 "metadata": {
  "kernelspec": {
   "display_name": "Python 3 (ipykernel)",
   "language": "python",
   "name": "python3"
  },
  "language_info": {
   "codemirror_mode": {
    "name": "ipython",
    "version": 3
   },
   "file_extension": ".py",
   "mimetype": "text/x-python",
   "name": "python",
   "nbconvert_exporter": "python",
   "pygments_lexer": "ipython3",
   "version": "3.10.6"
  }
 },
 "nbformat": 4,
 "nbformat_minor": 1
}
