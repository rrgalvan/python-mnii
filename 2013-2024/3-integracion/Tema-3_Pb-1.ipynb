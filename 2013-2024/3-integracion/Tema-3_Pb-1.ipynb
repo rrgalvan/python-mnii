{
 "cells": [
  {
   "cell_type": "markdown",
   "metadata": {},
   "source": [
    "# Tema 3. Problema 1\n",
    "\n",
    "Se considera la fórmula de cuadratura\n",
    "\n",
    "$\n",
    "\\int_0^1 \\! f(x) \\, dx \\approx c_{0} f(0) + c_{1}f(\\frac{1}{3}) + c_{2} f(\\frac{2}{3}) + c_{3} f(1)\n",
    "$\n",
    "\n",
    "1. Calcular los coeficientes $c_{0}, c_{1}, c_{2} y c_{3}$ para los que esta fórmula de cuadratura es exacta para polinomios de grado menor o igual que 3. \n",
    "2. Comprobar computacionalmente que la fórmula resultante no proporciona el valor exacto para polinomios de orden 4."
   ]
  },
  {
   "cell_type": "code",
   "execution_count": 1,
   "metadata": {},
   "outputs": [],
   "source": [
    "import numpy as np\n",
    "import matplotlib.pyplot as plt\n",
    "%matplotlib inline"
   ]
  },
  {
   "cell_type": "markdown",
   "metadata": {},
   "source": [
    "$E_{0}(x^0)= 0 \\Rightarrow \\int_0^1 \\! 1 \\, \\mathrm{d}x= c_{0}+c_{1}+c_{2}+c_{3}=1$\n",
    "\n",
    "$E_{1}(x^1)= 0 \\Rightarrow \\int_0^1 \\! x \\, \\mathrm{d}x=  \\frac{c_{1}}{3}+\\frac{2c_{2}}{3}+c_{3}=\\frac{1}{2}$\n",
    " \n",
    "$E_{2}(x^2)= 0 \\Rightarrow \\int_0^1 \\! x^2 \\, \\mathrm{d}x=  \\frac{c_{1}}{9}+\\frac{4c_{2}}{9}+c_{3}=\\frac{1}{3}$\n",
    " \n",
    "$E_{3}(x^3)= 0 \\Rightarrow \\int_0^1 \\! x^3 \\, \\mathrm{d}x=  \\frac{c_{1}}{27}+\\frac{8c_{2}}{27}+c_{3}=\\frac{1}{4}$"
   ]
  },
  {
   "cell_type": "markdown",
   "metadata": {},
   "source": [
    "Para resolver el sistema de ecuaciones, usando la función `solve`, que está en un submódulo de `numpy` llamado \"`linalg`\", debemos escribirlo de forma matricial (la matriz del sistema es de tipo *Vandermonde*, pues resulta de la evaluación en los nodos de cuadratura de monomios del tipo $x^n$):"
   ]
  },
  {
   "cell_type": "code",
   "execution_count": 2,
   "metadata": {},
   "outputs": [
    {
     "data": {
      "text/plain": [
       "array([0.125, 0.375, 0.375, 0.125])"
      ]
     },
     "execution_count": 2,
     "metadata": {},
     "output_type": "execute_result"
    }
   ],
   "source": [
    "from numpy.linalg import solve\n",
    "A= np.array([[1., 1., 1., 1.],\n",
    "             [0., 1./3, 2./3, 1.],\n",
    "             [0., 1./9, 4./9, 1.], \n",
    "             [0., 1./27, 8./27, 1.]])\n",
    "b= np.array([1., 1./2, 1./3, 1./4])\n",
    "coef = solve(A,b)\n",
    "coef # En esta lista tenemos los valores de los coeficientes"
   ]
  },
  {
   "cell_type": "markdown",
   "metadata": {},
   "source": [
    "**Observación**:\n",
    "Sería más interesante definir una función llamada `vandermonde` que tome como parámetros los nodos de cuadratura y devuelva la matriz asociada. Esta tarea se puede realizar de varias formas. Se deja como ejercicio.\n",
    "\n",
    "A continuación, definimos una función que utilice la fórmula de cuadratura para aproximar la integral de cualquier función:"
   ]
  },
  {
   "cell_type": "code",
   "execution_count": 3,
   "metadata": {},
   "outputs": [],
   "source": [
    "def formula_cuad(f, nodos, pesos):\n",
    "    \"\"\"\n",
    "    Aproxima la integral de una función $f$ mediante a la fórmula de cuadratura \n",
    "    definida por una serie de nodos y de pesos\n",
    "    \"\"\"\n",
    "    nodos = np.array(nodos) # Convertimos los nodos en un array para poder aplicar f\n",
    "    return np.dot(pesos, f(nodos))"
   ]
  },
  {
   "cell_type": "markdown",
   "metadata": {},
   "source": [
    "Ahora aplicamos la fórmula de cuadatura a $f(x)=x^4$ y comprobamos que no coincide con el valor de $\\int_0^1 x^4 dx=1/5$"
   ]
  },
  {
   "cell_type": "code",
   "execution_count": 4,
   "metadata": {},
   "outputs": [
    {
     "name": "stdout",
     "output_type": "stream",
     "text": [
      "El error de cuadratura para $f(x)=x^4$ es: 0.003703703703703709\n"
     ]
    }
   ],
   "source": [
    "nodos = [0., 1./3, 2./3, 1.]\n",
    "pesos = coef\n",
    "f = lambda x: x**4\n",
    "int_aprox = formula_cuad(f, nodos, pesos)\n",
    "int_exact = 1./5\n",
    "print(\"El error de cuadratura para $f(x)=x^4$ es:\", abs(int_aprox-int_exact))"
   ]
  },
  {
   "cell_type": "markdown",
   "metadata": {},
   "source": [
    "#### Observación final\n",
    "Las fórmulas de cuadratura son un buen ejemplo para introducir la [programación orientada a objetos en Python](http://docs.python.org.ar/tutorial/2/classes.html). Esta es una materia muy amplia y no podemos profundizar aquí. Basta un ejemplo: "
   ]
  },
  {
   "cell_type": "code",
   "execution_count": 5,
   "metadata": {},
   "outputs": [
    {
     "name": "stdout",
     "output_type": "stream",
     "text": [
      "Número de nodos de la f.c.: 4\n",
      "Integral en [0,1] de x^3: 0.250000\n"
     ]
    }
   ],
   "source": [
    "class FormCuad:\n",
    "    \"\"\"\n",
    "    Clase de datos que representan fórmulas de cuadratura\n",
    "    \"\"\"\n",
    "    def __init__(self, nodos, pesos):\n",
    "        \"\"\"\n",
    "        Constructor de objetos de tipo FormCuad, a partir de listas (o arrays) de\n",
    "        nodos de cuadratura y de pesos\n",
    "        \"\"\"\n",
    "        self.nodos = np.array(nodos)\n",
    "        self.pesos = np.array(pesos)\n",
    "    def integral(self, f):\n",
    "        \"\"\"\n",
    "        Utilizar la fórmula de cuadratura actual para aproximar\n",
    "        la integral de una función\n",
    "        \"\"\"\n",
    "        nodos = self.nodos\n",
    "        pesos = self.pesos\n",
    "        return np.dot(pesos,f(nodos))\n",
    "    def n_puntos(self):\n",
    "        \"\"\"\n",
    "        Función que devuelve el número de la fórmula de cuadratura actual\n",
    "        \"\"\"\n",
    "        return len(nodos)\n",
    "\n",
    "fc = FormCuad(nodos,pesos) # Construímos un objeto concreto de tipo FormCuad\n",
    "print (\"Número de nodos de la f.c.: %i\" % fc.n_puntos()) # Averiguamos cuantos puntos tiene\n",
    "print (\"Integral en [0,1] de x^3: %f\" % (fc.integral(lambda x: x**3))) # Aproximamos una integral"
   ]
  },
  {
   "cell_type": "code",
   "execution_count": null,
   "metadata": {},
   "outputs": [],
   "source": []
  }
 ],
 "metadata": {
  "kernelspec": {
   "display_name": "Python 3 (ipykernel)",
   "language": "python",
   "name": "python3"
  },
  "language_info": {
   "codemirror_mode": {
    "name": "ipython",
    "version": 3
   },
   "file_extension": ".py",
   "mimetype": "text/x-python",
   "name": "python",
   "nbconvert_exporter": "python",
   "pygments_lexer": "ipython3",
   "version": "3.10.12"
  }
 },
 "nbformat": 4,
 "nbformat_minor": 4
}
