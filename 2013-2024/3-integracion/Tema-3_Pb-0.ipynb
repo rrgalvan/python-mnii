{
 "cells": [
  {
   "cell_type": "markdown",
   "metadata": {},
   "source": [
    "# Problema 1 (tema 3)\n",
    "\n",
    "Este problema es un ejemplo **avanzado** sobre el uso de gráficas en Python. En él se emplean técnicas como:\n",
    "- Dibujo de polígonos, usando objetos de tipo *Polygon* [[1]](http://matplotlib.org/api/patches_api.html#matplotlib.patches.Polygon), [[2]](http://matplotlib.org/examples/shapes_and_collections/artist_reference.html).\n",
    "- Manipulación de mapas de colores (ver todas las posibilidades de colores en [colormaps](http://scipy.github.io/old-wiki/pages/Cookbook/Matplotlib/Show_colormaps))\n",
    "- Manipulación de los ejes de coordenadas (usando una extensión de Matplotlib llamada [mpl_tookits](http://matplotlib.org/1.4.3/mpl_toolkits/index.html))\n",
    "\n",
    "Se plantea:\n",
    "\n",
    "1. Dibujar la gráfica de la función $f(x)=-(x-x_0)^2+y_0$, para $x_0=1$, $y_0=20$, en el intervalo $[a_0,b_0]=[x_0-0.5, x_0+3.5]$.\n",
    "2. Colorear el área que encerrada por la gráfica de $f$ y el eje $OX$ en el intervalo $[a,b]=[a_0+0.3, b_0-1.3]$.\n",
    "3. Dibujar un polígono en $[a,b]$ definido por puntos $(x_i,f(x_i))$ donde $\\{x_i\\}$ está formado por 50 puntos equiespaciados en $[a,b]$. Este polígono representará al área encerrado por $f$, es decir, la integral definida en $[a,b]$.\n",
    "3. Dibujar, utilizando un objeto de tipo *Polygon*, el área del trapecio definido en el intervalo $[a,b]$ con alturas $f(a)$ y $f(b)$ (y que representa a la f.c. del trapecio). Haciendo que este nuevo polígono se situará sobre el anterior. Haciendo que el nuevo polígono tenga un color distinto al antiguo, se podrá ver la diferencia entre el área de la función y el trapecio que representa la f.c."
   ]
  },
  {
   "cell_type": "code",
   "execution_count": 1,
   "metadata": {},
   "outputs": [],
   "source": [
    "from __future__ import division, print_function # Sólo para Python 2.x\n",
    "import numpy as np\n",
    "import matplotlib.pyplot as plt\n",
    "%matplotlib inline"
   ]
  },
  {
   "cell_type": "markdown",
   "metadata": {},
   "source": [
    "### 1. Definimos algunas funciones que nos serán de utilidad"
   ]
  },
  {
   "cell_type": "code",
   "execution_count": null,
   "metadata": {},
   "outputs": [],
   "source": [
    "def construir_ejes():\n",
    "    \"\"\"Función que construye y devuelve un sistema de ejes para nuestra gráfica. \n",
    "    Este sistema de ejes es adaptado a nuestro gusto. Para ello se usa un objeto \n",
    "    de tipo \"SupblotZero\", del módulo mpl_toolkits.\n",
    "    \"\"\"\n",
    "    from mpl_toolkits.axes_grid.axislines import SubplotZero\n",
    "    # 1. Crear ejes\n",
    "    plt.rc(\"font\", size=22) # Seleccionar el tamaño de las etiquetas\n",
    "    fig = plt.figure(1, figsize=(9,6), dpi=600) # Seleccionar el tamaño de la figura\n",
    "    ax = SubplotZero(fig, 111)\n",
    "    fig.add_subplot(ax)\n",
    "    # 2. Hacer visibles los ejes OX, OY y ponerles una flecha ->\n",
    "    for direction in [\"xzero\", \"yzero\"]:\n",
    "        ax.axis[direction].set_visible(True)\n",
    "        ax.axis[direction].set_axisline_style(\"-|>\")\n",
    "    # 3.- Hacer invisibles los 4 ejes que definen la caja exterior\n",
    "    for direction in [\"left\", \"right\", \"bottom\", \"top\"]:\n",
    "        ax.axis[direction].set_visible(False)\n",
    "        \n",
    "    # Devolver el sistema de ejes que fue definido\n",
    "    return ax\n",
    "\n",
    "def dibujar_area(n_intervalos, color=0.5):\n",
    "    \"\"\"Dibujar el área encerrada bajo la función f, \n",
    "    dentro de un polígono con n puntos (x_i, f(x_i)),\n",
    "    donde n = n_intervalos+1\"\"\"\n",
    "    ix = np.linspace(a, b, n_intervalos)\n",
    "    iy = f(ix)\n",
    "    # Definir una lista de puntos (x_i, y_i):\n",
    "    vertices = [(a,0)] + list(zip(ix,iy)) + [(b,0)]  \n",
    "    # Seleccionar mapa de colores \"Blues\":\n",
    "    blues = plt.get_cmap('Blues') \n",
    "    # Dibujar el polígono:\n",
    "    poligono = plt.Polygon(vertices, facecolor=blues(color), edgecolor='k')\n",
    "    ax.add_patch(poligono)"
   ]
  },
  {
   "cell_type": "markdown",
   "metadata": {},
   "source": [
    "### 2. Utilizamos las funciones anteriores para dibujar la gráfica"
   ]
  },
  {
   "cell_type": "code",
   "execution_count": 6,
   "metadata": {},
   "outputs": [
    {
     "data": {
      "text/plain": [
       "[]"
      ]
     },
     "execution_count": 6,
     "metadata": {},
     "output_type": "execute_result"
    },
    {
     "data": {
      "image/png": "[encoded data removed]",
      "text/plain": [
       "<matplotlib.figure.Figure at 0x7f43c6062bd0>"
      ]
     },
     "metadata": {},
     "output_type": "display_data"
    }
   ],
   "source": [
    "x0 = 1\n",
    "y0 = 19\n",
    "f = lambda x: -(x-x0)**2 + y0\n",
    "a0, b0 = x0-0.5, x0+3.5 # Intervalo donde representar la gráfica de f\n",
    "a, b = a0+0.3, b0-1.3 # Intervalo de integración\n",
    "\n",
    "\n",
    "# Obtenemos el sistema de ejes, hecho a nuestro gusto\n",
    "ax = construir_ejes()\n",
    "\n",
    "# Dibujamos la gráfica de f\n",
    "x = np.linspace(a0, b0, 600)\n",
    "y = f(x)\n",
    "plt.plot(x, y, linewidth=4, c='r')\n",
    "\n",
    "# Dibujamos el \"área de f\" y el trapecio inscrito\n",
    "dibujar_area(50, color=0.1)\n",
    "dibujar_area(2, color=0.25)\n",
    "\n",
    "# Dibujamos el texto en LaTeX\n",
    "plt.text(0.5 * (a + b), y0-11,\n",
    "     r\"$I_n(f) \\approx \\int_a^b f(x)\\mathrm{d}x$\", horizontalalignment='center',\n",
    "     fontsize=30)\n",
    "\n",
    "# Personalizamos los ejes, definieniedo su tamaño, las etiquetas \"x\", \"y\" y el intervalo [a,b]\n",
    "plt.axis([-0.2, x0+2.6, -1, f(x0)+1])\n",
    "plt.figtext(0.9, 0.1, '$x$')\n",
    "plt.figtext(0.1, 0.9, '$y$')\n",
    "ax.set_xticks((a,b))\n",
    "ax.set_xticklabels(('$a$','$b$'))\n",
    "ax.set_yticks([])"
   ]
  },
  {
   "cell_type": "code",
   "execution_count": 2,
   "metadata": {},
   "outputs": [],
   "source": []
  }
 ],
 "metadata": {
  "kernelspec": {
   "display_name": "Python 3 (ipykernel)",
   "language": "python",
   "name": "python3"
  },
  "language_info": {
   "codemirror_mode": {
    "name": "ipython",
    "version": 3
   },
   "file_extension": ".py",
   "mimetype": "text/x-python",
   "name": "python",
   "nbconvert_exporter": "python",
   "pygments_lexer": "ipython3",
   "version": "3.10.6"
  }
 },
 "nbformat": 4,
 "nbformat_minor": 1
}
