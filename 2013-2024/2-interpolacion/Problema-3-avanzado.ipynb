{
 "cells": [
  {
   "cell_type": "markdown",
   "metadata": {},
   "source": [
    "Interpola, mediante el interpolador de Lagrange (calculado usando las fórmulas de Lagrange y de Newton), los siguientes puntos $(x, y)$: $(0.1, 1)$, $(0.2, -4)$, $(0.4, 8)$, $(0.8, -16)$."
   ]
  },
  {
   "cell_type": "code",
   "execution_count": 2,
   "metadata": {
    "collapsed": false
   },
   "outputs": [
    {
     "name": "stdout",
     "output_type": "stream",
     "text": [
      "Populating the interactive namespace from numpy and matplotlib\n"
     ]
    },
    {
     "name": "stderr",
     "output_type": "stream",
     "text": [
      "WARNING: pylab import has clobbered these variables: ['__version__']\n",
      "`%matplotlib` prevents importing * from pylab and numpy\n"
     ]
    }
   ],
   "source": [
    "# Importamos al espacio de nombres una selección de funciones que nos será útil\n",
    "%pylab inline"
   ]
  },
  {
   "cell_type": "code",
   "execution_count": 3,
   "metadata": {
    "collapsed": true
   },
   "outputs": [],
   "source": [
    "# Datos a interpolar\n",
    "x = [0.1, 0.2, 0.4, 0.8]\n",
    "y = [1, -4, 8, -16]"
   ]
  },
  {
   "cell_type": "code",
   "execution_count": 4,
   "metadata": {
    "collapsed": false
   },
   "outputs": [
    {
     "data": {
      "text/plain": [
       "[<matplotlib.lines.Line2D at 0x7f160e84c748>]"
      ]
     },
     "execution_count": 4,
     "metadata": {},
     "output_type": "execute_result"
    },
    {
     "data": {
      "image/png": "[encoded data removed]",
      "text/plain": [
       "<matplotlib.figure.Figure at 0x7f160e84c780>"
      ]
     },
     "metadata": {},
     "output_type": "display_data"
    }
   ],
   "source": [
    "# Polinomio de interpolación según la función de la fórmula de Lagrange programada en Python\n",
    "from scipy.interpolate import lagrange\n",
    "\n",
    "p = lagrange(x, y)\n",
    "\n",
    "rango_x = [0, 1]\n",
    "X = linspace(*rango_x)\n",
    "\n",
    "plot(X, p(X), color=\"black\", linewidth=1.5)\n",
    "plot(x, y, \"o\", color=\"red\", markersize=7)"
   ]
  },
  {
   "cell_type": "code",
   "execution_count": 5,
   "metadata": {
    "collapsed": true
   },
   "outputs": [],
   "source": [
    "# Construimos nosotros una función que devuelva el interpolador de Lagrange usando la fórmula de Lagrange\n",
    "from functools import reduce\n",
    "\n",
    "# Funciones base de Lagrange\n",
    "def funcion_base_lagrange(lista_x, punto):\n",
    "    \"\"\"Construye una función base de Lagrange a partir de una lista de valores de abscisa en la\n",
    "    que se especifica una posición (un punto) concreta.\n",
    "    \n",
    "    Parámetros\n",
    "    ----------\n",
    "    lista_x : list[float]\n",
    "        Lista de valores de abscisa.\n",
    "    punto : int\n",
    "        Posición de la lista que indica el punto en el que la función base vale 1.\n",
    "    \n",
    "    Retorno\n",
    "    -------\n",
    "    function\n",
    "        Función base asociada a los valores de abscisa en lista_x, que alcanza el\n",
    "        valor 1 en lista_x[punto] y 0 en los demás\n",
    "    \"\"\"\n",
    "    # Este es el denominador de la función base, que es independiente del punto en el que evaluemos esta.\n",
    "    denominador = reduce(lambda a, b: a*b, # Función producto\n",
    "                         [(lista_x[punto]-lista_x[i]) for i in range(len(lista_x)) if i != punto]) # Lista con los factores del\n",
    "                                                                                                   # denom. de la función base\n",
    "    # Esta es la función base en sí:\n",
    "    def func_base(u):\n",
    "        # Este es el numerador de la función base, que hay que calcularlo según el punto de evaluación.\n",
    "        numerador = reduce(lambda a, b: a*b, # Función producto\n",
    "                           [(u-lista_x[i]) for i in range(len(lista_x)) if i != punto]) # Lista con los factores del numer. de\n",
    "                                                                                        # la función base\n",
    "        return numerador/denominador\n",
    "    return func_base"
   ]
  },
  {
   "cell_type": "code",
   "execution_count": 6,
   "metadata": {
    "collapsed": true
   },
   "outputs": [],
   "source": [
    "# Polinomio interpolador de Lagrange mediante la fórmula de Lagrange\n",
    "def interpolador_lagrange(lista_x, lista_y):\n",
    "    \"\"\"Construye el interpolador de Lagrange (empleando la fórmula de Lagrange) para un conjunto\n",
    "    de punto cuyos valores de abscisa están dados en una lista y cuyos valores de ordenada están\n",
    "    dados en otra.\n",
    "    \n",
    "    Parámetros\n",
    "    ----------\n",
    "    lista_x : list[float]\n",
    "        Lista de valores de abscisa.\n",
    "    lista_y : list[float]\n",
    "        Lista de valores de ordenada.\n",
    "    \n",
    "    Retorno\n",
    "    -------\n",
    "    function\n",
    "        Interpolador de Lagrange que pasa por los puntos (x, y) donde x pertenece a lista_x e y es el valor\n",
    "        perteneciente a lista_y que está asociado a esa x.\n",
    "    \"\"\"\n",
    "    funciones_base = [] # Lista con las funciones base. El elemento i es la función base asociada al punto x_i de lista_x\n",
    "    \n",
    "    # Construimos las funciones base para todos los puntos x_i\n",
    "    for i in range(len(lista_x)):\n",
    "        funciones_base.append(funcion_base_lagrange(lista_x, i))\n",
    "    \n",
    "    # Este es el interpolador en sí:\n",
    "    @vectorize # Usamos la clase \"vectorize\" de numpy como decorador para vectorizar nuestra función\n",
    "    def interp(u):\n",
    "        return sum( [lista_y[i]*funciones_base[i](u) for i in range(len(lista_x))] ) # Calculamos los valores del interpolador\n",
    "                                                                                     # usando las funciones base y los valores\n",
    "                                                                                     # de ordenada\n",
    "    return interp"
   ]
  },
  {
   "cell_type": "code",
   "execution_count": 7,
   "metadata": {
    "collapsed": false
   },
   "outputs": [
    {
     "data": {
      "text/plain": [
       "[<matplotlib.lines.Line2D at 0x7f160e84c7b8>]"
      ]
     },
     "execution_count": 7,
     "metadata": {},
     "output_type": "execute_result"
    },
    {
     "data": {
      "image/png": "[encoded data removed]",
      "text/plain": [
       "<matplotlib.figure.Figure at 0x7f160956c828>"
      ]
     },
     "metadata": {},
     "output_type": "display_data"
    }
   ],
   "source": [
    "# Polinomio de interpolación según nuestra función de la fórmula de Lagrange\n",
    "p = interpolador_lagrange(x, y)\n",
    "\n",
    "plot(X, p(X), color=\"black\", linewidth=1.5)\n",
    "plot(x, y, \"o\", color=\"red\", markersize=7)"
   ]
  },
  {
   "cell_type": "code",
   "execution_count": 8,
   "metadata": {
    "collapsed": true
   },
   "outputs": [],
   "source": [
    "# Ahora contruimos una función que devuelva el interpolador de Lagrange usando la fórmula de Newton\n",
    "\n",
    "# Diferencias divididas\n",
    "def dif_div(lista_x, lista_y, orden, pos):\n",
    "    \"\"\"Calcula, recursivamente, una diferencia dividida de un orden concreto dadas dos listas:\n",
    "    una de valores de abscisa, y la otra de sus valores de ordenada asociados.\n",
    "    \n",
    "    Parámetros\n",
    "    ----------\n",
    "    lista_x : list[float]\n",
    "        Lista de valores de abscisa.\n",
    "    lista_y : list[float]\n",
    "        Lista de valores de ordenada.\n",
    "    orden : int\n",
    "        Orden de la diferencia dividida.\n",
    "    pos : int\n",
    "        Valor que indica, una vez fijado el orden, qué diferencia dividida estamos calculando.\n",
    "        \n",
    "        Por ejemplo, si tenemos cuatro puntos (x_0, y_0), ..., (x_3, y_3), y fijamos orden 1\n",
    "        (hay 3 diferencias divididas con ese orden), el valor pos=0 correspondería a la diferencia\n",
    "        f[x_0, x_1], el valor pos=1 a f[x_1, x_2], y el valor pos=2 a f[x_2, x_3].\n",
    "    \n",
    "    Retorno\n",
    "    -------\n",
    "    float\n",
    "        Diferencia dividida asociada a los puntos (x, y) determinados por lista_x y lista_y, de orden = orden\n",
    "        y especificada por pos.\n",
    "    \"\"\"\n",
    "    if orden == 0:\n",
    "        return lista_y[pos]\n",
    "    else:\n",
    "        return (dif_div(lista_x, lista_y, orden-1, pos+1) - dif_div(lista_x, lista_y, orden-1, pos))/(x[pos+orden] - x[pos])"
   ]
  },
  {
   "cell_type": "code",
   "execution_count": 9,
   "metadata": {
    "collapsed": true
   },
   "outputs": [],
   "source": [
    "# Polinomio interpolador de Lagrange mediante la fórmula de Newton\n",
    "def interpolador_newton(lista_x, lista_y):\n",
    "    \"\"\"Construye el interpolador de Lagrange (empleando la fórmula de Newton) para un conjunto\n",
    "    de punto cuyos valores de abscisa están dados en una lista y cuyos valores de ordenada están\n",
    "    dados en otra.\n",
    "    \n",
    "    Parámetros\n",
    "    ----------\n",
    "    lista_x : list[float]\n",
    "        Lista de valores de abscisa.\n",
    "    lista_y : list[float]\n",
    "        Lista de valores de ordenada.\n",
    "    \n",
    "    Retorno\n",
    "    -------\n",
    "    function\n",
    "        Interpolador de Lagrange que pasa por los puntos (x, y) donde x pertenece a lista_x e y es el valor\n",
    "        perteneciente a lista_y que está asociado a esa x.\n",
    "    \"\"\"\n",
    "    dif_divs = [dif_div(lista_x, lista_y, k, 0) for k in range(len(lista_x))] # Lista con las diferencias divididas\n",
    "    \n",
    "    # Este es el interpolador en sí\n",
    "    @vectorize # Volvemos a usar \"vectorize\" para vectorizar nuestra función\n",
    "    def interp(u):\n",
    "        # Aplicamos la fórmula de Newton\n",
    "        prods = [reduce(lambda x, y: x*y, [(u-x) for x in lista_x[0:k+1]]) for k in range(len(lista_x)-1)]\n",
    "        return dif_divs[0] + sum([dif_divs[k+1]*prods[k] for k in range(len(lista_x)-1)])\n",
    "    return interp"
   ]
  },
  {
   "cell_type": "code",
   "execution_count": 10,
   "metadata": {
    "collapsed": false
   },
   "outputs": [
    {
     "data": {
      "text/plain": [
       "[<matplotlib.lines.Line2D at 0x7f160950bd68>]"
      ]
     },
     "execution_count": 10,
     "metadata": {},
     "output_type": "execute_result"
    },
    {
     "data": {
      "image/png": "[encoded data removed]",
      "text/plain": [
       "<matplotlib.figure.Figure at 0x7f16094cbe48>"
      ]
     },
     "metadata": {},
     "output_type": "display_data"
    }
   ],
   "source": [
    "# Polinomio de interpolación según nuestra función de la fórmula de Newton\n",
    "p = interpolador_newton(x, y)\n",
    "\n",
    "plot(X, p(X), color=\"black\", linewidth=1.5)\n",
    "plot(x, y, \"o\", color=\"red\", markersize=7)"
   ]
  },
  {
   "cell_type": "code",
   "execution_count": 1,
   "metadata": {
    "collapsed": true
   },
   "outputs": [],
   "source": [
    "__author__ = \"Andoni Gutiérrez Martínez, J. Rafael Rodríguez Galván\"\n",
    "__license__ = \"BSD\"\n",
    "__version__ = \"0.1\""
   ]
  },
  {
   "cell_type": "code",
   "execution_count": null,
   "metadata": {
    "collapsed": true
   },
   "outputs": [],
   "source": []
  }
 ],
 "metadata": {
  "kernelspec": {
   "display_name": "Python 3",
   "language": "python",
   "name": "python3"
  },
  "language_info": {
   "codemirror_mode": {
    "name": "ipython",
    "version": 3
   },
   "file_extension": ".py",
   "mimetype": "text/x-python",
   "name": "python",
   "nbconvert_exporter": "python",
   "pygments_lexer": "ipython3",
   "version": "3.4.3+"
  }
 },
 "nbformat": 4,
 "nbformat_minor": 0
}
