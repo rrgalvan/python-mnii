{
 "cells": [
  {
   "cell_type": "markdown",
   "metadata": {},
   "source": [
    "# Problema 5 (tema 4)"
   ]
  },
  {
   "cell_type": "markdown",
   "metadata": {},
   "source": [
    "Aproximar la solución del problema de Cauchy\n",
    "\n",
    "$$\n",
    "y'=x^2 - \\sqrt{y-e^{x/2}}, \\quad x\\in[0,2], \\quad\n",
    "y(0)=5,\n",
    "$$\n",
    "con paso $h=0.1$, mediante:\n",
    "1. El método de Adams--Bashforth de orden dos.\n",
    "$$\n",
    "y_{n+2}=y_{n+1} + \\frac{h}{2} \\big[3f(t_{n+1},y_{n+1}) - f(t_{n},y_{n}) \\big].\n",
    "$$\n",
    "2. El método predictor-corrector $AB2$--$AM2$, que se construye utilizando el método anterior para la predicción y, para la corrección, el método de Adams-Moulton de orden 2:\n",
    "$$\n",
    "y_{n+2}= y_{n+1} + \\frac{h}{12} \\big[5f(t_{n+2},y_{n+2}) + 8 f(t_{n+1},y_{n+1}) - f(t_{n},y_{n}) \\big].\n",
    "$$\n",
    "Inicializar mediante un método de un paso adecuado."
   ]
  },
  {
   "cell_type": "code",
   "execution_count": 2,
   "metadata": {},
   "outputs": [
    {
     "name": "stdout",
     "output_type": "stream",
     "text": [
      "Populating the interactive namespace from numpy and matplotlib\n"
     ]
    },
    {
     "name": "stderr",
     "output_type": "stream",
     "text": [
      "WARNING: pylab import has clobbered these variables: ['f']\n",
      "`%matplotlib` prevents importing * from pylab and numpy\n"
     ]
    }
   ],
   "source": [
    "%pylab inline\n",
    "\n",
    "def f(t, y): return t**2 - sqrt(y-exp(t/2))\n",
    "a, b = 0, 2\n",
    "h = 0.1\n",
    "y_a = 5"
   ]
  },
  {
   "cell_type": "markdown",
   "metadata": {},
   "source": [
    "### 1. Método de Adams-Basforth de dos pasos\n",
    "Como $AB2$ tiene orden dos, inicializamos mediante un método de orden dos, por ejemplo Euler-Cauchy:"
   ]
  },
  {
   "cell_type": "code",
   "execution_count": 3,
   "metadata": {},
   "outputs": [],
   "source": [
    "def AB2(f, y_a, a, b, h):\n",
    "    \"\"\"Calcula la solución de y'=f(t,y) mediante el mét. AB2.\"\"\"\n",
    "    N = int( round((b-a)/h) )\n",
    "    soporte = linspace(a, b, N+1)\n",
    "    \n",
    "    # (1) Inicialización, por ejemplo Euler-Cauchy\n",
    "    sol = [y_a] # Almacenamos y_0\n",
    "    yn = y_a\n",
    "    for i in range(1): # Sólo daremos un paso en E-Cauchy, calculando y_1\n",
    "        tn = soporte[i]\n",
    "        k1 = yn + h/2 * f(tn, yn)\n",
    "        yn = yn + h*f(tn + h/2, k1) # E-Cauchy\n",
    "        sol.append(yn)\n",
    "        \n",
    "    # (2) Iteraciones del método predictor-corrector AB2-AM2\n",
    "    y0 = sol[0]; y1 = sol[1];\n",
    "    f0 = f(a, y0); f1 = f(a+h, y1);\n",
    "    for i in range(N-1): # i = 0, 1, ..., N-2\n",
    "        # a) Cálculo de $y_{n+2}$\n",
    "        yn = yn + h/2 * (3*f1 - f0)\n",
    "        sol.append(yn)\n",
    "        # b) Preparamos la siguiente iteración\n",
    "        tn = soporte[i+2] # Ponemos el tiempo en $t_{n+2}$\n",
    "        f0 = f1; f1 = f(tn, yn) # Calculamos f en $t_{n+2}$\n",
    "    return soporte, sol\n",
    "\n",
    "soporte, sol_ab2 = AB2(f, y_a, a, b, h)"
   ]
  },
  {
   "cell_type": "code",
   "execution_count": 4,
   "metadata": {},
   "outputs": [
    {
     "data": {
      "image/png": "[encoded data removed]",
      "text/plain": [
       "<matplotlib.figure.Figure at 0x7ff1ecc78978>"
      ]
     },
     "metadata": {},
     "output_type": "display_data"
    }
   ],
   "source": [
    "xx = linspace(a,b,100)\n",
    "from scipy.integrate import odeint\n",
    "def func(y, t): return f(t,y)\n",
    "sol_python = odeint(func, y_a, xx)\n",
    "plot(xx, sol_python, label=u'Solución Python')\n",
    "\n",
    "plot(soporte, sol_ab2, 'o', c='red',  label='AB2, paso ' + str(h))\n",
    "legend(loc='best')\n",
    "grid()"
   ]
  },
  {
   "cell_type": "markdown",
   "metadata": {},
   "source": [
    "### 2.- Método predictor-corrector AB2-AM2\n",
    "\n",
    "El código del método predictor-corrector es exactamente igual al anterior, excepto por el siguiente detalle: en cada etapa, después de un primer cálculo de $y_{n+2}$ (predicción), debemos utilizar este valor como semilla para hallar $f(t_{n+2}, y_{n+2})$, valor que será usado (por el método de Adams-Moulton de orden 2) para calcular una corrección de $y_{n+2}$, que será la aproximación definitiva de $y'(t_{n+2})$."
   ]
  },
  {
   "cell_type": "code",
   "execution_count": 5,
   "metadata": {},
   "outputs": [],
   "source": [
    "def pred_corr_AB2_AM2(f, y_a, a, b, h):\n",
    "    \"\"\"Calcula la solución de y'=f(t,y) mediante el mét. AB2.\"\"\"\n",
    "    N = int( round((b-a)/h) )\n",
    "    soporte = linspace(a, b, N+1)\n",
    "    \n",
    "    # (1) Inicialización, por ejemplo Euler-Cauchy\n",
    "    sol = [y_a] # Almacenamos y_0\n",
    "    yn = y_a\n",
    "    for i in range(1): # Sólo daremos un paso en E-Cauchy, calculando y_1\n",
    "        tn = soporte[i]\n",
    "        k1 = yn + h/2 * f(tn, yn)\n",
    "        yn = yn + h*f(tn + h/2, k1) # E-Cauchy\n",
    "        sol.append(yn)\n",
    "        \n",
    "    # (2) Iteraciones del método predictor-corrector\n",
    "    y0 = sol[0]; y1 = sol[1];\n",
    "    f0 = f(a, y0); f1 = f(a+h, y1);\n",
    "    for i in range(N-1): # i = 0, 1, ..., N-2\n",
    "        # a) Predicción de $y_{n+2}$\n",
    "        yn_pred = yn + h/2 * (3*f1 - f0)\n",
    "        # b) Corrección de $y_{n+2}$\n",
    "        tn = soporte[i+2] # Ponemos el tiempo en $t_{n+2}$\n",
    "        fn = f(tn, yn_pred) # Cálculo de $f(t_{n+2}, y^*_{n+2})$\n",
    "        yn = yn + h/12 * (5*fn + 8*f1 -f0) # Corrección de $y_{n+2}$\n",
    "        sol.append(yn)\n",
    "        f0 = f1; f1 = f(tn, yn) # Calculamos f en $t_{n+2}$\n",
    "    return soporte, sol\n",
    "\n",
    "soporte, sol_pred_corr = pred_corr_AB2_AM2(f, y_a, a, b, h)"
   ]
  },
  {
   "cell_type": "code",
   "execution_count": 6,
   "metadata": {},
   "outputs": [
    {
     "data": {
      "image/png": "[encoded data removed]",
      "text/plain": [
       "<matplotlib.figure.Figure at 0x7ff1e934cef0>"
      ]
     },
     "metadata": {},
     "output_type": "display_data"
    }
   ],
   "source": [
    "xx = linspace(a,b,100)\n",
    "from scipy.integrate import odeint\n",
    "def func(y, t): return f(t,y)\n",
    "sol_python = odeint(func, y_a, xx)\n",
    "plot(xx, sol_python, label=u'Solución Python')\n",
    "\n",
    "plot(soporte, sol_pred_corr, 'o', c='red',  label='AB2-AM2, paso ' + str(h))\n",
    "legend(loc='best')\n",
    "grid()"
   ]
  },
  {
   "cell_type": "code",
   "execution_count": 6,
   "metadata": {},
   "outputs": [],
   "source": []
  }
 ],
 "metadata": {
  "kernelspec": {
   "display_name": "Python 3 (ipykernel)",
   "language": "python",
   "name": "python3"
  },
  "language_info": {
   "codemirror_mode": {
    "name": "ipython",
    "version": 3
   },
   "file_extension": ".py",
   "mimetype": "text/x-python",
   "name": "python",
   "nbconvert_exporter": "python",
   "pygments_lexer": "ipython3",
   "version": "3.10.6"
  }
 },
 "nbformat": 4,
 "nbformat_minor": 1
}
