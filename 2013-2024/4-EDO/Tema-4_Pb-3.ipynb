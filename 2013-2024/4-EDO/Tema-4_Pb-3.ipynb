{
 "cells": [
  {
   "cell_type": "markdown",
   "metadata": {},
   "source": [
    "# Problema 3 (tema 4)"
   ]
  },
  {
   "cell_type": "markdown",
   "metadata": {},
   "source": [
    "Consideremos el siguiente problema de valor inicial:\n",
    "\n",
    "\\begin{align*}\n",
    "      &y'= 1-y^2 \\quad x\\in[0,5],\\\\\n",
    "      &y(0)=0,\n",
    "\\end{align*}\n",
    "\n",
    "1) Nos proponemos aproximar la solución con $h=0.5$ usando 4 funciones distintas: `pasoEuler(f, tn, yn, h)`, `pasoHeunn(f, tn, yn, h)`, `pasoEC(f, tn, yn, h)` y `pasoRK(f, tn, yn, h)`. Cada una de ellas aproximaerá la solución $y(t_{n+1})$ de la ecuación diferencial $y'=f(t,y)$ partir de un paso de tamaño $h$ desde la aproximación $yn \\simeq y(t_n)$ usando respectivamente:\n",
    "\n",
    "    a. El método de Euler.\n",
    " \n",
    "    b. El método de Heunn.\n",
    "    \n",
    "    c. El método de Euler-Cauchy.\n",
    "    \n",
    "    d. El método de Runge Kutta.\n",
    "    \n",
    "En primer lugar, se trata de definir estas funciones. Se puede comprobar que, al realizar realizar un paso a partir de $y_0=0$, todas ellas devuelven valores similares.\n",
    "\n",
    "2) Definir una función `metodoUnPaso(f, t, y0, funcionPaso)` que proxime el problema de valor inicial $y'=f(t,y)$, $y(t_0)=y0$ en los puntos equiespaciados $t_0$, $t_1$, ..., $t_N$ contenidos en el array `t`. El parámetro funcionPaso representará el método a utilizar y será una de las cuatro funciones definidas en el apartado anterior\n",
    "\n",
    "3) Sabiendo que la solución exacta del PVI anterior es $$y(t) = \\frac{e^{2t}-1}{e^{2t}+1}$$\n",
    "\n",
    "    a. Representar en una sola gráfica la función $y$ junto a las 4 aproximaciones anteriores\n",
    "    \n",
    "    b. Calcular los errores de discretización (para cada úno de los métodos), es decir $e_n$, para cada $n=0,...,N$. ¿Queda mejor si usas gráficas logarítmicas?\n",
    "    \n",
    "    c. Representar en una gráfica de barras los 4 errores de discretización en norma infinito.\n",
    "\n",
    "4) Introducir todas las funciones en un fichero llamado por ejemplo `metodosUnPaso.py\", colocada en la misma carpeta que el cuaderno Jupyter. Al hacerlo, habemos definido una biblioteca que se podría usar de forma similar a:\n",
    "\n",
    "```python\n",
    "import metodosUnPaso as m1p\n",
    "\n",
    "def f(t,y): return y\n",
    "t0, y0, h = 0, 1, 1.e-1\n",
    "\n",
    "y1 = m1p.pasoRK(f, t0, y0, h)\n",
    "```\n"
   ]
  },
  {
   "cell_type": "code",
   "execution_count": 11,
   "metadata": {},
   "outputs": [],
   "source": []
  }
 ],
 "metadata": {
  "kernelspec": {
   "display_name": "Python 3 (ipykernel)",
   "language": "python",
   "name": "python3"
  },
  "language_info": {
   "codemirror_mode": {
    "name": "ipython",
    "version": 3
   },
   "file_extension": ".py",
   "mimetype": "text/x-python",
   "name": "python",
   "nbconvert_exporter": "python",
   "pygments_lexer": "ipython3",
   "version": "3.10.6"
  }
 },
 "nbformat": 4,
 "nbformat_minor": 1
}
