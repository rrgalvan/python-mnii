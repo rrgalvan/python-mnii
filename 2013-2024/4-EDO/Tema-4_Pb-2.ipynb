{
 "cells": [
  {
   "cell_type": "markdown",
   "metadata": {},
   "source": [
    "# Problema 2 (tema 4)"
   ]
  },
  {
   "cell_type": "markdown",
   "metadata": {},
   "source": [
    "Demostrar que existe el siguiente problema de valor inicial está bien planteado (es decir, tiene una única solución):\n",
    "\\begin{align*}\n",
    "      &y'=y(y-x)(y-2), \\quad x\\in[0,3],\\\\\n",
    "      &y(0)=1.\n",
    "\\end{align*}\n",
    "\n",
    "Aproximar la solución con $h=0.2$ usando el método de Euler mejorado y comparar con la solución aproximada que proporciona la función `odeint` de Python. Calcular la diferencia, en norma infinito, entre ambas aproximaciones."
   ]
  },
  {
   "cell_type": "markdown",
   "metadata": {},
   "source": [
    "### 1.- Buen planteamiento del problema"
   ]
  },
  {
   "cell_type": "markdown",
   "metadata": {},
   "source": [
    "Sea $y(x)$ la solución maximal del problema anterior. Tenemos que ver que está definida en todo $[0,3]$, es decir, que no \"explota\" antes de llegar a $x=3$. O sea, que $y(x)$ está acotada en todo $[0,3]$.\n",
    "\n",
    "1) Sea $y_1(x)$ la solución del siguiente problema (en el que varía sólo el dato inicial)\n",
    "\\begin{align*}\n",
    "      &y'=y(y-x)(y-2), \\quad x\\in[0,3],\\\\\n",
    "      &y(0)=0.\n",
    "\\end{align*}\n",
    "\n",
    "Es muy fácil comprobar que esta solución es $y_1(x)=0$, definida en todo $[0,3]$.\n",
    "\n",
    "Como $y_1(0)=0 < 1=y(0)$, entonces $0=y_1(x) < y(x)$ para todo $x\\in[0,3]$. Por tanto, $y(x)$ está acotada inferiormente.\n",
    "\n",
    "2) Sea ahora $y_2(x)$ la solución del siguiente problema (en el que varía sólo el dato inicial)\n",
    "\\begin{align*}\n",
    "      &y'=y(y-x)(y-2), \\quad x\\in[0,3],\\\\\n",
    "      &y(0)=2.\n",
    "\\end{align*}\n",
    "\n",
    "Es muy fácil comprobar que esta solución es $y_2(x)=2$, definida en todo $[0,3]$.\n",
    "\n",
    "Como $y(0)=1 < 2 = y_2(0)$, entonces $y(x) < y_2(x)=2$ para todo $x\\in[0,3]$. Por tanto, $y(x)$ está acotada, luego la única solución maximal está definida en todo $[0,3]$."
   ]
  },
  {
   "cell_type": "code",
   "execution_count": 1,
   "metadata": {},
   "outputs": [
    {
     "name": "stdout",
     "output_type": "stream",
     "text": [
      "Populating the interactive namespace from numpy and matplotlib\n"
     ]
    }
   ],
   "source": [
    "%pylab inline"
   ]
  },
  {
   "cell_type": "markdown",
   "metadata": {},
   "source": [
    "### 2.- Aproximación mediante `odeint`"
   ]
  },
  {
   "cell_type": "code",
   "execution_count": 3,
   "metadata": {},
   "outputs": [],
   "source": [
    "def f(x,y): return y*(y-x)*(y-2)\n",
    "y_a = 1\n",
    "a, b = 0, 3\n",
    "h = 0.2"
   ]
  },
  {
   "cell_type": "code",
   "execution_count": 5,
   "metadata": {},
   "outputs": [
    {
     "data": {
      "image/png": "[encoded data removed]",
      "text/plain": [
       "<matplotlib.figure.Figure at 0x7f0f447b1ef0>"
      ]
     },
     "metadata": {},
     "output_type": "display_data"
    }
   ],
   "source": [
    "def heun(f, y_a, a, b, h):\n",
    "    \"\"\"Calcula la solución de y'=f(t,y) mediante el mét. Euler Mejorado\"\"\"\n",
    "    N = int( round((b-a)/h) )\n",
    "    \n",
    "    soporte = linspace(a, b, N+1)\n",
    "    sol = [y_a]\n",
    "    yn = y_a\n",
    "    for i in range(N): # i = 0, 1, ..., N-1\n",
    "        tn = soporte[i]\n",
    "        t1 = soporte[i+1]\n",
    "        k1 = yn + h*f(tn, yn)\n",
    "        yn1 = yn + h*f(t1,k1)\n",
    "        sol.append(yn1)\n",
    "        yn = yn1 # Actualizo yn para próxima iteración\n",
    "    return soporte, sol\n",
    "\n",
    "soporte, sol_heun = heun(f, y_a, a, b, h)\n",
    "\n",
    "# solución mediante python\n",
    "from scipy.integrate import odeint\n",
    "def func(y, t): return f(t, y)\n",
    "sol_python = odeint(func, y_a, soporte)\n",
    "\n",
    "plot(soporte, sol_python, lw=2, label=u'Solución python')\n",
    "plot(soporte, sol_heun, 'o',  c='red',  label='Heun, paso ' + str(h))\n",
    "legend(loc='best')\n",
    "grid()"
   ]
  },
  {
   "cell_type": "markdown",
   "metadata": {},
   "source": [
    "### 3.- Norma infinito de la diferencia"
   ]
  },
  {
   "cell_type": "markdown",
   "metadata": {},
   "source": [
    "La solución aproximada, sol_heun, es una lista (porque así lo hemos programado):"
   ]
  },
  {
   "cell_type": "code",
   "execution_count": 7,
   "metadata": {},
   "outputs": [
    {
     "data": {
      "text/plain": [
       "[1,\n",
       " 0.88480000000000003,\n",
       " 0.8192511801103286,\n",
       " 0.79351758149621687,\n",
       " 0.80170832455879459,\n",
       " 0.83986520002179954,\n",
       " 0.90455748343025866,\n",
       " 0.99181701124230981,\n",
       " 1.0965592722910085,\n",
       " 1.2126446453909512,\n",
       " 1.3334375448659535,\n",
       " 1.4524947812593221,\n",
       " 1.5641123170055256,\n",
       " 1.6637142989828819,\n",
       " 1.7481824798476657,\n",
       " 1.8161292207122852]"
      ]
     },
     "execution_count": 7,
     "metadata": {},
     "output_type": "execute_result"
    }
   ],
   "source": [
    "sol_heun"
   ]
  },
  {
   "cell_type": "markdown",
   "metadata": {},
   "source": [
    "Pero la solución de Python, sol_python, es una matriz columna (porque así está progamada la función `odeint`):"
   ]
  },
  {
   "cell_type": "code",
   "execution_count": 16,
   "metadata": {},
   "outputs": [
    {
     "data": {
      "text/plain": [
       "array([[ 1.        ],\n",
       "       [ 0.83880204],\n",
       "       [ 0.74564325],\n",
       "       [ 0.70471703],\n",
       "       [ 0.70443674],\n",
       "       [ 0.7378997 ],\n",
       "       [ 0.80091485],\n",
       "       [ 0.88998022],\n",
       "       [ 1.00077583],\n",
       "       [ 1.12746306],\n",
       "       [ 1.26288683],\n",
       "       [ 1.39939923],\n",
       "       [ 1.52979336],\n",
       "       [ 1.64799403],\n",
       "       [ 1.74948472],\n",
       "       [ 1.83161023]])"
      ]
     },
     "execution_count": 16,
     "metadata": {},
     "output_type": "execute_result"
    }
   ],
   "source": [
    "sol_python"
   ]
  },
  {
   "cell_type": "markdown",
   "metadata": {},
   "source": [
    "Para poder restar estos dos objetos, los convertiremos en arrays 1-dimensionales (vectores)."
   ]
  },
  {
   "cell_type": "code",
   "execution_count": 21,
   "metadata": {},
   "outputs": [
    {
     "data": {
      "text/plain": [
       "array([ 0.        ,  0.04599796,  0.07360793,  0.08880056,  0.09727159,\n",
       "        0.1019655 ,  0.10364263,  0.10183679,  0.09578344,  0.08518159,\n",
       "        0.07055072,  0.05309556,  0.03431895,  0.01572027, -0.00130224,\n",
       "       -0.01548101])"
      ]
     },
     "execution_count": 21,
     "metadata": {},
     "output_type": "execute_result"
    }
   ],
   "source": [
    "# a) Convertimos la lista 'sol_euler_mejorado' en un array\n",
    "array_sol_em = array(sol_euler_mejorado)\n",
    "\n",
    "# b) Hacemos lo mismo con la matriz columna \n",
    "matriz_fila = sol_python.transpose() # Trasponemos la matriz columna\n",
    "array_sol_py = matriz_fila[0] # Extraemos la primera (y única) fila de la matriz\n",
    "\n",
    "# Ahora podemos restar las dos\n",
    "array_sol_em - array_sol_py"
   ]
  },
  {
   "cell_type": "code",
   "execution_count": 27,
   "metadata": {},
   "outputs": [
    {
     "name": "stdout",
     "output_type": "stream",
     "text": [
      "Diferencia (norma infinito): 0.103642634522\n"
     ]
    }
   ],
   "source": [
    "# Así calculamos la diferencia en norma infinito:\n",
    "print \"Diferencia (norma infinito):\", max(abs(array_sol_em - array_sol_py))"
   ]
  }
 ],
 "metadata": {
  "kernelspec": {
   "display_name": "Python 3 (ipykernel)",
   "language": "python",
   "name": "python3"
  },
  "language_info": {
   "codemirror_mode": {
    "name": "ipython",
    "version": 3
   },
   "file_extension": ".py",
   "mimetype": "text/x-python",
   "name": "python",
   "nbconvert_exporter": "python",
   "pygments_lexer": "ipython3",
   "version": "3.10.12"
  }
 },
 "nbformat": 4,
 "nbformat_minor": 4
}
