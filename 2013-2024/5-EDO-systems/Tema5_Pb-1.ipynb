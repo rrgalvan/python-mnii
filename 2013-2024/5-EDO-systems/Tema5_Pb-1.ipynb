{
 "metadata": {
  "name": "",
  "signature": "sha256:d1a9af423797cf76b1f033c97b700d4db6fc90a191ac8d9487b2d2a1fe7df2ef"
 },
 "nbformat": 3,
 "nbformat_minor": 0,
 "worksheets": [
  {
   "cells": [
    {
     "cell_type": "code",
     "collapsed": false,
     "input": [
      "from __future__ import division, print_function\n",
      "%pylab inline\n",
      "from scipy.integrate import odeint"
     ],
     "language": "python",
     "metadata": {},
     "outputs": [
      {
       "output_type": "stream",
       "stream": "stdout",
       "text": [
        "Populating the interactive namespace from numpy and matplotlib\n"
       ]
      },
      {
       "output_type": "stream",
       "stream": "stderr",
       "text": [
        "WARNING: pylab import has clobbered these variables: ['f']\n",
        "`%matplotlib` prevents importing * from pylab and numpy\n"
       ]
      }
     ],
     "prompt_number": 59
    },
    {
     "cell_type": "code",
     "collapsed": false,
     "input": [
      "# Datos del problema a resolver\n",
      "def f(t,x,y): return t+y-x\n",
      "def g(t,x,y): return -t+x+y\n",
      "N = 10\n",
      "t = linspace(0, 2, N)"
     ],
     "language": "python",
     "metadata": {},
     "outputs": [],
     "prompt_number": 72
    },
    {
     "cell_type": "code",
     "collapsed": false,
     "input": [
      "def euler(f, g, x0, y0, t):\n",
      "    \"\"\"\n",
      "    Resuelve un sistema de ecuaciones diferenciales mediante el m\u00e9todo de Euler.\n",
      "    \n",
      "    Argumentos:\n",
      "        f, g: Funciones que definen el sistema\n",
      "        x0, y0: Datos iniciales\n",
      "        t : Lista que define una partici\u00f3n de instantes para la variable independiente\n",
      "    \"\"\"\n",
      "    N=len(t)-1\n",
      "    h = t[1]-t[0]\n",
      "    xn=x0\n",
      "    yn=y0\n",
      "    solx, soly = [x0], [y0]\n",
      "    for i in range(N):\n",
      "        print(i)\n",
      "        tn = t[i]\n",
      "        xn1 = xn + h*f(tn, xn, yn)\n",
      "        yn1 = yn + h*g(tn, xn, yn)\n",
      "        solx.append(xn1)\n",
      "        soly.append(yn1)\n",
      "        # Pr\u00f3xima iteraci\u00f3n\n",
      "        xn=xn1\n",
      "        yn=yn1\n",
      "    return solx, soly"
     ],
     "language": "python",
     "metadata": {},
     "outputs": [],
     "prompt_number": 70
    },
    {
     "cell_type": "code",
     "collapsed": false,
     "input": [
      "\n",
      "solx, soly = euler(f, g, 0, 0, t)"
     ],
     "language": "python",
     "metadata": {},
     "outputs": [
      {
       "output_type": "stream",
       "stream": "stdout",
       "text": [
        "0\n",
        "1\n",
        "2\n",
        "3\n"
       ]
      }
     ],
     "prompt_number": 71
    },
    {
     "cell_type": "code",
     "collapsed": false,
     "input": [
      "# Dibujamos la soluci\u00f3n\n",
      "plot(solx,soly, 'o', lw=3)\n",
      "# Comparamos con la funci\u00f3n odeint de Python\n",
      "\n",
      "def func(xy, t):\n",
      "    \"Funci\u00f3n que define el sistema de ecuaciones de forma vectorial\"\n",
      "    x, y = xy\n",
      "    return [f(t, x, y), g(t,x,y)]\n",
      "\n",
      "sol = odeint(func, [0,0], t)\n",
      "x_py = sol[:,0]\n",
      "y_py = sol[:,1]\n",
      "plot(x_py, y_py, \"+-\", c=\"darkgreen\", lw=2, label=\"Soluci\u00f3n odeint\")\n",
      "legend(loc=\"best\")\n",
      "grid()"
     ],
     "language": "python",
     "metadata": {},
     "outputs": [
      {
       "metadata": {},
       "output_type": "display_data",
       "png": "[encoded data removed]",
       "text": [
        "<matplotlib.figure.Figure at 0x7f58f5562780>"
       ]
      }
     ],
     "prompt_number": 63
    },
    {
     "cell_type": "code",
     "collapsed": false,
     "input": [
      "def heun(f, g, x0, y0, t):\n",
      "    N=len(t)-1\n",
      "    h = t[1]-t[0]\n",
      "    xn=x0\n",
      "    yn=y0\n",
      "    solx, soly = [x0], [y0]\n",
      "    for i in range(N):\n",
      "        tn = t[i]\n",
      "        # M\u00e9todo de Heun...\n",
      "        f0 = f(tn,xn,yn) # tn\n",
      "        f1 = xn + h*f(tn,xn,yn) #  f en la etapa tn+1\n",
      "        g0 = g(tn,xn,yn) # tn\n",
      "        g1 = yn + h*g(tn,xn,yn) #  g en la etapa tn+1\n",
      "        xn1 = xn + h/2*( f0+f(tn+1,f1,g1) )\n",
      "        yn1 = yn + h/2*( g0+g(tn+1,f1,g1) )\n",
      "        # ... fin del m\u00e9todo de Heun\n",
      "        solx.append(xn1)\n",
      "        soly.append(yn1)\n",
      "        # Pr\u00f3xima iteraci\u00f3n\n",
      "        xn=xn1\n",
      "        yn=yn1\n",
      "    return solx, soly"
     ],
     "language": "python",
     "metadata": {},
     "outputs": [],
     "prompt_number": 64
    },
    {
     "cell_type": "code",
     "collapsed": false,
     "input": [
      "solx_he, soly_he = heun(f, g, 0, 0, t)\n",
      "\n",
      "# Comparamos con Euler y con odeint"
     ],
     "language": "python",
     "metadata": {},
     "outputs": [],
     "prompt_number": 65
    },
    {
     "cell_type": "code",
     "collapsed": false,
     "input": [
      "plot(solx,soly, 'o', label=\"Euler\")\n",
      "plot(solx_he,soly_he, 'o', c=\"red\", label=\"Heun\")\n",
      "plot(x_py, y_py, \"+-\", c=\"darkgreen\", lw=2, label=\"Soluci\u00f3n odeint\")\n",
      "legend(loc=\"best\")\n",
      "grid()"
     ],
     "language": "python",
     "metadata": {},
     "outputs": [
      {
       "metadata": {},
       "output_type": "display_data",
       "png": "[encoded data removed]",
       "text": [
        "<matplotlib.figure.Figure at 0x7f58f574f518>"
       ]
      }
     ],
     "prompt_number": 66
    },
    {
     "cell_type": "code",
     "collapsed": false,
     "input": [
      "def func(xy, t):\n",
      "    x, y = xy\n",
      "    return [f(t, x, y), g(t,x,y)]\n",
      "\n",
      "from scipy.integrate import odeint\n",
      "sol = odeint(func, [0,0], t)\n",
      "x_py = sol[:,0]\n",
      "y_py = sol[:,1]\n",
      "plot(x_py, y_py, \"+-\", c=\"darkgreen\", lw=2, label=\"Soluci\u00f3n odeint\")\n",
      "legend(loc=\"best\")\n",
      "grid()"
     ],
     "language": "python",
     "metadata": {},
     "outputs": [
      {
       "metadata": {},
       "output_type": "display_data",
       "png": "[encoded data removed]",
       "text": [
        "<matplotlib.figure.Figure at 0x7f58f57f99b0>"
       ]
      }
     ],
     "prompt_number": 67
    },
    {
     "cell_type": "code",
     "collapsed": false,
     "input": [
      "help(odeint)"
     ],
     "language": "python",
     "metadata": {},
     "outputs": [
      {
       "output_type": "stream",
       "stream": "stdout",
       "text": [
        "Help on function odeint in module scipy.integrate.odepack:\n",
        "\n",
        "odeint(func, y0, t, args=(), Dfun=None, col_deriv=0, full_output=0, ml=None, mu=None, rtol=None, atol=None, tcrit=None, h0=0.0, hmax=0.0, hmin=0.0, ixpr=0, mxstep=0, mxhnil=0, mxordn=12, mxords=5, printmessg=0)\n",
        "    Integrate a system of ordinary differential equations.\n",
        "    \n",
        "    Solve a system of ordinary differential equations using lsoda from the\n",
        "    FORTRAN library odepack.\n",
        "    \n",
        "    Solves the initial value problem for stiff or non-stiff systems\n",
        "    of first order ode-s::\n",
        "    \n",
        "        dy/dt = func(y, t0, ...)\n",
        "    \n",
        "    where y can be a vector.\n",
        "    \n",
        "    *Note*: The first two arguments of ``func(y, t0, ...)`` are in the\n",
        "    opposite order of the arguments in the system definition function used\n",
        "    by the `scipy.integrate.ode` class.\n",
        "    \n",
        "    Parameters\n",
        "    ----------\n",
        "    func : callable(y, t0, ...)\n",
        "        Computes the derivative of y at t0.\n",
        "    y0 : array\n",
        "        Initial condition on y (can be a vector).\n",
        "    t : array\n",
        "        A sequence of time points for which to solve for y.  The initial\n",
        "        value point should be the first element of this sequence.\n",
        "    args : tuple, optional\n",
        "        Extra arguments to pass to function.\n",
        "    Dfun : callable(y, t0, ...)\n",
        "        Gradient (Jacobian) of `func`.\n",
        "    col_deriv : bool, optional\n",
        "        True if `Dfun` defines derivatives down columns (faster),\n",
        "        otherwise `Dfun` should define derivatives across rows.\n",
        "    full_output : bool, optional\n",
        "        True if to return a dictionary of optional outputs as the second output\n",
        "    printmessg : bool, optional\n",
        "        Whether to print the convergence message\n",
        "    \n",
        "    Returns\n",
        "    -------\n",
        "    y : array, shape (len(t), len(y0))\n",
        "        Array containing the value of y for each desired time in t,\n",
        "        with the initial value `y0` in the first row.\n",
        "    infodict : dict, only returned if full_output == True\n",
        "        Dictionary containing additional output information\n",
        "    \n",
        "        =======  ============================================================\n",
        "        key      meaning\n",
        "        =======  ============================================================\n",
        "        'hu'     vector of step sizes successfully used for each time step.\n",
        "        'tcur'   vector with the value of t reached for each time step.\n",
        "                 (will always be at least as large as the input times).\n",
        "        'tolsf'  vector of tolerance scale factors, greater than 1.0,\n",
        "                 computed when a request for too much accuracy was detected.\n",
        "        'tsw'    value of t at the time of the last method switch\n",
        "                 (given for each time step)\n",
        "        'nst'    cumulative number of time steps\n",
        "        'nfe'    cumulative number of function evaluations for each time step\n",
        "        'nje'    cumulative number of jacobian evaluations for each time step\n",
        "        'nqu'    a vector of method orders for each successful step.\n",
        "        'imxer'  index of the component of largest magnitude in the\n",
        "                 weighted local error vector (e / ewt) on an error return, -1\n",
        "                 otherwise.\n",
        "        'lenrw'  the length of the double work array required.\n",
        "        'leniw'  the length of integer work array required.\n",
        "        'mused'  a vector of method indicators for each successful time step:\n",
        "                 1: adams (nonstiff), 2: bdf (stiff)\n",
        "        =======  ============================================================\n",
        "    \n",
        "    Other Parameters\n",
        "    ----------------\n",
        "    ml, mu : int, optional\n",
        "        If either of these are not None or non-negative, then the\n",
        "        Jacobian is assumed to be banded.  These give the number of\n",
        "        lower and upper non-zero diagonals in this banded matrix.\n",
        "        For the banded case, `Dfun` should return a matrix whose\n",
        "        rows contain the non-zero bands (starting with the lowest diagonal).\n",
        "        Thus, the return matrix `jac` from `Dfun` should have shape\n",
        "        ``(ml + mu + 1, len(y0))`` when ``ml >=0`` or ``mu >=0``.\n",
        "        The data in `jac` must be stored such that ``jac[i - j + mu, j]``\n",
        "        holds the derivative of the `i`th equation with respect to the `j`th\n",
        "        state variable.  If `col_deriv` is True, the transpose of this\n",
        "        `jac` must be returned.\n",
        "    rtol, atol : float, optional\n",
        "        The input parameters `rtol` and `atol` determine the error\n",
        "        control performed by the solver.  The solver will control the\n",
        "        vector, e, of estimated local errors in y, according to an\n",
        "        inequality of the form ``max-norm of (e / ewt) <= 1``,\n",
        "        where ewt is a vector of positive error weights computed as\n",
        "        ``ewt = rtol * abs(y) + atol``.\n",
        "        rtol and atol can be either vectors the same length as y or scalars.\n",
        "        Defaults to 1.49012e-8.\n",
        "    tcrit : ndarray, optional\n",
        "        Vector of critical points (e.g. singularities) where integration\n",
        "        care should be taken.\n",
        "    h0 : float, (0: solver-determined), optional\n",
        "        The step size to be attempted on the first step.\n",
        "    hmax : float, (0: solver-determined), optional\n",
        "        The maximum absolute step size allowed.\n",
        "    hmin : float, (0: solver-determined), optional\n",
        "        The minimum absolute step size allowed.\n",
        "    ixpr : bool, optional\n",
        "        Whether to generate extra printing at method switches.\n",
        "    mxstep : int, (0: solver-determined), optional\n",
        "        Maximum number of (internally defined) steps allowed for each\n",
        "        integration point in t.\n",
        "    mxhnil : int, (0: solver-determined), optional\n",
        "        Maximum number of messages printed.\n",
        "    mxordn : int, (0: solver-determined), optional\n",
        "        Maximum order to be allowed for the non-stiff (Adams) method.\n",
        "    mxords : int, (0: solver-determined), optional\n",
        "        Maximum order to be allowed for the stiff (BDF) method.\n",
        "    \n",
        "    See Also\n",
        "    --------\n",
        "    ode : a more object-oriented integrator based on VODE.\n",
        "    quad : for finding the area under a curve.\n",
        "    \n",
        "    Examples\n",
        "    --------\n",
        "    The second order differential equation for the angle `theta` of a\n",
        "    pendulum acted on by gravity with friction can be written::\n",
        "    \n",
        "        theta''(t) + b*theta'(t) + c*sin(theta(t)) = 0\n",
        "    \n",
        "    where `b` and `c` are positive constants, and a prime (') denotes a\n",
        "    derivative.  To solve this equation with `odeint`, we must first convert\n",
        "    it to a system of first order equations.  By defining the angular\n",
        "    velocity ``omega(t) = theta'(t)``, we obtain the system::\n",
        "    \n",
        "        theta'(t) = omega(t)\n",
        "        omega'(t) = -b*omega(t) - c*sin(theta(t))\n",
        "    \n",
        "    Let `y` be the vector [`theta`, `omega`].  We implement this system\n",
        "    in python as:\n",
        "    \n",
        "    >>> def pend(y, t, b, c):\n",
        "    ...     theta, omega = y\n",
        "    ...     dydt = [omega, -b*omega - c*np.sin(theta)]\n",
        "    ...     return dydt\n",
        "    ...\n",
        "    \n",
        "    We assume the constants are `b` = 0.25 and `c` = 5.0:\n",
        "    \n",
        "    >>> b = 0.25\n",
        "    >>> c = 5.0\n",
        "    \n",
        "    For initial conditions, we assume the pendulum is nearly vertical\n",
        "    with `theta(0)` = `pi` - 0.1, and it initially at rest, so\n",
        "    `omega(0)` = 0.  Then the vector of initial conditions is\n",
        "    \n",
        "    >>> y0 = [np.pi - 0.1, 0.0]\n",
        "    \n",
        "    We generate a solution 101 evenly spaced samples in the interval\n",
        "    0 <= `t` <= 10.  So our array of times is:\n",
        "    \n",
        "    >>> t = np.linspace(0, 10, 101)\n",
        "    \n",
        "    Call `odeint` to generate the solution.  To pass the parameters\n",
        "    `b` and `c` to `pend`, we give them to `odeint` using the `args`\n",
        "    argument.\n",
        "    \n",
        "    >>> from scipy.integrate import odeint\n",
        "    >>> sol = odeint(pend, y0, t, args=(b, c))\n",
        "    \n",
        "    The solution is an array with shape (101, 2).  The first column\n",
        "    is `theta(t)`, and the second is `omega(t)`.  The following code\n",
        "    plots both components.\n",
        "    \n",
        "    >>> import matplotlib.pyplot as plt\n",
        "    >>> plt.plot(t, sol[:, 0], 'b', label='theta(t)')\n",
        "    >>> plt.plot(t, sol[:, 1], 'g', label='omega(t)')\n",
        "    >>> plt.legend(loc='best')\n",
        "    >>> plt.xlabel('t')\n",
        "    >>> plt.grid()\n",
        "    >>> plt.show()\n",
        "\n"
       ]
      }
     ],
     "prompt_number": 68
    },
    {
     "cell_type": "code",
     "collapsed": false,
     "input": [],
     "language": "python",
     "metadata": {},
     "outputs": [],
     "prompt_number": 68
    }
   ],
   "metadata": {}
  }
 ]
}