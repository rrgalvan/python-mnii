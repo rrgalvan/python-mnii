{
 "cells": [
  {
   "cell_type": "markdown",
   "metadata": {},
   "source": [
    "# Proyecto 1\n",
    "\n",
    "## Biblioteca Python de métodos numéricos para problemas de valor inicial\n",
    "\n",
    "Idea: **Desarrollar una biblioteca** (un módulo) python en la que se recojan todos los métodos explícitos que se han descrito en la asignatura.\n",
    "\n",
    "Nivel de dificultad: fácil.\n",
    "\n",
    "Algunos de los métodos sugeridos:\n",
    "\n",
    "- Método de Euler \n",
    "- Euler-Cauchy\n",
    "- Euler Mejorado\n",
    "- Runge-Kutta (de orden 4)\n",
    "- ...\n",
    "\n",
    "Se valorará el que las funciones de la biblioteca...\n",
    "\n",
    "- sean claras y estén bien comentadas,\n",
    "- incluyan una línea de ayuda sobre su funcionamiento,\n",
    "- optimicen el tiempo de cálculo (por ejemplo, realizando el menor número posible de llamadas a la función que define el problema de valor inicial).\n",
    "\n",
    "Se deberá **comprobar que la biblioteca funciona correctamente**. Para ello, se puede crear un programa (por ejemplo en IPython Notebook) en el que se evalúe cada una de las funciones contenidas en esta biblioteca. Se sugiere el siguiente proceso de evaluación:\n",
    "\n",
    "- Elegir uno o varios problemas de valor inicial que se consideren interesantes (por ejemplo, extraídos de la bibliografía de esta u otras asignaturas, ecuaciones que provengan del ámbito de la Ciencia, etc.). \n",
    "- Probar, para cada uno de los problemas seleccionados, las funciones de la biblioteca, comparando con la solución exacta (en caso de que ésta sea conocida) o bien con la solución aproximada que proporciona la función *odeint* de Python. \n",
    "\n",
    "- Para cada método, probar distintos valores del paso $h$, comprobando cómo los métodos de menor orden exigen que $h$ sea mucho menor que en el caso de métodos de mayor orden.\n",
    "  \n",
    "  \n",
    "Una idea para hacer más interesante el trabajo (y aumentar el nivel de dificultad): programar una biblioteca **orientada a objetos**.\n",
    "\n",
    "- Cada método numérico sería un objeto, definido en su propia clase\n",
    "- El constructor \"`__init__`\" definiría el PVI y la partición del intervalo temporal\n",
    "- Estos métodos tendrían una función miembro \"step()\" que realizaría una (o ḿás) iteraciones\n",
    "\n",
    "Para rizar el rizo: sería muy interesante (aunque habría que aprender mucho más acerca de programación orientada a objetos) la siguiente idea: usar [herencia](https://es.wikipedia.org/wiki/Herencia_(inform%C3%A1tica)) en la estructura de clases, https://docs.python.org/3/tutorial/classes.html#inheritance. Así, existiría una \"clase madre\", llamada por ejemplo \"MetodoPVI\" de la que se derivasen, por herencia, todos los métodos numéricos para resolución de PVI (Euler, Runge-Kutta, etc)."
   ]
  },
  {
   "cell_type": "code",
   "execution_count": null,
   "metadata": {},
   "outputs": [],
   "source": []
  }
 ],
 "metadata": {
  "kernelspec": {
   "display_name": "Python 3",
   "language": "python",
   "name": "python3"
  },
  "language_info": {
   "codemirror_mode": {
    "name": "ipython",
    "version": 3
   },
   "file_extension": ".py",
   "mimetype": "text/x-python",
   "name": "python",
   "nbconvert_exporter": "python",
   "pygments_lexer": "ipython3",
   "version": "3.8.2"
  }
 },
 "nbformat": 4,
 "nbformat_minor": 1
}
