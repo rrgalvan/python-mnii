{
 "cells": [
  {
   "cell_type": "markdown",
   "metadata": {},
   "source": [
    "# Modelo SEIR en la epidemia COVID-19\n",
    "\n",
    "Basado en el artículo \"[Análisis de la posible evoluciónde la epidemia de coronavirus COVID-19por medio de un modelo SEIR](https://belenus.unirioja.es/~jvarona/coronavirus/SEIR-coronavirus.pdf)\", de José Manuel Gutiérrez y Juan Luis Varona.\n",
    "\n",
    "El modelo **SEIR** es una adaptación del modelo SIR para epidemias, en las que se tiene en cuenta a una nueva clase de individuos que\n",
    "portan la enfermedad pero que, al hallarse en su periodo de incubación, no muestran síntomas (y **aún no pueden infectar a otros**). A estos individuos se les llama \"expuestos\".\n",
    "<img src=\"https://imagenes.20minutos.es/files/image_656_370/uploads/imagenes/2020/03/11/fernando-simon-explicando-como-frenar-la-curva-de-infecciones-de-coronavirus.jpeg\" width=\"400\">\n",
    "\n",
    "### Variables\n",
    "\n",
    "Como en el modelo SIR, se parte de una población de tamaño constante N en la que se ha desatado una epidemia. Pero el instante de tiempo t los individuos pueden se consideran cuatro posibles clases de individuos:\n",
    "\n",
    "- **Susceptibles** de infección ($S=S(t)$)\n",
    "- **Expuestos** ($E=E(t)$)\n",
    "- **Infectados** por coronavirus ($I=I(t)$)\n",
    "- **Recuperados** o fallecidos ($R=R(t)$)\n",
    "\n",
    "### Sistema de ecuaciones diferenciales: \n",
    "\n",
    "\\begin{align}\n",
    "S' &= - \\frac{\\beta}{N}\\, S\\, I,\n",
    "\\\\\n",
    "E' &= \\frac{\\beta}{N}\\, S\\, I - \\sigma E,\n",
    "\\\\\n",
    "I' &= \\sigma E - \\gamma I\n",
    "\\\\\n",
    "R' &= \\gamma\\, I.\n",
    "\\end{align}\n",
    "\n",
    "\n",
    "Estas ecuaciones se pueden desglosar como sigue:\n",
    "\n",
    "1. Primera ecuación: el número de seres **susceptibles** se decrementa, con parámetro $\\overline\\beta=\\beta/N$, cuando estos se convierten en infectados.\n",
    "2. Segunda ecuación: el número de **expuestos**:\n",
    "  - Se incrementa, con parámetro $\\overline\\beta=\\beta/N$, cuando seres susceptibles se infectan.\n",
    "  - Se decrementa, con parmetro $\\gamma$, cuando los infectados se recuperan (o fallecen).\n",
    "3. El número de **infectados** crece proporcionalmente a los expuestos y decrece proporcionalmente a la cantidad de infectados ya existentes  \n",
    "4. Cuarta ecuación: el número de **recuperados** se incrementa proporcionalmente al número de infectados, con parámetro $\\gamma$.\n",
    "\n",
    "En el instante inicial:\n",
    "- el número de infectados es $I(0) = I_0$,\n",
    "- los restantes individuos son susceptibles, $S(0) = N − I_0$,\n",
    "- y aún no hay recuperados, $R(0) = 0$."
   ]
  },
  {
   "cell_type": "code",
   "execution_count": 4,
   "metadata": {},
   "outputs": [],
   "source": [
    "# Suponemos variables globales betaN = beta/N y gamma.\n",
    "\n",
    "def fs(t, s, i, r): return -betaN * s*i\n",
    "def fi(t, s, i, r): return betaN * s*i - gamma * i \n",
    "def fr(t, s, i, r): return gamma * i "
   ]
  },
  {
   "cell_type": "code",
   "execution_count": 3,
   "metadata": {
    "collapsed": true
   },
   "outputs": [],
   "source": [
    "# Datos tomados del artículo\n"
   ]
  },
  {
   "cell_type": "code",
   "execution_count": null,
   "metadata": {
    "collapsed": true
   },
   "outputs": [],
   "source": []
  }
 ],
 "metadata": {
  "kernelspec": {
   "display_name": "Python 3",
   "language": "python",
   "name": "python3"
  },
  "language_info": {
   "codemirror_mode": {
    "name": "ipython",
    "version": 3
   },
   "file_extension": ".py",
   "mimetype": "text/x-python",
   "name": "python",
   "nbconvert_exporter": "python",
   "pygments_lexer": "ipython3",
   "version": "3.8.2"
  }
 },
 "nbformat": 4,
 "nbformat_minor": 2
}
