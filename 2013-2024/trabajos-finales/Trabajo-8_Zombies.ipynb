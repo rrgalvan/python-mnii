{
 "cells": [
  {
   "cell_type": "markdown",
   "metadata": {},
   "source": [
    "# Ataque zombie!\n",
    "\n",
    "Basado en el artículo \"[When zombies attack!: Mathematical modelling of an outbreak of zombie infection](https://loe.org/images/content/091023/Zombie%20Publication.pdf)\", de Philip Munz1, Ioan Hudea2, Joe Imad3 y Robert J. Smith\n",
    "\n",
    "### Variables\n",
    "\n",
    "En el modelo se consideran tres posibles clases de seres:\n",
    "- Susceptibles de convertirse en zombies (S)\n",
    "- Zombies (Z)\n",
    "- Eliminados o muertos (R, *removed*)\n",
    "\n",
    "### Ecuaciones\n",
    "\n",
    "\\begin{align}\n",
    "S' &= P - \\beta S Z - \\delta S\n",
    "\\\\\n",
    "Z' &= \\beta S Z + \\xi R - \\alpha SZ\n",
    "\\\\\n",
    "R' &= \\delta S + \\alpha SZ - \\xi R\n",
    "\\end{align}\n",
    "\n",
    "Estas ecuaciones se pueden desglosar como sigue:\n",
    "\n",
    "1. Primera ecuación: el número de seres **susceptibles**...\n",
    "    - Se incrementa con el tiempo según un factor constante P\n",
    "    - Se decrementa, con parámetro $\\beta$, cuando estos se convierten en zombies\n",
    "    - Se decrementa por muerte natural (sin convertirse en zombie) según un factor $\\delta$\n",
    "2. Segunda ecuación: el número de **zombies**:\n",
    "    - Se incrementa, con parámetro $\\beta$, cuando seres susceptibles se convierten en zombies\n",
    "    - Se incrementa, con parámetro $\\xi$, cuando seres eliminados (muertos) se convierten en zomies\n",
    "    - Se decrementa, con parmetro $\\alpha$, cuando son derrotados por humanos (susceptibles)\n",
    "3. Tercera ecuación: el número de **eliminados** (muertos o removed):\n",
    "    - Se incrementa, con parámetro $\\delta$, por muerte natural de humanos (susceptibles)\n",
    "    - Se incrementa, con parámetro $\\alpha$, por muerte de zombies (por parte de humanos susceptibles)\n",
    "    - Se decrementa, con pármetro $\\xi$, cuando pasan a ser muertos vivientes (zombies)\n"
   ]
  },
  {
   "cell_type": "code",
   "execution_count": 1,
   "metadata": {
    "collapsed": true
   },
   "outputs": [],
   "source": [
    "def fs(t, s, z, r): return P - beta*s*z - delta*s\n",
    "def fz(t, s, z, r): return beta*s*z + xi*r - alfa*s*z\n",
    "def fr(t, s, z, r): return delta*s + alfa*s*z - xi*r"
   ]
  },
  {
   "cell_type": "code",
   "execution_count": 3,
   "metadata": {
    "collapsed": true
   },
   "outputs": [],
   "source": [
    "# Datos tomados del artículo\n",
    "\n",
    "P=0 # No hay nacimientos (el tiempo es breve)\n",
    "delta=0 # No hay muerts naturals (el tiempo es breve)\n",
    "alfa=5.e-3\n",
    "beta = 9.5e-3\n",
    "xi = 1e-4\n",
    "delta = 1e-4\n",
    "\n",
    "N=500 # Población inicial (dato inicial para s)\n",
    "Nz=Nr = 0 # Datos iniciales para zombies y muertos"
   ]
  },
  {
   "cell_type": "code",
   "execution_count": null,
   "metadata": {
    "collapsed": true
   },
   "outputs": [],
   "source": []
  }
 ],
 "metadata": {
  "kernelspec": {
   "display_name": "Python 3",
   "language": "python",
   "name": "python3"
  },
  "language_info": {
   "codemirror_mode": {
    "name": "ipython",
    "version": 3
   },
   "file_extension": ".py",
   "mimetype": "text/x-python",
   "name": "python",
   "nbconvert_exporter": "python",
   "pygments_lexer": "ipython3",
   "version": "3.8.2"
  }
 },
 "nbformat": 4,
 "nbformat_minor": 2
}
