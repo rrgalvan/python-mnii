{
 "cells": [
  {
   "cell_type": "markdown",
   "metadata": {},
   "source": [
    "# El Lenguaje `Julia` para Métodos Muméricos\n",
    "\n",
    "Julia es un lenguaje de programación \n",
    "- orientado a las matemáticas y las cieencias\n",
    "- interpretado, fácil de utilizar, «similar a Python»\n",
    "- de alto nivel y de alto rendimiento (cercano a C)"
   ]
  },
  {
   "cell_type": "code",
   "execution_count": 3,
   "metadata": {},
   "outputs": [
    {
     "data": {
      "text/plain": [
       "euler"
      ]
     },
     "execution_count": 3,
     "metadata": {},
     "output_type": "execute_result"
    }
   ],
   "source": [
    "\"\"\"\n",
    "Resuelve un PVI mediante el método de euler en los instantes `t[i]`\n",
    "Por simplifidad, se supone que estos instantes están uniformemente espaciados.\n",
    "\"\"\"\n",
    "function euler(f, ya, t)\n",
    "    N = size(t)\n",
    "    h = (b-a)/N\n",
    "    y = zeros(N)\n",
    "    y[a] = y_a\n",
    "    tn = a\n",
    "    for n = 1:N  # 1, 2,...N\n",
    "        yn = y[n]\n",
    "        yn1 = yn + h*f(tn, yn)\n",
    "        y[n] = yn1\n",
    "        tn = tn + h\n",
    "    end\n",
    "end"
   ]
  },
  {
   "cell_type": "code",
   "execution_count": 2,
   "metadata": {},
   "outputs": [
    {
     "data": {
      "text/plain": [
       "(20,)"
      ]
     },
     "execution_count": 2,
     "metadata": {},
     "output_type": "execute_result"
    }
   ],
   "source": [
    "a, b = 0, 1\n",
    "N = 20\n",
    "t = LinRange(a, b, N)\n",
    "size(t)"
   ]
  },
  {
   "cell_type": "code",
   "execution_count": null,
   "metadata": {},
   "outputs": [],
   "source": []
  }
 ],
 "metadata": {
  "kernelspec": {
   "display_name": "Julia 1.5.1",
   "language": "julia",
   "name": "julia-1.5"
  },
  "language_info": {
   "file_extension": ".jl",
   "mimetype": "application/julia",
   "name": "julia",
   "version": "1.5.1"
  }
 },
 "nbformat": 4,
 "nbformat_minor": 4
}
