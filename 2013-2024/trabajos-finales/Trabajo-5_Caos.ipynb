{
 "cells": [
  {
   "cell_type": "markdown",
   "metadata": {},
   "source": [
    "# Caos!\n",
    "\n",
    "En 1963, Edward N. Lorenz publicó un modelo simplifcado para modelar la convección atmosférica. Este modelo se puede escribir en términos del siguiente sistema de tres ecuaciones diferenciales ordinarias (ecuaciones de Lorenz):\n",
    "\\begin{align}\n",
    "\\frac{\\mathrm{d}x}{\\mathrm{d}t} &= a (y - x), \\\\\n",
    "\\frac{\\mathrm{d}y}{\\mathrm{d}t} &= x (b - z) - y, \\\\\n",
    "\\frac{\\mathrm{d}z}{\\mathrm{d}t} &= x y - c z.\n",
    "\\end{align}\n",
    "En estas ecuaciones, $a,b,c$ son parámetros reales, que suelen considerarse positivos y determinan las propiedades de la solución.\n",
    "La característica más destacada de este sistema es el carácter caótico de sus soluciones:\n",
    "\n",
    "<img src=\"https://upload.wikimedia.org/wikipedia/commons/e/ef/Lorenz_Ro28-200px.png\">\n",
    "\n",
    "Aunque la palabra *caos* no tenga una definición matemática precisa, ésta se puede asociar a las siguientes característias:\n",
    "\n",
    "1. Alta sensibilidad (inestabilidad) de las soluciones respecto de los datos (parámetros y condiciones iniciales) del sistema.\n",
    "2. Existencia, en las órbitas de las soluciones, de ciclos que convergen a dos o más atractores diferentes \n",
    "\n",
    "En este trabajo, que tiene una *dificultad media/alta* se trata de \n",
    "1. Introducir históricamente las ecuaciones que forman el sistema de Loretnz\n",
    "2. Desarrollar métodos numéricos apropiados para su resolución numérica\n",
    "3. Estudiar gráficamente la solución para distintos datos\n",
    "\n",
    "Si algún alumno está interesado, se puede tratar de utilizar software para gráficos 3-d de alta calidad, como [Povray](http://www.povray.org/), para representar gráficas tan bellas como las que aparecen en http://paulbourke.net/fractals/lorenz/\n",
    "<img src=\"http://paulbourke.net/fractals/lorenz/lorenz4.png\",width=600,height=600>\n",
    "\n",
    "\n",
    "Más información:\n",
    "- https://en.wikipedia.org/wiki/Lorenz_system\n",
    "- https://www.math.hmc.edu/resources/odes/odearchitect/examples/a2.pdf\n",
    "- http://www.stsci.edu/~lbradley/seminar/attractors.html\n",
    "- (...)\n"
   ]
  },
  {
   "cell_type": "code",
   "execution_count": null,
   "metadata": {
    "collapsed": true
   },
   "outputs": [],
   "source": []
  }
 ],
 "metadata": {
  "kernelspec": {
   "display_name": "Python 3",
   "language": "python",
   "name": "python3"
  },
  "language_info": {
   "codemirror_mode": {
    "name": "ipython",
    "version": 3
   },
   "file_extension": ".py",
   "mimetype": "text/x-python",
   "name": "python",
   "nbconvert_exporter": "python",
   "pygments_lexer": "ipython3",
   "version": "3.8.2"
  }
 },
 "nbformat": 4,
 "nbformat_minor": 1
}
