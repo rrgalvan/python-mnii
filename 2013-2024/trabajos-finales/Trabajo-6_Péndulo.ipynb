{
 "cells": [
  {
   "cell_type": "markdown",
   "metadata": {},
   "source": [
    "# Péndulo con rozamiento\n",
    "\n",
    "En este trabajo se trata de resolver numéricamente la ecuación diferencial de segundo orden que representa el movimiento de un péndulo con rozamiento, de masa $m>0$, sujeto por medio de una varilla de longitud $l>0$.\n",
    "\n",
    "Esta ecuación se puede escribir como: hallar $x(t): [0,T] \\to \\mathbb{R}$ (donde $T>0$ es el instante de tiempo final, prefijado) tal que \n",
    "$$\n",
    "    x'' = -\\frac{g}{l} \\sin(x) -a x',\n",
    "$$\n",
    "donde $g \\approx 9.8$ es la fuereza de la gravedad y donde $x$ representa el ángulo $\\theta$ que forma la varilla del péndulo respecto a la dirección vertical. Para la existencia y unicidad de solución, deberemos añadir condiciones iniciales adecuadas. Es fácil convertir esta EDO de segundo grado en un sistema de dos ecuaciones diferenciales ordinarias:\n",
    "\\begin{align*}\n",
    "x ' &= y \\\\\n",
    "y ' & =  -\\frac{g}{l} \\sin(y) -a y'\n",
    "\\end{align*}\n",
    "\n",
    "La idea es resolver este sistema de ecuaciones mediante los métodos numéricos que se consideren adecuados, para distintos valores de los parámetros del sistema ($a \\ge 0$, $l>0$ y condiciones iniciales).\n",
    "\n",
    "Para poder interpretar el comportamiento del sistema, puede ser conveniente representar las trayectorias $(x(t), y(t))$, $t \\in [0,T]$ y extraer conclusiones sobre la evolución con el tiempo del péndulo.\n",
    "\n",
    "De forma opcional, se podría estudiar la forma representar animaciones de la evolución del péndulo con el tiempo.\n",
    "\n",
    "<img src=\"https://upload.wikimedia.org/wikipedia/commons/f/fa/PenduloTmg.gif\" />"
   ]
  },
  {
   "cell_type": "markdown",
   "metadata": {},
   "source": [
    "Más información:\n",
    "- https://en.wikipedia.org/wiki/Pendulum\n",
    "- http://verso.mat.uam.es/~pablo.angulo/edpan/solucion.entrega1.pdf\n",
    "- (...)"
   ]
  },
  {
   "cell_type": "code",
   "execution_count": null,
   "metadata": {},
   "outputs": [],
   "source": []
  }
 ],
 "metadata": {
  "kernelspec": {
   "display_name": "Python 3",
   "language": "python",
   "name": "python3"
  },
  "language_info": {
   "codemirror_mode": {
    "name": "ipython",
    "version": 3
   },
   "file_extension": ".py",
   "mimetype": "text/x-python",
   "name": "python",
   "nbconvert_exporter": "python",
   "pygments_lexer": "ipython3",
   "version": "3.8.2"
  }
 },
 "nbformat": 4,
 "nbformat_minor": 1
}
