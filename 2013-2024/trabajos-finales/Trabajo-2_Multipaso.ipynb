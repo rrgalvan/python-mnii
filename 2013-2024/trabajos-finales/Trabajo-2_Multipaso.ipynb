{
 "cells": [
  {
   "cell_type": "markdown",
   "metadata": {},
   "source": [
    "# Proyecto 2\n",
    "\n",
    "## Métodos multipaso\n",
    "\n",
    "En este proyecto se trata de estudiar los métodos multipaso para resolver problemas de valor inicial. Puede verse una introducción a estos métodos en los apuntes de la asignatura.\n",
    "\n",
    "En un método de $k$ pasos (sidendo $k\\in\\mathbb N$ fijo) para calcular la sucesión en la etapa $n+k$ se utilizan los valores obtenidos en $k$ etapas anteriores (o sea, en las etapas $n$, $n+1$,..., $n+k-1$), además de la etapa $n+k$.\n",
    "\n",
    "Antes de arrancar el método, sólo conocemos el valor de $y_0$. Por tanto, por tanto (para $n=0$), antes de calcular $y_k$, es necesario aproximar $y_1$, $y_2$, ..., $y_{k-1}$. Esto se suele hacer mediante un método de un paso adecuado (adecuado significa que tenga el mismo orden que el método multipaso que vayamos a utilizar).\n",
    "\n",
    "En esta práctica se propone:\n",
    "\n",
    "1. Elegir uno o varios problemas de valor inicial que se consideren interesantes (por ejemplo, extraídos de la bibliografía de esta u otras asignaturas, ecuaciones que provengan del ámbito de la Ciencia, etc.). \n",
    "\n",
    "2. Estudiar los métodos multipaso (al menos, a nivel de introducción, es decir, sin entrar en detalles).\n",
    "\n",
    "3. Utilizar algún método multipaso para su resolución numérica. Comprobar que la solución obtenida se corresponde con la solución exacta o bien con la solución aproximada que proporciona Python."
   ]
  },
  {
   "cell_type": "markdown",
   "metadata": {},
   "source": [
    "### Ejemplo 1: el método de Adams-Bashforth de orden 2\n",
    "\n",
    "Como modelo, se muestra un ejercicio en el que se usa esquema explícito de Adams-Bashforth de orden 2 (y de 2 pasos). Además de éste, otros esquemas interesantes (que se pueden usar en este proyecto, si) son:\n",
    "- Esquemas explícitos de Adams-Bashfort de mayor orden, por ejemplo de orden 4 (y 4 pasos).\n",
    "- Esquemas de tipo predictor-corrector, de orden 2 (2 pasos), de orden 4 (4 pasos) etc.\n",
    "\n",
    "Para conocer estos esquemas, consultar la bibliografía, los apuntes del año anterior o realizar una búsqueda en internet (o hablar con el profesor de la asignatura).\n",
    "\n",
    "Aproximar la solución del problema de Cauchy\n",
    "\n",
    "$$\n",
    "y'=x^2 - \\sqrt{y-e^{x/2}}, \\quad x\\in[0,2], \\quad\n",
    "y(0)=5,\n",
    "$$\n",
    "con paso $h=0.1$, mediante el método de Adams--Bashforth de orden dos (que es un método de dos pasos), descrito a continuación:\n",
    "> $$\n",
    "y_{n+2}=y_{n+1} + \\frac{h}{2} \\big[3f(t_{n+1},y_{n+1}) - f(t_{n},y_{n}) \\big].\n",
    "$$\n",
    "\n",
    "Para arrancar el método, es necesario aproximar $y_1$. Utilizar un método de un paso adecuado (es decir, un método de un paso que tenga orden $2$)."
   ]
  },
  {
   "cell_type": "markdown",
   "metadata": {},
   "source": [
    "#### Resolución del ejercicio anterior"
   ]
  },
  {
   "cell_type": "code",
   "execution_count": 11,
   "metadata": {},
   "outputs": [
    {
     "name": "stdout",
     "output_type": "stream",
     "text": [
      "Populating the interactive namespace from numpy and matplotlib\n"
     ]
    },
    {
     "name": "stderr",
     "output_type": "stream",
     "text": [
      "/usr/local/lib/python3.5/dist-packages/IPython/core/magics/pylab.py:161: UserWarning: pylab import has clobbered these variables: ['f']\n",
      "`%matplotlib` prevents importing * from pylab and numpy\n",
      "  \"\\n`%matplotlib` prevents importing * from pylab and numpy\"\n"
     ]
    }
   ],
   "source": [
    "%pylab inline\n",
    "\n",
    "\n",
    "def AB2(f, y_a, a, b, N):\n",
    "    \"\"\"Calcula la solución de y'=f(t,y) mediante el mét. AB2.\"\"\"\n",
    "    h = float(b-a)/N\n",
    "    t = linspace(a, b, N+1)\n",
    "    \n",
    "    # (1) Inicialización, por ejemplo mediante Euler-Cauchy (que tiene orden 2)\n",
    "    sol = [y_a] # Almacenamos y_0\n",
    "    yn = y_a\n",
    "    for i in range(1): # Sólo daremos un paso en E-Cauchy, calculando y_1\n",
    "        tn = t[i]\n",
    "        k1 = yn + h/2 * f(tn, yn)\n",
    "        yn = yn + h*f(tn + h/2, k1) # E-Cauchy\n",
    "        sol.append(yn)\n",
    "        \n",
    "    # (2) Iteraciones del método predictor-corrector AB2-AM2\n",
    "    y0 = sol[0]; y1 = sol[1];\n",
    "    f0 = f(a, y0); f1 = f(a+h, y1);\n",
    "    for i in range(N-1): # i = 0, 1, ..., N-2\n",
    "        # a) Cálculo de $y_{n+2}$\n",
    "        yn = yn + h/2 * (3*f1 - f0)\n",
    "        sol.append(yn)\n",
    "        # b) Preparamos la siguiente iteración\n",
    "        tn = t[i+2] # Ponemos el tiempo en $t_{n+2}$\n",
    "        f0 = f1; # Mediante esta asignación, evitamos tener que volver a evaluar f\n",
    "        f1 = f(tn, yn) # Calculamos f en $t_{n+2}$\n",
    "    return sol\n",
    "\n",
    "\n",
    "def f(t, y): return t**2 - sqrt(y-exp(t/2))\n",
    "a, b = 0, 2\n",
    "N = 20\n",
    "y_a = 5\n",
    "\n",
    "sol_ab2 = AB2(f, y_a, a, b, N)"
   ]
  },
  {
   "cell_type": "code",
   "execution_count": 13,
   "metadata": {},
   "outputs": [
    {
     "data": {
      "image/png": "[encoded data removed]",
      "text/plain": [
       "<matplotlib.figure.Figure at 0x7f915c7cbba8>"
      ]
     },
     "metadata": {},
     "output_type": "display_data"
    }
   ],
   "source": [
    "t = linspace(a, b, N+1)\n",
    "tt = linspace(a,b,100)\n",
    "from scipy.integrate import odeint\n",
    "def func(y, t): return f(t,y)\n",
    "sol_python = odeint(func, y_a, tt)\n",
    "ylim(3.5,5.1)\n",
    "plot(tt, sol_python, label=u'Solución Python')\n",
    "\n",
    "plot(t, sol_ab2, 'o', c='red',  label='AB2, paso ' + str(h))\n",
    "legend(loc='best')\n",
    "grid()"
   ]
  },
  {
   "cell_type": "markdown",
   "metadata": {},
   "source": [
    "### Ejemplo 2: El método de Adams-Bashforth de cuarto orden\n",
    "\n",
    "$$y_{n+4} = y_{n+3} + h\\left( \\frac{55}{24} f(t_{n+3}, y_{n+3}) - \\frac{59}{24} f(t_{n+2}, y_{n+2}) + \\frac{37}{24} f(t_{n+1}, y_{n+1}) - \\frac{3}{8} f(t_n, y_n) \\right) $$\n",
    "\n"
   ]
  },
  {
   "cell_type": "markdown",
   "metadata": {},
   "source": [
    "### Ejemplo 3: Un método predictor-corrector: Adams-Bashorth 2 + Adams-Moulton 2\n",
    "\n",
    "\n",
    "\\begin{align*}\n",
    "y^P_{n+2}&=y_{n+1} + \\frac{h}{2} \\big( 3f(t_{n+1},y_{n+1}) - f(t_{n},y_{n}) \\big) \\quad (\\text{cálculo de la predicción,  } y^P_{n+2}).\\\\\n",
    "y_{n+2}&=y_{n+1} + \\frac{h}{2} \\big( f(t_{n+2},y^P_{n+2}) + f(t_{n+1},y_{n+1}) \\big) \\quad(\\text{corrección para obtener  } y_{n+2}).\n",
    "\\end{align*}"
   ]
  },
  {
   "cell_type": "code",
   "execution_count": null,
   "metadata": {
    "collapsed": true
   },
   "outputs": [],
   "source": []
  }
 ],
 "metadata": {
  "kernelspec": {
   "display_name": "Python 3",
   "language": "python",
   "name": "python3"
  },
  "language_info": {
   "codemirror_mode": {
    "name": "ipython",
    "version": 3
   },
   "file_extension": ".py",
   "mimetype": "text/x-python",
   "name": "python",
   "nbconvert_exporter": "python",
   "pygments_lexer": "ipython3",
   "version": "3.8.2"
  }
 },
 "nbformat": 4,
 "nbformat_minor": 1
}
