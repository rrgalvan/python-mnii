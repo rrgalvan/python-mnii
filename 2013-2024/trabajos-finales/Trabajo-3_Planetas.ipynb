{
 "cells": [
  {
   "cell_type": "markdown",
   "metadata": {},
   "source": [
    "# Proyecto 3\n",
    "\n",
    "## Órbitas de los planetas\n",
    "\n",
    "### Resumen\n",
    "\n",
    "Un ejemplo muy interesantes de resolución de un sistema de ecuaciones diferenciales\n",
    "es la descripción del movimiento de los planetas, el cual tiene una solución analítica sencilla en coordenadas polares (que consiste en una órbita elíptica, lo que coincide con la primera ley de Kepler). No obstante, el solucionar numéricamente las ecuaciones nos permite acceder a problemas más complejos, en los que la solución no será conocida (en general), por ejemplo el [problema de los tres cuerpos](http://es.wikipedia.org/wiki/Problema_de_los_tres_cuerpos).\n",
    "\n",
    "La dificultad es que las ecuaciones de movimentos de dos planetas viene dado por un sistema de ecuaciones en coordenadas polares (con incógnias $\\rho$ y $\\theta$). Además, cada ecuación es de segundo orden, lo que en la práctica significa que cada una de ellas se descompone, a su vez, en dos ecuaciones de primer orden. En definitiva, tendremos que resolver un sistema formado por cuatro ecuaciones diferenciales de primer orden. \n",
    "\n",
    "Habitualmente, para su resolución se utilizan esquemas de Runge-Kuta (orden 4).\n",
    "En la siguiente página web, http://www.sc.ehu.es/sbweb/fisica/cursoJava/numerico/eDiferenciales/rungeKutta1/rungeKutta11.htm, se detalla su implementación en lenguaje Java. Una idea de para esta práctica es, simplemente, adaptar al lenguaje Python la implementación dada en la página anterior.\n",
    "\n",
    "O bien (si se desea) se pueden usar métodos más sencillos (y de menor orden) que Runge-Kutta. En el el Proyecto-4 (dedicado a problemas diferenciales de orden superior y a ecuaciones diferenciales) se da un ejemplo en el quese programa el método de Euler aplicado a un sistema de dos ecuaciones diferenciales.\n",
    "\n",
    "**Dificultad**: *Difícil*. Se puede contar con el apoyo del profesor de la asignatura. En la evaluación, se tendrá en cuenta esta dificultad (aumentando la calificación).\n"
   ]
  },
  {
   "cell_type": "markdown",
   "metadata": {},
   "source": [
    "### El problema físico\n",
    "\n",
    "La idea de esta práctica es crear un programa de ordenador que calcule la órbita de un planeta mediante resolución numérica de las ecuaciones diferenciales que determinan su posición a lo largo del tiempo. \n",
    "\n",
    "Para completar la práctica, sería muy buena idea el introducir (con el nivel de detalle que se crea conveniente) estas ecuaciones.\n",
    "\n",
    "Las ecuaciones diferenciales, que se deducen de las Ecuaciones de Kepler para la dinámica celeste, describen el movimiento de una partícula de masa $m$ (un planeta) bajo la atracción de una partícula (el sol) de masa $M$ que supondremos fija (y en la que situaremos el origen de coordenadas).\n",
    "\n",
    "Describimos el movimento del planeta como una función que, a cada instante $t$, le asigna su posición en el espacio, que se describe a través de ecuaciones pará métricas: en el instante $t$, $\\mathbf{x}(t)=(x_1(t),x_2(t))\\in \\mathbb{R}^2$ es la posición del planeta en coordenadas cartesianas (trabajaremos en $\\mathbb{R}^2$ porque los planetas describen órbitas planas).\n",
    "\n",
    "Mediante un razonamiento basado en la Ley de la Gravitación Universal de Newton, se pueden obtener las ecuaciones diferenciales que describen el movimiento del planeta. Para conocer los detalles, consultar (por ejemplo) el apartado 23 (página 159) del libro \"Ecuaciones diferenciales: cómo aprenderlas, cómo enseñarlas\" \n",
    "([ver extracto en Google Books](https://books.google.es/books?id=qWvBHNZFslUC&pg=PA159&lpg=PA159&dq=ecuaci%C3%B3n+diferencial+%C3%B3rbita+planeta&source=bl&ots=ooLCuqGdG8&sig=bdF-PGuY9LnmNWElf_d6N8SjWRE&hl=en&sa=X&ei=AipiVe0LiaJTu-iDaA&ved=0CEIQ6AEwBA#v=onepage&q=ecuaci%C3%B3n%20diferencial%20%C3%B3rbita%20planeta&f=false)).\n",
    "\n",
    "En la práctica, después de algunas simplificaciones, se tiene el sistema diferencial:\n",
    "\\begin{align*}\n",
    "x'' &= - \\frac{x}{r^3}, \\\\\n",
    "y'' &= - \\frac{y}{r^3},\n",
    "\\end{align*}\n",
    "junto a condiciones iniciales adecuadas http://www.sc.ehu.es/sbweb/fisica/cursoJava/numerico/eDiferenciales/rungeKutta1/rungeKutta11.htm.\n",
    "\n",
    "Sería un ejercicio de programación muy intersante el representar animaciones de las órbitas de uno o más planetas con el tiempo usando [PyGame](http://www.pygame.org/hifi.html) (por ejemplo, en este [tutorial en español])(http://razonartificial.com/tutoriales-pygame/), en cinco pasos se consigue abrir una ventana y dibujar una pelota que rebota dentro de ella)."
   ]
  },
  {
   "cell_type": "code",
   "execution_count": null,
   "metadata": {},
   "outputs": [],
   "source": []
  }
 ],
 "metadata": {
  "kernelspec": {
   "display_name": "Python 3",
   "language": "python",
   "name": "python3"
  },
  "language_info": {
   "codemirror_mode": {
    "name": "ipython",
    "version": 3
   },
   "file_extension": ".py",
   "mimetype": "text/x-python",
   "name": "python",
   "nbconvert_exporter": "python",
   "pygments_lexer": "ipython3",
   "version": "3.8.2"
  }
 },
 "nbformat": 4,
 "nbformat_minor": 1
}
