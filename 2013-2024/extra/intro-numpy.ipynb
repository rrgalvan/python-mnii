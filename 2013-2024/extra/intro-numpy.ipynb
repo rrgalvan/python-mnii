{
 "cells": [
  {
   "cell_type": "markdown",
   "metadata": {},
   "source": [
    "# Introducción a paquetes en Python. El paquete *numpy*\n",
    "\n",
    "En esta sección introducimos el uso de paquetes (también llamados módulos) en Python a través del módulo *numpy*.\n",
    "\n",
    "El módulo *numpy* es el estándar para cálculo numérico en Python. Es un paquete que provee a Python de estructuras de datos a las que denomiamos *arrays*, que se utilizan para objetos de tipo vectorial y matricial (o de rango mayor). Está implementado en C y Fortran de modo que, cuando los cálculos son vectorizados (formulados con vectores y matrices), el rendimiento es excelnte.\n",
    "\n",
    "## 1. Importando todo el contenido de numpy\n",
    "\n",
    "Para usar numpy necesitamos **importar el módulo**. La forma más sencilla consiste en **cargar todo su contenido** (excepto los nombres que empiecen por \"_\") dentro del espacio de nombres actual (el conjunto de variables, nombres de funciones, etc). Para ello, usamos la notación `import *`, que significa, \"importar todo el contenido\"."
   ]
  },
  {
   "cell_type": "code",
   "execution_count": 3,
   "metadata": {},
   "outputs": [],
   "source": [
    "from numpy import *"
   ]
  },
  {
   "cell_type": "markdown",
   "metadata": {},
   "source": [
    "De esta forma, tendremos acceso directo a *arrays* de matrices y vectores:"
   ]
  },
  {
   "cell_type": "code",
   "execution_count": 8,
   "metadata": {},
   "outputs": [
    {
     "data": {
      "text/plain": [
       "array([1, 2, 3, 4])"
      ]
     },
     "execution_count": 8,
     "metadata": {},
     "output_type": "execute_result"
    }
   ],
   "source": [
    "# Un vector: el argumento de la función array es una lista de Python\n",
    "v = array([1,2,3,4])\n",
    "# ¿Qué es v?\n",
    "v"
   ]
  },
  {
   "cell_type": "code",
   "execution_count": 11,
   "metadata": {},
   "outputs": [
    {
     "data": {
      "text/plain": [
       "array([[1, 2],\n",
       "       [3, 4]])"
      ]
     },
     "execution_count": 11,
     "metadata": {},
     "output_type": "execute_result"
    }
   ],
   "source": [
    "# Una matriz: el argumento de la función array es una lista anidada de Python\n",
    "A = array([[1, 2], [3, 4]])\n",
    "# ¿Qué es A?\n",
    "A"
   ]
  },
  {
   "cell_type": "markdown",
   "metadata": {},
   "source": [
    "Ambos objetos, *v* y *A*, **son del mismo tipo**: del tipo *ndarray* (*array* de *n*úmeros en *d*oble precisión), provisto por el módulo *numpy*:"
   ]
  },
  {
   "cell_type": "code",
   "execution_count": 20,
   "metadata": {},
   "outputs": [
    {
     "name": "stdout",
     "output_type": "stream",
     "text": [
      "Tipo de v: <class 'numpy.ndarray'>\n",
      "Tipo de A: <class 'numpy.ndarray'>\n"
     ]
    }
   ],
   "source": [
    "# La función \"type\" devuelve el tipo de dato al que pertenece una variable\n",
    "print(\"Tipo de v:\", type(v))\n",
    "print(\"Tipo de A:\", type(A))"
   ]
  },
  {
   "cell_type": "markdown",
   "metadata": {},
   "source": [
    "Sólo se diferencian en su forma:"
   ]
  },
  {
   "cell_type": "code",
   "execution_count": 21,
   "metadata": {},
   "outputs": [
    {
     "name": "stdout",
     "output_type": "stream",
     "text": [
      "Forma de v: (4,)\n",
      "Forma de A: (2, 2)\n"
     ]
    }
   ],
   "source": [
    "# La función \"shape\" devuelve la forma (tamaño en cada dirección)\n",
    "print(\"Forma de v:\", shape(v))\n",
    "print(\"Forma de A:\", shape(A))"
   ]
  },
  {
   "cell_type": "markdown",
   "metadata": {},
   "source": [
    "Tanto *v* como *A* almacenan en memoria 4 números reales, así que tienen el mismo tamaño:"
   ]
  },
  {
   "cell_type": "code",
   "execution_count": 27,
   "metadata": {},
   "outputs": [
    {
     "name": "stdout",
     "output_type": "stream",
     "text": [
      "Tamaño de v: 4\n",
      "Tamaño de A: 4\n"
     ]
    }
   ],
   "source": [
    "print(\"Tamaño de v:\", size(v))\n",
    "print(\"Tamaño de A:\", size(A))"
   ]
  },
  {
   "cell_type": "markdown",
   "metadata": {},
   "source": [
    "#### ¿Por qué *arrays* sí y listas no?\n",
    "Por ahora, los datos de tipo *numpy.ndarray* parecen ser simplemente listas anidadas.  Entonces, ¿por qué \n",
    "no usar simplemente listas para hacer cálculos, en lugar de crear un tipo nuevo de *array* ?\n",
    "\n",
    "Existen varias razones:\n",
    "\n",
    "- Las listas Python son muy generales (pueden contener cualquier tipo de objeto). El implementar funciones matemáticas (suma, producto, etc.) para las listas es *poco eficiente* debido la asignación dinámica que utiliza este tipo de datos.\n",
    "- Pero los *arrays* de *numpy* no son listas: tienen tipo estático y homogéneo (el tipo de elementos que contienen es determinado cuando se crea el arreglo). Por este motivo:\n",
    "    - Son eficientes en el uso de memoria.\n",
    "    - Permiten desarrollar implementaciones rápidas de funciones matemáticas (multiplicación, suma, etc) usando lenguajes compilados (se usan C y Fortran).\n",
    "    \n",
    "Los siguientes ejemplos ilustran cómo es posible operar con *arrays* (pero por contra, son menos flexibles que las listas). "
   ]
  },
  {
   "cell_type": "code",
   "execution_count": 45,
   "metadata": {},
   "outputs": [
    {
     "data": {
      "text/plain": [
       "array([ 1.5,  3. ,  4.5,  6. ])"
      ]
     },
     "execution_count": 45,
     "metadata": {},
     "output_type": "execute_result"
    }
   ],
   "source": [
    "0.5*v + v"
   ]
  },
  {
   "cell_type": "code",
   "execution_count": 80,
   "metadata": {},
   "outputs": [
    {
     "data": {
      "text/plain": [
       "array([ 2.07492047,  1.87944495,  0.94288698,  0.66899543])"
      ]
     },
     "execution_count": 80,
     "metadata": {},
     "output_type": "execute_result"
    }
   ],
   "source": [
    "cos(v) + sin(v) + log(2*v) # Las funciones provistas por numpy pueden actuar sobre arrays"
   ]
  },
  {
   "cell_type": "code",
   "execution_count": 64,
   "metadata": {},
   "outputs": [
    {
     "data": {
      "text/plain": [
       "array([[ 1,  4],\n",
       "       [ 9, 16]])"
      ]
     },
     "execution_count": 64,
     "metadata": {},
     "output_type": "execute_result"
    }
   ],
   "source": [
    "# En una matriz, calculamos el producto ELEMENTO a ELEMENTO..\n",
    "A*A"
   ]
  },
  {
   "cell_type": "code",
   "execution_count": 65,
   "metadata": {},
   "outputs": [
    {
     "data": {
      "text/plain": [
       "array([[ 7, 10],\n",
       "       [15, 22]])"
      ]
     },
     "execution_count": 65,
     "metadata": {},
     "output_type": "execute_result"
    }
   ],
   "source": [
    "# ... o el producto matricial\n",
    "dot(A,A)"
   ]
  },
  {
   "cell_type": "code",
   "execution_count": 69,
   "metadata": {},
   "outputs": [
    {
     "ename": "AttributeError",
     "evalue": "'numpy.ndarray' object has no attribute 'append'",
     "output_type": "error",
     "traceback": [
      "\u001b[1;31m---------------------------------------------------------------------------\u001b[0m",
      "\u001b[1;31mAttributeError\u001b[0m                            Traceback (most recent call last)",
      "\u001b[1;32m<ipython-input-69-aa856d67d83e>\u001b[0m in \u001b[0;36m<module>\u001b[1;34m()\u001b[0m\n\u001b[0;32m      1\u001b[0m \u001b[0mlista\u001b[0m \u001b[1;33m=\u001b[0m  \u001b[1;33m[\u001b[0m\u001b[1;36m1\u001b[0m\u001b[1;33m,\u001b[0m\u001b[1;36m2\u001b[0m\u001b[1;33m,\u001b[0m\u001b[1;36m3\u001b[0m\u001b[1;33m,\u001b[0m\u001b[1;36m4\u001b[0m\u001b[1;33m]\u001b[0m\u001b[1;33m\u001b[0m\u001b[0m\n\u001b[0;32m      2\u001b[0m \u001b[0mlista\u001b[0m\u001b[1;33m.\u001b[0m\u001b[0mappend\u001b[0m\u001b[1;33m(\u001b[0m\u001b[1;36m5\u001b[0m\u001b[1;33m)\u001b[0m \u001b[1;31m# OK\u001b[0m\u001b[1;33m\u001b[0m\u001b[0m\n\u001b[1;32m----> 3\u001b[1;33m \u001b[0mv\u001b[0m\u001b[1;33m.\u001b[0m\u001b[0mappend\u001b[0m\u001b[1;33m(\u001b[0m\u001b[1;36m5\u001b[0m\u001b[1;33m)\u001b[0m \u001b[1;31m# Error los arrays tiene tamaño fijo y no se pueden añadir más elementos!\u001b[0m\u001b[1;33m\u001b[0m\u001b[0m\n\u001b[0m",
      "\u001b[1;31mAttributeError\u001b[0m: 'numpy.ndarray' object has no attribute 'append'"
     ]
    }
   ],
   "source": [
    "lista =  [1,2,3,4]\n",
    "lista.append(5) # OK\n",
    "v.append(5) # Error los arrays tiene tamaño fijo y no se pueden añadir más elementos!"
   ]
  },
  {
   "cell_type": "code",
   "execution_count": 76,
   "metadata": {},
   "outputs": [
    {
     "ename": "ValueError",
     "evalue": "invalid literal for int() with base 10: 'hola'",
     "output_type": "error",
     "traceback": [
      "\u001b[1;31m---------------------------------------------------------------------------\u001b[0m",
      "\u001b[1;31mValueError\u001b[0m                                Traceback (most recent call last)",
      "\u001b[1;32m<ipython-input-76-b8377bed8d3b>\u001b[0m in \u001b[0;36m<module>\u001b[1;34m()\u001b[0m\n\u001b[0;32m      1\u001b[0m \u001b[0mA\u001b[0m\u001b[1;33m[\u001b[0m\u001b[1;36m0\u001b[0m\u001b[1;33m,\u001b[0m\u001b[1;36m1\u001b[0m\u001b[1;33m]\u001b[0m \u001b[1;33m=\u001b[0m \u001b[1;36m3.2\u001b[0m \u001b[1;31m# OK, acceso a la primera fila y segunda columna\u001b[0m\u001b[1;33m\u001b[0m\u001b[0m\n\u001b[1;32m----> 2\u001b[1;33m \u001b[0mA\u001b[0m\u001b[1;33m[\u001b[0m\u001b[1;36m1\u001b[0m\u001b[1;33m,\u001b[0m\u001b[1;36m1\u001b[0m\u001b[1;33m]\u001b[0m \u001b[1;33m=\u001b[0m \u001b[1;34m\"hola\"\u001b[0m \u001b[1;31m# Error, los arrays tienen tipo de dato homogéneo, no valen cadenas de caracteres\u001b[0m\u001b[1;33m\u001b[0m\u001b[0m\n\u001b[0m",
      "\u001b[1;31mValueError\u001b[0m: invalid literal for int() with base 10: 'hola'"
     ]
    }
   ],
   "source": [
    "A[0,1] = 3.2 # OK, acceso a la primera fila y segunda columna\n",
    "A[1,1] = \"hola\" # Error, los arrays tienen tipo de dato homogéneo, no valen cadenas de caracteres"
   ]
  },
  {
   "cell_type": "markdown",
   "metadata": {},
   "source": [
    "### Inconvenientes de cargar todo el contenido de un paquete"
   ]
  },
  {
   "cell_type": "markdown",
   "metadata": {},
   "source": [
    "Al principio de esta sección comenzamos importando todo el contenido de numpy en el espacio de nombres actual:"
   ]
  },
  {
   "cell_type": "code",
   "execution_count": 118,
   "metadata": {
    "collapsed": true
   },
   "outputs": [],
   "source": [
    "from numpy import *"
   ]
  },
  {
   "cell_type": "markdown",
   "metadata": {},
   "source": [
    "Esto resulta muy cómodo, pues podemos usar directamente todos los nombres (funciones, variables) de este módulo. Pero el importar todo el contenido de un módulo puede tener efectos perniciosos, como se muestra a continuación:"
   ]
  },
  {
   "cell_type": "code",
   "execution_count": 120,
   "metadata": {},
   "outputs": [
    {
     "name": "stdout",
     "output_type": "stream",
     "text": [
      "Supongamos que el tamaño de una muestra es: 3405 . Perfecto\n",
      "Pero... ¿qué pasa? Ahora el tamaño de la muestra es: <function size at 0x7f752ffd8950> ¡¡ERROR TERRIBLE!!\n",
      "¿Qué es ahora la variable 'size'?: <class 'function'> ...es el nombre de una función de numpy.\n"
     ]
    }
   ],
   "source": [
    "size = 3405\n",
    "print(\"Supongamos que el tamaño de una muestra es:\", size, \". Perfecto\")\n",
    "# ...después de muchas líneas de código, queremos trabajar con numpy...\n",
    "from numpy import *\n",
    "# ...y después de muchas más líneas de código...\n",
    "if(size != 3405):\n",
    "    print(\"Pero... ¿qué pasa? Ahora el tamaño de la muestra es:\", size, \"¡¡ERROR TERRIBLE!!\")\n",
    "    print(\"¿Qué es ahora la variable 'size'?:\", type(size), \"...es el nombre de una función de numpy.\")"
   ]
  },
  {
   "cell_type": "markdown",
   "metadata": {},
   "source": [
    "A continuación, veremos la fórma de trabajar aconsejada en Python. Antes de ello, reinicamos python para partir de un espacio de nombres limpio."
   ]
  },
  {
   "cell_type": "code",
   "execution_count": 122,
   "metadata": {},
   "outputs": [],
   "source": [
    "%reset -f"
   ]
  },
  {
   "cell_type": "markdown",
   "metadata": {
    "collapsed": true
   },
   "source": [
    "## 2. Uso de forma explícita del paquete numpy"
   ]
  },
  {
   "cell_type": "markdown",
   "metadata": {},
   "source": [
    "El cargar todo el contenido de un paquete puede originar errores, como el anteior. En general, es más aconsejable usar los paquetes de forma explícita, como se comenta a continuación."
   ]
  },
  {
   "cell_type": "code",
   "execution_count": 123,
   "metadata": {},
   "outputs": [],
   "source": [
    "import numpy as np"
   ]
  },
  {
   "cell_type": "markdown",
   "metadata": {},
   "source": [
    "En este caso, hemos cargado el paquete *numpy* (con el alias *np*, que se usa habitualmente). Pero su contenido no se carga en el espacio de nombres actual y la funciones de *numpy* se pueden usar como \"np.funcion\" (y de forma similar las variables). Algunos ejemplos:"
   ]
  },
  {
   "cell_type": "code",
   "execution_count": 124,
   "metadata": {},
   "outputs": [],
   "source": [
    "A = np.array([[1,2,3],[4,5,6]])"
   ]
  },
  {
   "cell_type": "code",
   "execution_count": 126,
   "metadata": {},
   "outputs": [
    {
     "data": {
      "text/plain": [
       "6"
      ]
     },
     "execution_count": 126,
     "metadata": {},
     "output_type": "execute_result"
    }
   ],
   "source": [
    "np.size(A) # Tamaño"
   ]
  },
  {
   "cell_type": "code",
   "execution_count": 128,
   "metadata": {},
   "outputs": [
    {
     "data": {
      "text/plain": [
       "array([[ 0.76159416,  0.96402758,  0.99505475],\n",
       "       [ 0.9993293 ,  0.9999092 ,  0.99998771]])"
      ]
     },
     "execution_count": 128,
     "metadata": {},
     "output_type": "execute_result"
    }
   ],
   "source": [
    "B = np.tanh(A) # Tangente hiperbólica de los elementos de A\n",
    "B"
   ]
  },
  {
   "cell_type": "markdown",
   "metadata": {},
   "source": [
    "### Para saber más...\n",
    "...se puede consultar por ejemplo la **lección 2 de las clases de Python científico** de J.R.Johansson, https://github.com/gfrubi/clases-python-cientifico/blob/master/Lecture-2-Numpy.ipynb (traducidas/adaptasdas por G.F. Rubilar, https://github.com/gfrubi/clases-python-cientifico/blob/master/Lecture-2-Numpy.ipynb), en las que se ha inspirado, en parte, este cuaderno"
   ]
  },
  {
   "cell_type": "code",
   "execution_count": null,
   "metadata": {
    "collapsed": true
   },
   "outputs": [],
   "source": []
  }
 ],
 "metadata": {
  "kernelspec": {
   "display_name": "Python 3",
   "language": "python",
   "name": "python3"
  },
  "language_info": {
   "codemirror_mode": {
    "name": "ipython",
    "version": 3
   },
   "file_extension": ".py",
   "mimetype": "text/x-python",
   "name": "python",
   "nbconvert_exporter": "python",
   "pygments_lexer": "ipython3",
   "version": "3.6.8"
  }
 },
 "nbformat": 4,
 "nbformat_minor": 1
}
