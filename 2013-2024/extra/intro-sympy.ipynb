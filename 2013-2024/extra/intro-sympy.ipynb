{
 "cells": [
  {
   "cell_type": "markdown",
   "metadata": {},
   "source": [
    "Breve introducción a Python simbólico (paquete SymPy)"
   ]
  },
  {
   "cell_type": "markdown",
   "metadata": {},
   "source": [
    "## Introducción"
   ]
  },
  {
   "cell_type": "markdown",
   "metadata": {},
   "source": [
    "El paquete *sympy* permite realizar en Python tareas como la manipulación de expresiones matemáticas, derivación, etc. \n",
    "\n",
    "En este caso, optamos por usar de forma implícita algunos de los contenidos de *sympy*. En concreto, procediendo como se indica en la siguiente sección, podemos iniciar una sesion de *sympy* adaptada a IPython Notebook. Por defecto, sólo se cargarán algunas variables simbólicas: \n",
    "\n",
    "* x, y, z, t, k, m y n: variables númericas, \n",
    "* f, g y h: nombres simbólicos para funciones funciones\n",
    "\n",
    "Si se necesita añadir otras variables simbólicas se pueden usar, por ejemplo, las funciones `var` o `symbols`. Para más detalles, véase por ejemplo la [sección *basic operations*](http://docs.sympy.org/latest/tutorial/basic_operations.html) (localizada en el [tutorial de sympy](http://docs.sympy.org/latest/tutorial)).\n",
    "\n",
    "A continuación, se detalla cómo activar el entorno simbólico. Pero antes, una observación importante: una vez se inicializa sympy de forma implícita (como se hace más abajo), el entorno simbólico estará activado permanentemente dentro del espacio de nombres actuales (salvo que se reinicie el núcleo). Por eso, si nuestro interés principal es el cálculo numérico en coma flotante, es una buena costumbre el usar sympy en un fichero (o en un cuaderno) independiente, en el que exclusivamente se realicen tareas simbólicas (evitando posibles conflictos con paquetes numéricos como *numpy* o *scipy*)."
   ]
  },
  {
   "cell_type": "markdown",
   "metadata": {},
   "source": [
    "## Activación de SymPy y primeros ejemplos"
   ]
  },
  {
   "cell_type": "code",
   "execution_count": 1,
   "metadata": {
    "collapsed": false
   },
   "outputs": [
    {
     "name": "stdout",
     "output_type": "stream",
     "text": [
      "IPython console for SymPy 0.7.6 (Python 3.4.3-64-bit) (ground types: python)\n",
      "\n",
      "These commands were executed:\n",
      ">>> from __future__ import division\n",
      ">>> from sympy import *\n",
      ">>> x, y, z, t = symbols('x y z t')\n",
      ">>> k, m, n = symbols('k m n', integer=True)\n",
      ">>> f, g, h = symbols('f g h', cls=Function)\n",
      ">>> init_printing()\n",
      "\n",
      "Documentation can be found at http://www.sympy.org\n"
     ]
    }
   ],
   "source": [
    "import sympy # Cargar paquete de Python Simbólico\n",
    "sympy.init_session() # Iniciar sesión simbólica, cargando implícitamente variables en el espacio de nombres actual "
   ]
  },
  {
   "cell_type": "markdown",
   "metadata": {},
   "source": [
    "Introducimos una primera expresión simbólica (usando las variables x e y):"
   ]
  },
  {
   "cell_type": "code",
   "execution_count": 2,
   "metadata": {
    "collapsed": false
   },
   "outputs": [
    {
     "data": {
      "text/plain": [
       "1/y + 1/x"
      ]
     },
     "execution_count": 2,
     "metadata": {},
     "output_type": "execute_result"
    }
   ],
   "source": [
    "1/x + 1/y"
   ]
  },
  {
   "cell_type": "markdown",
   "metadata": {},
   "source": [
    "Factorizamos esta expresión. Para ello usamos la función `factor()` sobre la expresión anterior (que se referencia mediante el operador `_` (guión bajo)). Podemos definir nuevas variables y realizar distinto tipo de operaciones simbólicas "
   ]
  },
  {
   "cell_type": "code",
   "execution_count": 3,
   "metadata": {
    "collapsed": false
   },
   "outputs": [
    {
     "data": {
      "text/plain": [
       "(x + y)/(x*y)"
      ]
     },
     "execution_count": 3,
     "metadata": {},
     "output_type": "execute_result"
    }
   ],
   "source": [
    "factor(_) # El operador _ señala a la salida anterior"
   ]
  },
  {
   "cell_type": "code",
   "execution_count": 4,
   "metadata": {
    "collapsed": false
   },
   "outputs": [
    {
     "data": {
      "text/plain": [
       "(x + y)**3/(x**3*y**3)"
      ]
     },
     "execution_count": 4,
     "metadata": {},
     "output_type": "execute_result"
    }
   ],
   "source": [
    "cociente = _\n",
    "cociente**3"
   ]
  },
  {
   "cell_type": "code",
   "execution_count": 5,
   "metadata": {
    "collapsed": false
   },
   "outputs": [
    {
     "data": {
      "text/plain": [
       "sqrt(y**(-3) + 3/(x*y**2) + 3/(x**2*y) + x**(-3))"
      ]
     },
     "execution_count": 5,
     "metadata": {},
     "output_type": "execute_result"
    }
   ],
   "source": [
    "expand(sqrt(cociente**3))"
   ]
  },
  {
   "cell_type": "markdown",
   "metadata": {},
   "source": [
    "## Derivadas e integrales simbólicas"
   ]
  },
  {
   "cell_type": "markdown",
   "metadata": {},
   "source": [
    "A continuación, definimos una función y calculamos su derivada:"
   ]
  },
  {
   "cell_type": "code",
   "execution_count": 6,
   "metadata": {
    "collapsed": false
   },
   "outputs": [
    {
     "name": "stdout",
     "output_type": "stream",
     "text": [
      "f(x,y) = sin((x + y)**5/(x**5*y**5))\n",
      "Derivada parcial respecto a x:\n"
     ]
    },
    {
     "data": {
      "text/plain": [
       "(5*(x + y)**4/(x**5*y**5) - 5*(x + y)**5/(x**6*y**5))*cos((x + y)**5/(x**5*y**5))"
      ]
     },
     "execution_count": 6,
     "metadata": {},
     "output_type": "execute_result"
    }
   ],
   "source": [
    "def f(x,y): return sin(cociente**5)\n",
    "print(\"f(x,y) =\", f(x,y))\n",
    "print(\"Derivada parcial respecto a x:\")\n",
    "diff(f(x,y), x) # Derivada respecto a x"
   ]
  },
  {
   "cell_type": "markdown",
   "metadata": {},
   "source": [
    "Muchas de las funciones simbólicas están disponibles usando la sintaxis de orientación a objetos (también `factor()` y `dif()`, funciones que vimos antes). Por ejemplo, para tomar $x=\\log(\\pi)$ en la función anterior (sustituir $x$ por $\\log(\\pi)$) podemos usar la función `subs()`:"
   ]
  },
  {
   "cell_type": "code",
   "execution_count": 7,
   "metadata": {
    "collapsed": false
   },
   "outputs": [
    {
     "data": {
      "text/plain": [
       "sin((y + log(pi))**5/(y**5*log(pi)**5))"
      ]
     },
     "execution_count": 7,
     "metadata": {},
     "output_type": "execute_result"
    }
   ],
   "source": [
    "f(x,y).subs(x,log(pi))"
   ]
  },
  {
   "cell_type": "markdown",
   "metadata": {},
   "source": [
    "Véase que la variable `pi` ha cambiado y ahora es simbólica. También las funciones habituales (como `log()`, `sin()`, `cos()`, etc.) son ahora simbólicas:"
   ]
  },
  {
   "cell_type": "code",
   "execution_count": 8,
   "metadata": {
    "collapsed": false
   },
   "outputs": [
    {
     "data": {
      "text/plain": [
       "cos(2)"
      ]
     },
     "execution_count": 8,
     "metadata": {},
     "output_type": "execute_result"
    }
   ],
   "source": [
    "cos(1+1)"
   ]
  },
  {
   "cell_type": "markdown",
   "metadata": {},
   "source": [
    "Podemos calcular integrales simbólicas fácilmente:"
   ]
  },
  {
   "cell_type": "code",
   "execution_count": 9,
   "metadata": {
    "collapsed": false
   },
   "outputs": [
    {
     "data": {
      "text/plain": [
       "exp(x**2)/2"
      ]
     },
     "execution_count": 9,
     "metadata": {},
     "output_type": "execute_result"
    }
   ],
   "source": [
    "integrate(x*E**(x**2),x) # En simbólico, el número e se escribe con mayúsculas."
   ]
  },
  {
   "cell_type": "markdown",
   "metadata": {},
   "source": [
    "Por último: la función `plot()` es actualizada por el paquete `SymPy` y actúa de de forma diferente a la función habtual (contenida en el paquete `matplotlib`, que suele ser cargado automáticamente por *Ipython Notebook*). Un ejemplo:"
   ]
  },
  {
   "cell_type": "code",
   "execution_count": 10,
   "metadata": {
    "collapsed": false
   },
   "outputs": [
    {
     "data": {
      "text/plain": [
       "<sympy.plotting.plot.Plot at 0x7f56a43f3908>"
      ]
     },
     "execution_count": 10,
     "metadata": {},
     "output_type": "execute_result"
    }
   ],
   "source": [
    "plot(x**2*cos(1/x), (x, -pi/4, pi/4))"
   ]
  },
  {
   "cell_type": "markdown",
   "metadata": {},
   "source": [
    "### Para saber más,\n",
    "véase el [tutorial de SymPy](http://docs.sympy.org/latest/tutorial/index.html) (o [documentación adicional](http://docs.sympy.org/latest/index.html) disponible en internet)."
   ]
  }
 ],
 "metadata": {
  "kernelspec": {
   "display_name": "Python 3",
   "language": "python",
   "name": "python3"
  },
  "language_info": {
   "codemirror_mode": {
    "name": "ipython",
    "version": 3
   },
   "file_extension": ".py",
   "mimetype": "text/x-python",
   "name": "python",
   "nbconvert_exporter": "python",
   "pygments_lexer": "ipython3",
   "version": "3.4.3+"
  }
 },
 "nbformat": 4,
 "nbformat_minor": 0
}
